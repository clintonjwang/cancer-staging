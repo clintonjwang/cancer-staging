{
 "cells": [
  {
   "cell_type": "code",
   "execution_count": 65,
   "metadata": {},
   "outputs": [],
   "source": [
    "study = \"1.2.392.200036.9116.2.5.1.48.1216060901.1336345628.42\"\n",
    "series = \"1.2.392.200036.9116.2.1216060901.1336346550.3.1004100001.7\"\n",
    "instance = \"1.2.392.200036.9116.2.1216060901.1336346841.684518.7.1277\"\n",
    "query_vna(user='wangkcc4', pw='', filename=\"test.dcm\", study=study, series=series, instance=instance)"
   ]
  },
  {
   "cell_type": "code",
   "execution_count": 62,
   "metadata": {
    "scrolled": true
   },
   "outputs": [],
   "source": [
    "import requests\n",
    "\n",
    "def query_vna(user, pw, filename, study=None, series=None, instance=None, region='test', metadata=False):\n",
    "\n",
    "    if region == 'test':\n",
    "        host = 'vnatest1vt'\n",
    "        port = '8083'\n",
    "    elif region == 'prod':\n",
    "        host = 'TBD'\n",
    "        port = 'TBD'\n",
    "    else:\n",
    "        raise ValueError(\"Unsupported region\")\n",
    "\n",
    "\n",
    "    if metadata:\n",
    "        url = ''.join(['http://', host, ':', port,\n",
    "                       \"/AcuoREST/dicomrs/retrieve/studies/\",\n",
    "                        study])\n",
    "\n",
    "        if series is not None:\n",
    "            url += \"/series/\" + series\n",
    "            if instance is not None:\n",
    "                url += \"/instances/\" + instance\n",
    "\n",
    "        url += \"/metadata\"\n",
    "\n",
    "    else:\n",
    "        url = ''.join(['http://', host, ':', port,\n",
    "                       \"/AcuoREST/wadoget?requestType=WADO&contentType=application/dicom&studyUID=\",\n",
    "                        study])\n",
    "\n",
    "        if series is not None:\n",
    "            url += \"&seriesUID=\" + series\n",
    "            if instance is not None:\n",
    "                url += \"&objectUID=\" + instance\n",
    "\n",
    "    r = requests.get(url, auth=(user, pw)) #, headers=headers\n",
    "\n",
    "    with open(filename, 'wb') as fd:\n",
    "        for chunk in r.iter_content(chunk_size=128):\n",
    "            fd.write(chunk)\n",
    "            \n",
    "    if r.status_code != 200:\n",
    "        raise ValueError(\"Invalid request (response code %d)\" % r.status_code)"
   ]
  },
  {
   "cell_type": "code",
   "execution_count": 60,
   "metadata": {},
   "outputs": [
    {
     "data": {
      "text/plain": [
       "{'Transfer-Encoding': 'chunked', 'Cache-Control': 'no-cache', 'Access-Control-Allow-Origin': '*', 'Date': 'Fri, 22 Sep 2017 20:53:33 GMT', 'Content-Type': 'multipart/related; boundary=55EDEE38B0E7054DB8704E8FC21B7D4F;start=\"0@8F590402E9196D4EBBD9D9901038EB85\";type=\"application/dicom+xml\"', 'Access-Control-Allow-Methods': 'GET, OPTIONS', 'Server': 'Microsoft-HTTPAPI/2.0', 'Access-Control-Allow-Headers': 'Origin, Content-Type, Accept, Authorization'}"
      ]
     },
     "execution_count": 60,
     "metadata": {},
     "output_type": "execute_result"
    }
   ],
   "source": [
    "r.headers"
   ]
  },
  {
   "cell_type": "code",
   "execution_count": 61,
   "metadata": {},
   "outputs": [
    {
     "data": {
      "text/plain": [
       "200"
      ]
     },
     "execution_count": 61,
     "metadata": {},
     "output_type": "execute_result"
    }
   ],
   "source": [
    "r.status_code"
   ]
  },
  {
   "cell_type": "code",
   "execution_count": 76,
   "metadata": {
    "collapsed": true
   },
   "outputs": [],
   "source": []
  }
 ],
 "metadata": {
  "kernelspec": {
   "display_name": "Python 3",
   "language": "python",
   "name": "python3"
  },
  "language_info": {
   "codemirror_mode": {
    "name": "ipython",
    "version": 3
   },
   "file_extension": ".py",
   "mimetype": "text/x-python",
   "name": "python",
   "nbconvert_exporter": "python",
   "pygments_lexer": "ipython3",
   "version": "3.5.0"
  }
 },
 "nbformat": 4,
 "nbformat_minor": 2
}
