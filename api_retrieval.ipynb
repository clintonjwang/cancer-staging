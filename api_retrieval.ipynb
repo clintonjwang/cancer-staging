{
 "cells": [
  {
   "cell_type": "code",
   "execution_count": 64,
   "metadata": {},
   "outputs": [],
   "source": [
    "study = \"1.2.392.200036.9116.2.5.1.48.1216060901.1336345628.42\"\n",
    "series = \"1.2.392.200036.9116.2.1216060901.1336346550.3.1004100001.7\"\n",
    "instance = \"1.2.392.200036.9116.2.1216060901.1336346841.684518.7.1277\"\n",
    "r, url = query_vna(user='wangkcc4', pw='', filename=\"test.dcm\", study=study, series=series, instance=instance)"
   ]
  },
  {
   "cell_type": "code",
   "execution_count": null,
   "metadata": {
    "collapsed": true
   },
   "outputs": [],
   "source": [
    "#http://server:port/ACUORest/dicomrs/search/studies?PatientID=212121&includefield=all\n",
    "#http://server:port/ACUORest/dicomrs/search/studies?00100010=A*&limit=1\n",
    "#http://server:port/ACUORest/dicomrs/search/studies/1.2.840.113619.2.30.1.1762288588.1465.911090938.258/series"
   ]
  },
  {
   "cell_type": "code",
   "execution_count": 91,
   "metadata": {
    "scrolled": true
   },
   "outputs": [],
   "source": [
    "r, url = search_vna(user='wangkcc4', pw='', region=\"prod\", patientID=\"2\")"
   ]
  },
  {
   "cell_type": "code",
   "execution_count": 90,
   "metadata": {
    "collapsed": true
   },
   "outputs": [],
   "source": [
    "def search_vna(user, pw, patientID=None, region='test'):\n",
    "\n",
    "    if region == 'test':\n",
    "        host = 'vnatest1vt'\n",
    "        port = '8083'\n",
    "    elif region == 'prod':\n",
    "        host = '10.47.11.220'\n",
    "        port = '8083'\n",
    "    else:\n",
    "        raise ValueError(\"Unsupported region\")\n",
    "\n",
    "\n",
    "    url = ''.join(['http://', host, ':', port,\n",
    "                   \"/AcuoREST/dicomrs/search/studies?PatientID=\",\n",
    "                    patientID,\"*\"])\n",
    "\n",
    "    url += \"&limit=2\"\n",
    "    #url += \"&includefield=all\"\n",
    "\n",
    "    r = requests.get(url, auth=(user, pw)) #, headers=headers\n",
    "    #if r.status_code != 200:\n",
    "        #raise ValueError(\"Invalid request (response code %d) for URL: %s\" % (r.status_code, url))\n",
    "        \n",
    "    return r, url"
   ]
  },
  {
   "cell_type": "code",
   "execution_count": 95,
   "metadata": {},
   "outputs": [
    {
     "data": {
      "text/plain": [
       "403"
      ]
     },
     "execution_count": 95,
     "metadata": {},
     "output_type": "execute_result"
    }
   ],
   "source": [
    "r.status_code"
   ]
  },
  {
   "cell_type": "code",
   "execution_count": 93,
   "metadata": {},
   "outputs": [
    {
     "data": {
      "text/plain": [
       "{'Server': 'Microsoft-HTTPAPI/2.0', 'Content-Length': '0', 'Date': 'Tue, 26 Sep 2017 18:25:35 GMT'}"
      ]
     },
     "execution_count": 93,
     "metadata": {},
     "output_type": "execute_result"
    }
   ],
   "source": [
    "r.headers"
   ]
  },
  {
   "cell_type": "code",
   "execution_count": 94,
   "metadata": {},
   "outputs": [
    {
     "data": {
      "text/plain": [
       "'http://10.47.11.220:8083/AcuoREST/dicomrs/search/studies?PatientID=2*&limit=2'"
      ]
     },
     "execution_count": 94,
     "metadata": {},
     "output_type": "execute_result"
    }
   ],
   "source": [
    "url"
   ]
  },
  {
   "cell_type": "code",
   "execution_count": null,
   "metadata": {
    "collapsed": true
   },
   "outputs": [],
   "source": [
    "r.json()"
   ]
  },
  {
   "cell_type": "code",
   "execution_count": 63,
   "metadata": {
    "collapsed": true,
    "scrolled": true
   },
   "outputs": [],
   "source": [
    "import requests\n",
    "\n",
    "def query_vna(user, pw, filename, study=None, series=None, instance=None, region='test', metadata=False):\n",
    "\n",
    "    if region == 'test':\n",
    "        host = 'vnatest1vt'\n",
    "        port = '8083'\n",
    "    elif region == 'prod':\n",
    "        host = 'VNAASX1VP'\n",
    "        port = 'TBD'\n",
    "    else:\n",
    "        raise ValueError(\"Unsupported region\")\n",
    "\n",
    "\n",
    "    if metadata:\n",
    "        url = ''.join(['http://', host, ':', port,\n",
    "                       \"/AcuoREST/dicomrs/retrieve/studies/\",\n",
    "                        study])\n",
    "\n",
    "        if series is not None:\n",
    "            url += \"/series/\" + series\n",
    "            if instance is not None:\n",
    "                url += \"/instances/\" + instance\n",
    "\n",
    "        url += \"/metadata\"\n",
    "\n",
    "    else:\n",
    "        url = ''.join(['http://', host, ':', port,\n",
    "                       \"/AcuoREST/wadoget?requestType=WADO&contentType=application/dicom&studyUID=\",\n",
    "                        study])\n",
    "\n",
    "        if series is not None:\n",
    "            url += \"&seriesUID=\" + series\n",
    "            if instance is not None:\n",
    "                url += \"&objectUID=\" + instance\n",
    "                \n",
    "        url += \"&aonymize\"\n",
    "\n",
    "    r = requests.get(url, auth=(user, pw)) #, headers=headers\n",
    "\n",
    "    with open(filename, 'wb') as fd:\n",
    "        for chunk in r.iter_content(chunk_size=128):\n",
    "            fd.write(chunk)\n",
    "            \n",
    "    #if r.status_code != 200:\n",
    "        #raise ValueError(\"Invalid request (response code %d) for URL: %s\" % (r.status_code, url))\n",
    "        \n",
    "    return r, url"
   ]
  },
  {
   "cell_type": "code",
   "execution_count": 56,
   "metadata": {},
   "outputs": [
    {
     "data": {
      "text/plain": [
       "'http://vnatest1vt:8083/AcuoREST/wadoget?requestType=WADO&contentType=application/dicom&studyUID=1.2.392.200036.9116.2.5.1.48.1216060901.1336345628.42&seriesUID=1.2.392.200036.9116.2.1216060901.1336346550.3.1004100001.7&objectUID=1.2.392.200036.9116.2.1216060901.1336346841.684518.7.1277&anonymize=yes'"
      ]
     },
     "execution_count": 56,
     "metadata": {},
     "output_type": "execute_result"
    }
   ],
   "source": [
    "url"
   ]
  },
  {
   "cell_type": "code",
   "execution_count": 67,
   "metadata": {},
   "outputs": [
    {
     "data": {
      "text/plain": [
       "b'<string xmlns=\"http://schemas.microsoft.com/2003/10/Serialization/\">Wado Exception - parameter frame not supported for contentType application/dicom</string>'"
      ]
     },
     "execution_count": 67,
     "metadata": {},
     "output_type": "execute_result"
    }
   ],
   "source": [
    "r.content"
   ]
  },
  {
   "cell_type": "code",
   "execution_count": 65,
   "metadata": {},
   "outputs": [
    {
     "data": {
      "text/plain": [
       "{'Content-Type': 'application/xml; charset=utf-8', 'Server': 'Microsoft-HTTPAPI/2.0', 'Date': 'Tue, 26 Sep 2017 14:36:29 GMT', 'Transfer-Encoding': 'chunked'}"
      ]
     },
     "execution_count": 65,
     "metadata": {},
     "output_type": "execute_result"
    }
   ],
   "source": [
    "r.headers"
   ]
  },
  {
   "cell_type": "code",
   "execution_count": 66,
   "metadata": {},
   "outputs": [
    {
     "data": {
      "text/plain": [
       "501"
      ]
     },
     "execution_count": 66,
     "metadata": {},
     "output_type": "execute_result"
    }
   ],
   "source": [
    "r.status_code"
   ]
  },
  {
   "cell_type": "code",
   "execution_count": 76,
   "metadata": {
    "collapsed": true
   },
   "outputs": [],
   "source": []
  }
 ],
 "metadata": {
  "kernelspec": {
   "display_name": "Python 3",
   "language": "python",
   "name": "python3"
  },
  "language_info": {
   "codemirror_mode": {
    "name": "ipython",
    "version": 3
   },
   "file_extension": ".py",
   "mimetype": "text/x-python",
   "name": "python",
   "nbconvert_exporter": "python",
   "pygments_lexer": "ipython3",
   "version": "3.5.0"
  }
 },
 "nbformat": 4,
 "nbformat_minor": 2
}
