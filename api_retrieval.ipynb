{
 "cells": [
  {
   "cell_type": "code",
   "execution_count": 34,
   "metadata": {
    "collapsed": true
   },
   "outputs": [],
   "source": [
    "import requests"
   ]
  },
  {
   "cell_type": "code",
   "execution_count": 6,
   "metadata": {
    "collapsed": true,
    "scrolled": true
   },
   "outputs": [],
   "source": [
    "user='wangkcc4'\n",
    "pw=''\n",
    "#r = requests.get(\"http://vnatest1vt:8083/AcuoREST/dicomrs/retrieve/studies/1.2.392.200036.9116.2.5.1.48.1216060901.1336345628.42/series/1.2.392.200036.9116.2.1216060901.1336346550.3.1004100001.7/instances/1.2.392.200036.9116.2.1216060901.1336346841.684518.7.1277\", auth=(user, pw))\n",
    "#r.json()"
   ]
  },
  {
   "cell_type": "code",
   "execution_count": 7,
   "metadata": {
    "collapsed": true
   },
   "outputs": [],
   "source": [
    "region='test'\n",
    "if region == 'test':\n",
    "    host = 'vnatest1vt'\n",
    "    port = '8083'\n",
    "elif region == 'prod':\n",
    "    host = 'vnatest1vt'\n",
    "    port = '8083'\n",
    "else:\n",
    "    print(\"Unsupported region\")"
   ]
  },
  {
   "cell_type": "code",
   "execution_count": 70,
   "metadata": {
    "collapsed": true
   },
   "outputs": [],
   "source": [
    "studies = \"1.2.392.200036.9116.2.5.1.48.1216060901.1336345628.42\"\n",
    "series = \"1.2.392.200036.9116.2.1216060901.1336346550.3.1004100001.7\"\n",
    "instances = \"1.2.392.200036.9116.2.1216060901.1336346841.684518.7.1277\"\n",
    "#headers = {'content-type': 'application/dicom+json'}\n",
    "\n",
    "#a = '&'.join(['requestType=WADO','contenttype=application/dicom+json'])\n",
    "#if studies is not None:\n",
    "#    query_str = '/studies/'+studies\n",
    "    \n",
    "url = ''.join(['http://', host, ':', port, '/AcuoREST/dicomrs/retrieve/studies/', studies,\n",
    "               '/series/', series, '/instances/', instances])\n",
    "\n",
    "r = requests.get(url, auth=(user, pw), headers=headers)\n",
    "\n",
    "#\"http://vnatest1vt:8083/AcuoREST/dicomrs/retrieve/studies/1.2.392.200036.9116.2.5.1.48.1216060901.1336345628.42/metadata\""
   ]
  },
  {
   "cell_type": "code",
   "execution_count": 73,
   "metadata": {
    "scrolled": true
   },
   "outputs": [],
   "source": [
    "url = ''.join(['http://', host, ':', port,\n",
    "               \"/AcuoREST/wadoget?requestType=WADO&contentType=application/dicom&studyUID=\",\n",
    "                studies, \"&seriesUID=\", series, \"&objectUID=\", instances])\n",
    "r = requests.get(url, auth=(user, pw))"
   ]
  },
  {
   "cell_type": "code",
   "execution_count": 74,
   "metadata": {},
   "outputs": [
    {
     "data": {
      "text/plain": [
       "'application/dicom'"
      ]
     },
     "execution_count": 74,
     "metadata": {},
     "output_type": "execute_result"
    }
   ],
   "source": [
    "r.headers['content-type']"
   ]
  },
  {
   "cell_type": "code",
   "execution_count": 61,
   "metadata": {},
   "outputs": [
    {
     "data": {
      "text/plain": [
       "{'Server': 'Microsoft-HTTPAPI/2.0', 'Access-Control-Allow-Origin': '*', 'Content-Type': 'multipart/related; boundary=BinaryItemBoundary-D78F920039ED7F4492EB042617D3D9D0;start=\"0@0ce6603a-9d00-41fc-a04f-4d75ec36e0a0\";type=\"image/jpeg\"', 'Access-Control-Allow-Methods': 'GET, OPTIONS', 'Date': 'Wed, 20 Sep 2017 16:10:05 GMT', 'Transfer-Encoding': 'chunked', 'Access-Control-Allow-Headers': 'Origin, Content-Type, Accept, Authorization'}"
      ]
     },
     "execution_count": 61,
     "metadata": {},
     "output_type": "execute_result"
    }
   ],
   "source": [
    "r.headers"
   ]
  },
  {
   "cell_type": "code",
   "execution_count": 41,
   "metadata": {
    "collapsed": true
   },
   "outputs": [],
   "source": [
    "import cgi"
   ]
  },
  {
   "cell_type": "code",
   "execution_count": null,
   "metadata": {
    "collapsed": true
   },
   "outputs": [],
   "source": [
    "pdict = {'boundary':'BinaryItemBoundary-20692C65701C6A4187201CF912AD604B'}\n",
    "cgi.parse_multipart(, pdict)"
   ]
  },
  {
   "cell_type": "code",
   "execution_count": 75,
   "metadata": {
    "collapsed": true,
    "scrolled": true
   },
   "outputs": [],
   "source": [
    "filename = \"test.dcm\""
   ]
  },
  {
   "cell_type": "code",
   "execution_count": 76,
   "metadata": {},
   "outputs": [],
   "source": [
    "with open(filename, 'wb') as fd:\n",
    "    for chunk in r.iter_content(chunk_size=128):\n",
    "        fd.write(chunk)"
   ]
  },
  {
   "cell_type": "code",
   "execution_count": null,
   "metadata": {
    "collapsed": true
   },
   "outputs": [],
   "source": []
  },
  {
   "cell_type": "code",
   "execution_count": null,
   "metadata": {
    "collapsed": true
   },
   "outputs": [],
   "source": [
    "j = r.json()"
   ]
  },
  {
   "cell_type": "code",
   "execution_count": null,
   "metadata": {
    "collapsed": true
   },
   "outputs": [],
   "source": []
  }
 ],
 "metadata": {
  "kernelspec": {
   "display_name": "Python 3",
   "language": "python",
   "name": "python3"
  },
  "language_info": {
   "codemirror_mode": {
    "name": "ipython",
    "version": 3
   },
   "file_extension": ".py",
   "mimetype": "text/x-python",
   "name": "python",
   "nbconvert_exporter": "python",
   "pygments_lexer": "ipython3",
   "version": "3.5.0"
  }
 },
 "nbformat": 4,
 "nbformat_minor": 2
}
