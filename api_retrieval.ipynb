{
 "cells": [
  {
   "cell_type": "code",
   "execution_count": 1,
   "metadata": {
    "collapsed": true
   },
   "outputs": [],
   "source": [
    "import requests\n",
    "import importlib\n",
    "import api_queries as aq\n",
    "import os"
   ]
  },
  {
   "cell_type": "code",
   "execution_count": 2,
   "metadata": {},
   "outputs": [
    {
     "data": {
      "text/plain": [
       "<module 'api_queries' from 'C:\\\\Users\\\\Clinton\\\\Documents\\\\liver-mr-processor\\\\api_queries.py'>"
      ]
     },
     "execution_count": 2,
     "metadata": {},
     "output_type": "execute_result"
    }
   ],
   "source": [
    "importlib.reload(aq)"
   ]
  },
  {
   "cell_type": "code",
   "execution_count": 36,
   "metadata": {
    "collapsed": true
   },
   "outputs": [],
   "source": [
    "user = 'wangkcc4'\n",
    "pw = ''\n",
    "accNum = '12207268'"
   ]
  },
  {
   "cell_type": "code",
   "execution_count": 3,
   "metadata": {
    "collapsed": true
   },
   "outputs": [],
   "source": [
    "r, url = aq.search_vna(user, pw, region=\"prod\", accNum=accNum)\n",
    "study = r.json()[0]['0020000D']['Value'][0]"
   ]
  },
  {
   "cell_type": "code",
   "execution_count": 5,
   "metadata": {
    "collapsed": true
   },
   "outputs": [],
   "source": [
    "r, url = aq.search_vna(user, pw, region=\"prod\", study=study)\n",
    "study_info = r.json()\n",
    "series = [ser['0020000E']['Value'][0] for ser in study_info]"
   ]
  },
  {
   "cell_type": "code",
   "execution_count": 32,
   "metadata": {
    "collapsed": true
   },
   "outputs": [],
   "source": [
    "instances = {}\n",
    "\n",
    "for ser in series:\n",
    "    r, url = aq.search_vna(user, pw, region=\"prod\", study=study, series=ser)\n",
    "    series_info = r.json()\n",
    "    instances[ser] = [inst['00080018']['Value'][0] for inst in series_info]"
   ]
  },
  {
   "cell_type": "code",
   "execution_count": 41,
   "metadata": {
    "scrolled": true
   },
   "outputs": [
    {
     "data": {
      "text/plain": [
       "'http://10.47.11.220:8083/AcuoREST/dicomrs/search/studies?AccessionNumber=12207268'"
      ]
     },
     "execution_count": 41,
     "metadata": {},
     "output_type": "execute_result"
    }
   ],
   "source": [
    "r, url = aq.search_vna(user, pw, region=\"prod\", study=study, series=ser)"
   ]
  },
  {
   "cell_type": "code",
   "execution_count": 63,
   "metadata": {
    "collapsed": true
   },
   "outputs": [],
   "source": [
    "base_dir = \"raw_imgs\\\\\" + accNum\n",
    "\n",
    "if not os.path.exists(base_dir):\n",
    "    os.makedirs(base_dir)\n",
    "    \n",
    "for ser in [series[3]]:\n",
    "    img_dir = base_dir + \"\\\\\" + ser\n",
    "    \n",
    "    aq.retrieve_vna(user, pw, region=\"prod\", filename = img_dir+\"\\\\metadata.xml\",\n",
    "                      study=study, series=ser, instance=inst, metadata=True)\n",
    "    \n",
    "    if not os.path.exists(img_dir):\n",
    "        os.makedirs(img_dir)\n",
    "        \n",
    "    for count, inst in enumerate(instances[ser]):\n",
    "        aq.retrieve_vna(user, pw, region=\"prod\", filename = img_dir+\"\\\\\"+str(count)+\".dcm\",\n",
    "                      study=study, series=ser, instance=inst)\n",
    "    \n",
    "        break\n",
    "    break"
   ]
  },
  {
   "cell_type": "code",
   "execution_count": 58,
   "metadata": {},
   "outputs": [
    {
     "data": {
      "text/plain": [
       "['1.3.12.2.1107.5.2.36.40282.2011081914120896062225286.0.0.0',\n",
       " '1.3.12.2.1107.5.2.36.40282.2011081914132750815125377.0.0.0',\n",
       " '1.3.12.2.1107.5.2.36.40282.2011081914151057424825959.0.0.0',\n",
       " '1.3.12.2.1107.5.2.36.40282.2011081914151057500925960.0.0.0',\n",
       " '1.3.12.2.1107.5.2.36.40282.2011081914190111408927593.0.0.0',\n",
       " '1.3.12.2.1107.5.2.36.40282.2011081914190111643927594.0.0.0',\n",
       " '1.3.12.2.1107.5.2.36.40282.201108191424365277228971.0.0.0',\n",
       " '1.3.12.2.1107.5.2.36.40282.201108191428169942429650.0.0.0',\n",
       " '1.3.12.2.1107.5.2.36.40282.2011081914290730063729953.0.0.0',\n",
       " '1.3.12.2.1107.5.2.36.40282.2011081914295796933431086.0.0.0',\n",
       " '1.3.12.2.1107.5.2.36.40282.2011081914303640881931651.0.0.0',\n",
       " '1.3.12.2.1107.5.2.36.40282.2011081914311296454231795.0.0.0',\n",
       " '1.3.12.2.1107.5.2.36.40282.2011081914311296454231795.0.0.1',\n",
       " '1.3.12.2.1107.5.2.36.40282.2011081914311296454231795.0.0.2',\n",
       " '1.3.12.2.1107.5.2.36.40282.2011081914313962709631870.0.0.0',\n",
       " '1.3.12.2.1107.5.2.36.40282.2011081914313962709631870.0.0.1',\n",
       " '1.3.12.2.1107.5.2.36.40282.2011081914313962709631870.0.0.2']"
      ]
     },
     "execution_count": 58,
     "metadata": {},
     "output_type": "execute_result"
    }
   ],
   "source": [
    "series"
   ]
  }
 ],
 "metadata": {
  "kernelspec": {
   "display_name": "Python 3",
   "language": "python",
   "name": "python3"
  },
  "language_info": {
   "codemirror_mode": {
    "name": "ipython",
    "version": 3
   },
   "file_extension": ".py",
   "mimetype": "text/x-python",
   "name": "python",
   "nbconvert_exporter": "python",
   "pygments_lexer": "ipython3",
   "version": "3.5.0"
  }
 },
 "nbformat": 4,
 "nbformat_minor": 2
}
