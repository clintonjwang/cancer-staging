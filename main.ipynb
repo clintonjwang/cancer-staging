{
 "cells": [
  {
   "cell_type": "code",
   "execution_count": 1,
   "metadata": {
    "collapsed": true
   },
   "outputs": [],
   "source": [
    "import importlib\n",
    "import helper_fxns as hf\n",
    "import os\n",
    "import numpy as np\n",
    "import pandas as pd\n",
    "import pyelastix\n",
    "import spect_fxns as sf\n",
    "import skimage.feature\n",
    "import skimage.transform\n",
    "%matplotlib inline"
   ]
  },
  {
   "cell_type": "code",
   "execution_count": 22,
   "metadata": {
    "scrolled": true
   },
   "outputs": [
    {
     "data": {
      "text/plain": [
       "<module 'spect_fxns' from 'C:\\\\Users\\\\Clinton\\\\Documents\\\\spect-assessment\\\\spect_fxns.py'>"
      ]
     },
     "execution_count": 22,
     "metadata": {},
     "output_type": "execute_result"
    }
   ],
   "source": [
    "importlib.reload(hf)\n",
    "importlib.reload(sf)"
   ]
  },
  {
   "cell_type": "code",
   "execution_count": 27,
   "metadata": {
    "collapsed": true
   },
   "outputs": [],
   "source": [
    "def reg_all_niis(patient_id, nii_paths, verbose=True):\n",
    "    if verbose:\n",
    "        print(\"\\n\"+str(patient_id))\n",
    "    patient_nii_paths = nii_paths[patient_id]\n",
    "    base_dir = patient_nii_paths['base']\n",
    "    temp_file = \"Z:\\\\temp.nii\"\n",
    "    \n",
    "    blmri_art, _ = hf.ni_load(patient_nii_paths[\"blmri-art\"])\n",
    "    \n",
    "    if verbose:\n",
    "        print(\"Registering BL MRI (pre) to BL MRI (arterial)\")\n",
    "    sf.reg_niis(\"blmri-art\", \"blmri-pre\", patient_nii_paths, fixed_img=blmri_art)\n",
    "    \n",
    "    if verbose:\n",
    "        print(\"Registering FU MRI to BL MRI (arterial)\")\n",
    "    _, blfu_transform_path = sf.reg_niis(\"blmri-art\", \"fumri-art\", patient_nii_paths, fixed_img=blmri_art)\n",
    "    \n",
    "    if verbose:\n",
    "        print(\"Registering FU MRI (pre) to FU MRI (arterial)\")\n",
    "    if not sf.reg_niis(\"fumri-art\", \"fumri-pre\", patient_nii_paths, out_img_path=temp_file, overwrite=True) is None:\n",
    "        if verbose:\n",
    "            print(\"Transforming FU MRI (pre) to BL MRI coords\")\n",
    "        sf.transform_niis(temp_file, [blfu_transform_path], patient_nii_paths, out_img_path=base_dir+\"fumri-pre-reg.nii\")\n",
    "            \n",
    "    if verbose:\n",
    "        print(\"Registering CT to BL MRI\")\n",
    "    _, blct_transform_path = sf.reg_niis(\"blmri-art\", \"ct\", patient_nii_paths, fixed_img=blmri_art)\n",
    "\n",
    "    if verbose:\n",
    "        print(\"Registering Fused to CT\")\n",
    "    _, ctfused_transform_path = sf.reg_niis(\"ct\", \"fused-ch1\", patient_nii_paths, out_img_path=temp_file, overwrite=True)\n",
    "    if verbose:\n",
    "        print(\"Transforming Fused to BL MRI coords\")\n",
    "    sf.transform_niis(temp_file, [blct_transform_path], patient_nii_paths, out_img_path=base_dir+\"fused-reg.nii\")\n",
    "\n",
    "    if verbose:\n",
    "        print(\"Registering SPECT to Fused\")\n",
    "    sf.reg_niis(\"fused-ch1\", \"spect\", patient_nii_paths, out_img_path=temp_file, overwrite=True)\n",
    "    if verbose:\n",
    "        print(\"Transforming SPECT to BL MRI coords\")\n",
    "    sf.transform_niis(temp_file, [ctfused_transform_path], patient_nii_paths, out_img_path=temp_file, overwrite=True)\n",
    "    sf.transform_niis(temp_file, [blct_transform_path], patient_nii_paths, out_img_path=base_dir+\"spect-reg.nii\")\n",
    "\n",
    "    os.remove(temp_file)"
   ]
  },
  {
   "cell_type": "code",
   "execution_count": 2,
   "metadata": {
    "collapsed": true
   },
   "outputs": [],
   "source": [
    "xls_fn = r\"Z:\\Isa\\T1-Response-Desktop.xlsx\"\n",
    "writer = pd.ExcelWriter(xls_fn)\n",
    "\n",
    "df = pd.read_excel(xls_fn, index_col=0, dtype={\"index\": np.int32})\n",
    "df.dropna(subset=[\"high thresh\"], inplace=True)\n",
    "df = df[df[\"Segmented\"] == \"Yes\"]\n",
    "patient_ids = df.index.values\n",
    "\n",
    "\n",
    "patient_id = 3"
   ]
  },
  {
   "cell_type": "code",
   "execution_count": 9,
   "metadata": {
    "collapsed": true
   },
   "outputs": [],
   "source": [
    "for patient_id in patient_ids:\n",
    "    sf.check_dcm_paths(patient_id, df)"
   ]
  },
  {
   "cell_type": "code",
   "execution_count": 3,
   "metadata": {
    "collapsed": true,
    "scrolled": true
   },
   "outputs": [],
   "source": [
    "dcm_paths = {}\n",
    "nii_paths = {}\n",
    "mask_paths = {}\n",
    "\n",
    "for patient_id in patient_ids:\n",
    "    sf.set_paths(patient_id, df, dcm_paths, nii_paths, mask_paths)"
   ]
  },
  {
   "cell_type": "code",
   "execution_count": 27,
   "metadata": {},
   "outputs": [],
   "source": [
    "for patient_id in patient_ids:\n",
    "    sf.save_niis(patient_id, dcm_paths, nii_paths)"
   ]
  },
  {
   "cell_type": "code",
   "execution_count": 28,
   "metadata": {},
   "outputs": [
    {
     "name": "stdout",
     "output_type": "stream",
     "text": [
      "\n",
      "3\n",
      "Registering BL MRI (pre) to BL MRI (arterial)\n",
      "blmri-art and blmri-pre have the same shape. Skipping registration.\n",
      "Registering FU MRI to BL MRI (arterial)\n",
      "Registering FU MRI (pre) to FU MRI (arterial)\n",
      "fumri-art and fumri-pre have the same shape. Skipping registration.\n",
      "Registering CT to BL MRI\n",
      "Registering Fused to CT\n",
      "Transforming Fused to BL MRI coords\n",
      "Registering SPECT to Fused\n",
      "Transforming SPECT to BL MRI coords\n",
      "\n",
      "5\n",
      "Registering BL MRI (pre) to BL MRI (arterial)\n",
      "blmri-art and blmri-pre have the same shape. Skipping registration.\n",
      "Registering FU MRI to BL MRI (arterial)\n",
      "Registering FU MRI (pre) to FU MRI (arterial)\n",
      "fumri-art and fumri-pre have the same shape. Skipping registration.\n",
      "Registering CT to BL MRI\n",
      "Registering Fused to CT\n",
      "Transforming Fused to BL MRI coords\n",
      "Registering SPECT to Fused\n",
      "Transforming SPECT to BL MRI coords\n",
      "\n",
      "16\n",
      "Registering BL MRI (pre) to BL MRI (arterial)\n",
      "blmri-art and blmri-pre have the same shape. Skipping registration.\n",
      "Registering FU MRI to BL MRI (arterial)\n",
      "Registering FU MRI (pre) to FU MRI (arterial)\n",
      "fumri-art and fumri-pre have the same shape. Skipping registration.\n",
      "Registering CT to BL MRI\n",
      "Registering Fused to CT\n",
      "Transforming Fused to BL MRI coords\n",
      "Registering SPECT to Fused\n",
      "Transforming SPECT to BL MRI coords\n",
      "\n",
      "20\n",
      "Registering BL MRI (pre) to BL MRI (arterial)\n",
      "blmri-art and blmri-pre have the same shape. Skipping registration.\n",
      "Registering FU MRI to BL MRI (arterial)\n",
      "Registering FU MRI (pre) to FU MRI (arterial)\n",
      "fumri-art and fumri-pre have the same shape. Skipping registration.\n",
      "Registering CT to BL MRI\n",
      "Registering Fused to CT\n",
      "Transforming Fused to BL MRI coords\n",
      "Registering SPECT to Fused\n",
      "Transforming SPECT to BL MRI coords\n"
     ]
    }
   ],
   "source": [
    "for patient_id in patient_ids:\n",
    "    reg_all_niis(patient_id, nii_paths)"
   ]
  },
  {
   "cell_type": "code",
   "execution_count": null,
   "metadata": {
    "collapsed": true
   },
   "outputs": [],
   "source": [
    "def reg_masks(patient_id, nii_paths, verbose=True):\n",
    "    if verbose:\n",
    "        print(\"Transforming FU MRI masks to BL MRI coords\")\n",
    "        \n",
    "    if verbose:\n",
    "        print(\"Transforming SPECT mask to BL MRI coords\")"
   ]
  },
  {
   "cell_type": "code",
   "execution_count": 93,
   "metadata": {
    "collapsed": true
   },
   "outputs": [],
   "source": [
    "ttt, _ = hf.ni_load(patient_nii_paths[\"fused-ch1-reg\"])"
   ]
  },
  {
   "cell_type": "code",
   "execution_count": 18,
   "metadata": {},
   "outputs": [
    {
     "data": {
      "text/plain": [
       "(320, 250, 72)"
      ]
     },
     "execution_count": 18,
     "metadata": {},
     "output_type": "execute_result"
    }
   ],
   "source": [
    "x,_ = hf.ni_load(base_dir+\"fused-reg.nii\")\n",
    "x.shape"
   ]
  },
  {
   "cell_type": "code",
   "execution_count": 19,
   "metadata": {},
   "outputs": [
    {
     "data": {
      "text/plain": [
       "(320, 250, 72)"
      ]
     },
     "execution_count": 19,
     "metadata": {},
     "output_type": "execute_result"
    }
   ],
   "source": [
    "x,_ = hf.ni_load(base_dir+\"spect-reg.nii\")\n",
    "x.shape"
   ]
  },
  {
   "cell_type": "code",
   "execution_count": 85,
   "metadata": {},
   "outputs": [
    {
     "data": {
      "text/plain": [
       "True"
      ]
     },
     "execution_count": 85,
     "metadata": {},
     "output_type": "execute_result"
    }
   ],
   "source": [
    "reg_niis(\"blmri-art\", \"ct\", nii_paths[patient_id], fixed_img=blmri_art, overwrite=True)"
   ]
  },
  {
   "cell_type": "code",
   "execution_count": 103,
   "metadata": {
    "collapsed": true
   },
   "outputs": [],
   "source": [
    "test, _ = hf.ni_load(\"test.nii\")"
   ]
  },
  {
   "cell_type": "code",
   "execution_count": null,
   "metadata": {
    "collapsed": true
   },
   "outputs": [],
   "source": [
    "transform_niis(patient_nii_paths[\"fused-ch1\"], [\"ct_blmri-art\"], nii_paths[patient_id], [blmri_art])"
   ]
  },
  {
   "cell_type": "code",
   "execution_count": 104,
   "metadata": {
    "scrolled": true
   },
   "outputs": [
    {
     "data": {
      "text/plain": [
       "(320, 250, 72)"
      ]
     },
     "execution_count": 104,
     "metadata": {},
     "output_type": "execute_result"
    }
   ],
   "source": [
    "test.shape"
   ]
  },
  {
   "cell_type": "code",
   "execution_count": 108,
   "metadata": {},
   "outputs": [
    {
     "data": {
      "image/png": "[encoded data removed]",
      "text/plain": [
       "<matplotlib.figure.Figure at 0x1ba57ed4ac8>"
      ]
     },
     "metadata": {},
     "output_type": "display_data"
    }
   ],
   "source": [
    "hf.plot_section_auto(test)"
   ]
  },
  {
   "cell_type": "markdown",
   "metadata": {
    "collapsed": true
   },
   "source": [
    "fumri_bl, _ = hf.dcm_load(dcm_paths[patient_id]['fumri-pre'])\n",
    "fumri_bl = hf.reg_imgs(moving=fumri_bl, fixed=blmri_img, params=reg_params)\n",
    "save_nii(fumri_bl, nii_paths[patient_id][\"fumri-pre\"])"
   ]
  },
  {
   "cell_type": "code",
   "execution_count": null,
   "metadata": {
    "collapsed": true
   },
   "outputs": [],
   "source": []
  },
  {
   "cell_type": "code",
   "execution_count": null,
   "metadata": {
    "collapsed": true
   },
   "outputs": [],
   "source": []
  },
  {
   "cell_type": "code",
   "execution_count": null,
   "metadata": {
    "collapsed": true
   },
   "outputs": [],
   "source": []
  },
  {
   "cell_type": "code",
   "execution_count": null,
   "metadata": {
    "collapsed": true
   },
   "outputs": [],
   "source": [
    "#spect_header = hf.get_spect_series(dcm_paths[patient_id]['spect'], just_header=True)\n",
    "#rows = spect_header[('0028', '0010')].value\n",
    "#cols = spect_header[('0028', '0011')].value\n",
    "#frames = spect_header[('0028', '0008')].value\n",
    "\n",
    "#print(patient_id, rows*cols*frames)\n",
    "#df[\"voxels\"] = "
   ]
  },
  {
   "cell_type": "code",
   "execution_count": 207,
   "metadata": {
    "collapsed": true
   },
   "outputs": [],
   "source": [
    "df.to_excel(writer, sheet_name=\"Updated\")\n",
    "writer.save()"
   ]
  },
  {
   "cell_type": "code",
   "execution_count": null,
   "metadata": {
    "collapsed": true
   },
   "outputs": [],
   "source": [
    "for i in [3,5,14,15,16,24,28,29,34,20,21,22,23]: #os.listdir('Z:\\\\Isa')\n",
    "    if str(df.loc[i][\"SPECT\"]) == \"nan\":\n",
    "        continue\n",
    "    spect_dir = 'Z:\\\\Isa\\\\spect\\\\' + str(df.loc[i][\"SPECT\"])\n",
    "    for fn in os.listdir(spect_dir):\n",
    "        if 'recon - ac' in fn:\n",
    "            dcm_paths[patient_id]['spect'] = spect_dir + \"\\\\\" + fn\n",
    "            print(\"found\",i)\n",
    "            spect_header = get_spect_series(dcm_paths[patient_id]['spect'], just_header=True)\n",
    "            df.loc[i,'SPECT-Slope'] = spect_header[('0028', '1051')].value\n",
    "            continue\n",
    "        elif 'y90 sirs' in fn and 'ac' not in fn:\n",
    "            dcm_paths[patient_id]['ct'] = spect_dir + \"\\\\\" + fn\n",
    "        elif 'fused trans' in fn:\n",
    "            dcm_paths[patient_id]['fused'] = spect_dir + \"\\\\\" + fn"
   ]
  },
  {
   "cell_type": "code",
   "execution_count": 91,
   "metadata": {
    "collapsed": true
   },
   "outputs": [],
   "source": [
    "mask_file = mask_paths[patient_id][\"necrosis-fu\"]"
   ]
  },
  {
   "cell_type": "code",
   "execution_count": 95,
   "metadata": {
    "collapsed": true
   },
   "outputs": [],
   "source": [
    "orig_dims = fumri_img.shape"
   ]
  },
  {
   "cell_type": "code",
   "execution_count": 92,
   "metadata": {
    "collapsed": true
   },
   "outputs": [],
   "source": [
    "dims = blmri_bl.shape"
   ]
  },
  {
   "cell_type": "markdown",
   "metadata": {},
   "source": [
    "fn_base = mask_file[:mask_file.find('.')]\n",
    "\n",
    "with open(mask_file, 'rb') as f:\n",
    "    mask = f.read()\n",
    "    mask = np.fromstring(mask, dtype='uint8')\n",
    "    mask = np.array(mask).reshape(orig_dims[::-1])\n",
    "    mask = np.transpose(mask, (2,1,0))\n",
    "    mask = mask/255\n",
    "    mask, _ = hf.rescale(mask, dims)\n",
    "\n",
    "with open(mask_file[:mask_file.find('.')]+\"-scaled.ids\", 'rb') as f:\n",
    "    mask = round(mask) * 255\n",
    "    f.write(mask)\n",
    "    \n",
    "mask = np.transpose(mask, (2,1,0))"
   ]
  },
  {
   "cell_type": "markdown",
   "metadata": {},
   "source": [
    "importlib.reload(hf)"
   ]
  },
  {
   "cell_type": "markdown",
   "metadata": {},
   "source": [
    "m, _ = hf.rescale(mask, dims)\n",
    "with open(fn_base + \"-scaled.ids\", 'wb') as f:\n",
    "    f.write(mask)"
   ]
  },
  {
   "cell_type": "code",
   "execution_count": null,
   "metadata": {
    "collapsed": true
   },
   "outputs": [],
   "source": [
    "hf.rescale_mask(mask_paths[patient_id][\"necrosis-fu\"], fumri_img.shape, blmri_bl.shape)\n",
    "hf.rescale_mask(mask_paths[patient_id][\"viable-tumor-fu\"], fumri_img.shape, blmri_bl.shape)"
   ]
  },
  {
   "cell_type": "code",
   "execution_count": 79,
   "metadata": {
    "collapsed": true
   },
   "outputs": [],
   "source": [
    "total_dosage = np.sum(spect_img_reg)\n",
    "tumor_dosage = np.sum(hf.apply_mask(spect_img_reg, mask_paths[patient_id][\"tumor\"]))\n",
    "necro_dosage_bl = np.sum(hf.apply_mask(spect_img_reg, mask_paths[patient_id][\"necrosis-bl\"]))\n",
    "viable_tumor_dosage_bl = np.sum(hf.apply_mask(spect_img_reg, mask_paths[patient_id][\"viable-tumor-bl\"]))\n",
    "necro_dosage_fu = np.sum(hf.apply_mask(spect_img_reg, mask_paths[patient_id][\"necrosis-fu\"]))\n",
    "viable_tumor_dosage_fu = np.sum(hf.apply_mask(spect_img_reg, mask_paths[patient_id][\"viable-tumor-fu\"]))"
   ]
  },
  {
   "cell_type": "code",
   "execution_count": null,
   "metadata": {
    "collapsed": true
   },
   "outputs": [],
   "source": [
    "plt.hist(spect_img)"
   ]
  },
  {
   "cell_type": "code",
   "execution_count": null,
   "metadata": {
    "collapsed": true
   },
   "outputs": [],
   "source": [
    "def get_dosage(df, spect_img_reg, mask):\n",
    "    \"\"\"Calculates dosage contained in mask by summing intensities in the registered spect_img.\n",
    "    Assumes that intensity is linearly proportional to concentration.\"\"\""
   ]
  },
  {
   "cell_type": "code",
   "execution_count": 231,
   "metadata": {
    "scrolled": true
   },
   "outputs": [
    {
     "data": {
      "image/png": "[encoded data removed]",
      "text/plain": [
       "<matplotlib.figure.Figure at 0x2c28354c630>"
      ]
     },
     "metadata": {},
     "output_type": "display_data"
    }
   ],
   "source": [
    "hf.plot_section_auto(fused_img)"
   ]
  },
  {
   "cell_type": "code",
   "execution_count": 242,
   "metadata": {},
   "outputs": [
    {
     "data": {
      "image/png": "[encoded data removed]",
      "text/plain": [
       "<matplotlib.figure.Figure at 0x2c2a6f2acc0>"
      ]
     },
     "metadata": {},
     "output_type": "display_data"
    }
   ],
   "source": [
    "hf.plot_section_auto_1ch(spect_img)"
   ]
  }
 ],
 "metadata": {
  "anaconda-cloud": {},
  "kernelspec": {
   "display_name": "Python 3",
   "language": "python",
   "name": "python3"
  },
  "language_info": {
   "codemirror_mode": {
    "name": "ipython",
    "version": 3
   },
   "file_extension": ".py",
   "mimetype": "text/x-python",
   "name": "python",
   "nbconvert_exporter": "python",
   "pygments_lexer": "ipython3",
   "version": "3.5.0"
  }
 },
 "nbformat": 4,
 "nbformat_minor": 1
}
