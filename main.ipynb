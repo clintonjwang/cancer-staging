{
 "cells": [
  {
   "cell_type": "code",
   "execution_count": 1,
   "metadata": {
    "collapsed": true
   },
   "outputs": [],
   "source": [
    "import os\n",
    "import helper_fxns as hf\n",
    "import importlib\n",
    "import sys\n",
    "import nibabel as nib\n",
    "import numpy as np\n",
    "import pyelastix\n",
    "from matplotlib import cm\n",
    "import matplotlib.pyplot as plt\n",
    "from skimage import measure\n",
    "from skimage import data\n",
    "from skimage.transform import rescale\n",
    "from mpl_toolkits.mplot3d import Axes3D\n",
    "from pylab import get_cmap\n",
    "%matplotlib inline"
   ]
  },
  {
   "cell_type": "code",
   "execution_count": 18,
   "metadata": {},
   "outputs": [
    {
     "data": {
      "text/plain": [
       "<module 'helper_fxns' from 'C:\\\\Users\\\\Clinton\\\\Documents\\\\spect-assessment\\\\helper_fxns.py'>"
      ]
     },
     "execution_count": 18,
     "metadata": {},
     "output_type": "execute_result"
    }
   ],
   "source": [
    "importlib.reload(hf)"
   ]
  },
  {
   "cell_type": "code",
   "execution_count": 18,
   "metadata": {
    "collapsed": true
   },
   "outputs": [],
   "source": [
    "dcm_paths = {\"ct\": r\"Z:\\Isa\\spect\\E102337624\\CT\",\n",
    "            \"fused\": r\"Z:\\Isa\\spect\\E102337624\\Fused\",\n",
    "            \"spect\": r\"Z:\\Isa\\spect\\E102337624\\SPECT\",\n",
    "            \"fumri\": r\"Z:\\Isa\\fumri\\E102406843\\T1_AP\",\n",
    "            \"blmri\": r\"Z:\\Isa\\blmri\\E102155461\\T1_AP\"}\n",
    "\n",
    "nii_paths = {\"ct\": r\"Z:\\Isa\\3\\ct_reg.nii\",\n",
    "            \"fused\": r\"Z:\\Isa\\3\\fused_reg.nii\",\n",
    "            \"spect\": r\"Z:\\Isa\\3\\spect_reg.nii\",\n",
    "            \"fumri\": r\"Z:\\Isa\\3\\fumri_reg.nii\",\n",
    "            \"blmri\": r\"Z:\\Isa\\3\\blmri_img.nii\"}\n",
    "\n",
    "mask_paths = {\"liver\": r\"Z:\\3\\3.BL-segs\\BL-Liver.ids\",\n",
    "            \"tumor\": r\"Z:\\3\\3.BL-segs\\BL-Tumor.ids\",\n",
    "            \"necrosis\": r\"Z:\\3\\3.BL-segs\\necrosis.ids\",\n",
    "            \"viable-tumor\": r\"Z:\\3\\3.BL-segs\\viable-tumor.ids\"}"
   ]
  },
  {
   "cell_type": "code",
   "execution_count": 3,
   "metadata": {
    "collapsed": true
   },
   "outputs": [],
   "source": [
    "reg_params = pyelastix.get_default_params(type=\"AFFINE\")"
   ]
  },
  {
   "cell_type": "code",
   "execution_count": 12,
   "metadata": {},
   "outputs": [],
   "source": [
    "def get_spect_series(path):\n",
    "    import convert_dicom\n",
    "    import tempfile\n",
    "    import shutil\n",
    "    import dicom2nifti.settings as settings\n",
    "    import dicom2nifti.common as common\n",
    "    temp_directory = tempfile.mkdtemp()\n",
    "    dicom_directory = os.path.join(temp_directory, 'dicom')\n",
    "    shutil.copytree(path, dicom_directory)\n",
    "\n",
    "    if convert_dicom.is_compressed(dicom_directory):\n",
    "        if settings.gdcmconv_path is None and convert_dicom._which('gdcmconv') is None and convert_dicom._which('gdcmconv.exe') is None:\n",
    "            raise ConversionError('GDCMCONV_NOT_FOUND')\n",
    "\n",
    "        convert_dicom.logger.info('Decompressing dicom files in %s' % dicom_directory)\n",
    "        for root, _, files in os.walk(dicom_directory):\n",
    "            for dicom_file in files:\n",
    "                if common.is_dicom_file(os.path.join(root, dicom_file)):\n",
    "                    convert_dicom.decompress_dicom(os.path.join(root, dicom_file))\n",
    "\n",
    "    dicom_input = common.read_dicom_directory(dicom_directory)\n",
    "    \n",
    "    rows = dicom_input[0][('0028', '0010')].value\n",
    "    cols = dicom_input[0][('0028', '0011')].value\n",
    "    ch = dicom_input[0][('0028', '0002')].value\n",
    "    frames = dicom_input[0][('0028', '0008')].value\n",
    "    bytelen = dicom_input[0][('0028', '0101')].value//8\n",
    "\n",
    "    if len(dicom_input) == 1:\n",
    "        ls = list(dicom_input[0][('7fe0', '0010')].value)\n",
    "        img = [ls[x]+ls[x+1]*256 for x in range(0,len(ls),2)]\n",
    "        img = np.reshape(img,(frames,rows,cols))\n",
    "        canon_img = np.transpose(img, (2,1,0))[:,::-1,:]\n",
    "    else:\n",
    "        sl_list = []\n",
    "\n",
    "        for sl in dicom_input:\n",
    "            arr = sl[('7fe0', '0010')].value\n",
    "            sl_list.append(np.reshape(list(arr),(rows,cols,ch)))\n",
    "        img = np.array(sl_list)\n",
    "        canon_img = np.transpose(img, (2,1,0,3))[:,::-1,:,:]\n",
    "\n",
    "    return canon_img"
   ]
  },
  {
   "cell_type": "code",
   "execution_count": null,
   "metadata": {
    "collapsed": true
   },
   "outputs": [],
   "source": [
    "ct_img, ct_dims = hf.dcm_load(dcm_paths['ct'])\n",
    "fumri_img, fumri_dims = hf.dcm_load(dcm_paths['fumri'])\n",
    "blmri_img, blmri_dims = hf.dcm_load(blmri_path)\n",
    "\n",
    "fused_img = get_spect_series(dcm_paths['fused'])\n",
    "spect_img = get_spect_series(dcm_paths['spect'])"
   ]
  },
  {
   "cell_type": "code",
   "execution_count": null,
   "metadata": {
    "collapsed": true
   },
   "outputs": [],
   "source": [
    "#blmri_img = hf.ni_load(nii_paths[\"blmri\"])"
   ]
  },
  {
   "cell_type": "code",
   "execution_count": 27,
   "metadata": {},
   "outputs": [
    {
     "name": "stdout",
     "output_type": "stream",
     "text": [
      "Found elastix version: 4.800 in 'c:\\\\program files\\\\elastix_v4.8\\\\elastix.exe'\n"
     ]
    }
   ],
   "source": [
    "fumri_img_reg = hf.reg_imgs(moving=fumri_img, fixed=blmri_img, params=reg_params)\n",
    "ct_img_reg = hf.reg_imgs(moving=ct_img, fixed=blmri_img, params=reg_params)\n",
    "\n",
    "fused_img_reg = hf.reg_imgs(moving=fused_img[:,:,:,0], fixed=blmri_img, params=reg_params)\n",
    "spect_img_reg = hf.reg_imgs(moving=spect_img, fixed=blmri_img, params=reg_params)"
   ]
  },
  {
   "cell_type": "code",
   "execution_count": null,
   "metadata": {
    "collapsed": true
   },
   "outputs": [],
   "source": [
    "masked_spect = hf.apply_mask(spect_img_reg, )"
   ]
  },
  {
   "cell_type": "code",
   "execution_count": 33,
   "metadata": {},
   "outputs": [],
   "source": [
    "def save_nii(img, dest):\n",
    "    nii = nib.Nifti1Image(img, np.eye(4))\n",
    "    nib.save(nii, dest)"
   ]
  },
  {
   "cell_type": "code",
   "execution_count": 34,
   "metadata": {},
   "outputs": [],
   "source": [
    "save_nii(fumri_img_reg, nii_paths[\"fumri\"])\n",
    "save_nii(blmri_img, nii_paths[\"blmri\"])\n",
    "save_nii(ct_img_reg, nii_paths[\"ct\"])\n",
    "save_nii(fused_img_reg, nii_paths[\"fused\"])\n",
    "save_nii(spect_img_reg, nii_paths[\"spect\"])"
   ]
  },
  {
   "cell_type": "code",
   "execution_count": null,
   "metadata": {
    "collapsed": true
   },
   "outputs": [],
   "source": [
    "plt.hist(spect_img)"
   ]
  },
  {
   "cell_type": "code",
   "execution_count": null,
   "metadata": {
    "collapsed": true
   },
   "outputs": [],
   "source": [
    "def get_dosage(df, spect_img_reg, mask):\n",
    "    \"\"\"Calculates dosage contained in mask by summing intensities in the registered spect_img.\n",
    "    Assumes that intensity is linearly proportional to concentration.\"\"\""
   ]
  },
  {
   "cell_type": "code",
   "execution_count": 231,
   "metadata": {},
   "outputs": [
    {
     "data": {
      "image/png": "[encoded data removed]",
      "text/plain": [
       "<matplotlib.figure.Figure at 0x2c28354c630>"
      ]
     },
     "metadata": {},
     "output_type": "display_data"
    }
   ],
   "source": [
    "hf.plot_section_auto(fused_img)"
   ]
  },
  {
   "cell_type": "code",
   "execution_count": 242,
   "metadata": {},
   "outputs": [
    {
     "data": {
      "image/png": "[encoded data removed]",
      "text/plain": [
       "<matplotlib.figure.Figure at 0x2c2a6f2acc0>"
      ]
     },
     "metadata": {},
     "output_type": "display_data"
    }
   ],
   "source": [
    "hf.plot_section_auto_1ch(spect_img)"
   ]
  }
 ],
 "metadata": {
  "anaconda-cloud": {},
  "kernelspec": {
   "display_name": "Python 3",
   "language": "python",
   "name": "python3"
  },
  "language_info": {
   "codemirror_mode": {
    "name": "ipython",
    "version": 3
   },
   "file_extension": ".py",
   "mimetype": "text/x-python",
   "name": "python",
   "nbconvert_exporter": "python",
   "pygments_lexer": "ipython3",
   "version": "3.5.0"
  }
 },
 "nbformat": 4,
 "nbformat_minor": 1
}
