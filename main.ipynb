{
 "cells": [
  {
   "cell_type": "markdown",
   "metadata": {},
   "source": [
    "# Overall approach\n",
    "This is a tool for classifying precontrast and 20s postcontrast MRIs (into LI-RADS stages / predicting survival?).\n",
    "\n",
    "#### Training\n",
    "-In mini-batches:\n",
    "1. Import pre/20s DICOMs\n",
    "2. Register pre to 20s\n",
    "3. Segment whole liver\n",
    "4. Obtain labels for HCC/non-HCC, as well as (HCC severity or survival?)\n",
    "5. For HCC labels, calculate and store embeddings (feature values)\n",
    "6. Train CNN on all\n",
    "\n",
    "-After CNN is trained, then:\n",
    "7. Train feature engineered network on HCC labels\n",
    "\n",
    "#### Test pipeline:\n",
    "1. Import pre/20s DICOMs\n",
    "2. Register pre to 20s\n",
    "3. Segment whole liver\n",
    "4. Use CNN to classify as HCC/non-HCC\n",
    "5. If HCC, calculate features values\n",
    "6. If HCC, use feature engineered network to predict label\n",
    "\n",
    "#### CNN models\n",
    "First, try VGGNet, then ResNet. Then try VAE-GAN, training on benign only; deviation score = malignancy."
   ]
  },
  {
   "cell_type": "code",
   "execution_count": null,
   "metadata": {
    "collapsed": true
   },
   "outputs": [],
   "source": [
    "import requests"
   ]
  },
  {
   "cell_type": "code",
   "execution_count": 5,
   "metadata": {
    "collapsed": false
   },
   "outputs": [],
   "source": [
    "import nibabel, argparse, matplotlib, sys\n",
    "import numpy as np\n",
    "import matplotlib.pyplot as plt\n",
    "from skimage import measure\n",
    "from mpl_toolkits.mplot3d import Axes3D\n",
    "from pylab import get_cmap"
   ]
  },
  {
   "cell_type": "code",
   "execution_count": null,
   "metadata": {
    "collapsed": true
   },
   "outputs": [],
   "source": []
  },
  {
   "cell_type": "code",
   "execution_count": null,
   "metadata": {
    "collapsed": true
   },
   "outputs": [],
   "source": [
    "def draw_fig(image_array, name):\n",
    "    \"\"\"Draw an image of type np array and save it to.\"\"\"\n",
    "\n",
    "    image_array = image_array[:,:,slice_index]\n",
    "    aspect = float(image_array.shape[1]) / image_array.shape[0]\n",
    "    w = 20\n",
    "    h = int(aspect * w)\n",
    "\n",
    "    image_array = np.rot90(image_array)\n",
    "\n",
    "    fig = plt.figure(frameon=False)\n",
    "    fig.set_size_inches(w,h)\n",
    "    ax = plt.Axes(fig, [0., 0., 1., 1.])\n",
    "    ax.set_axis_off()\n",
    "    fig.add_axes(ax)\n",
    "    ax.imshow(image_array, interpolation='bilinear', norm=cnorm, cmap=plt.cm.gray, aspect='auto')\n",
    "\n",
    "    img_fname = name + '.png'\n",
    "    plt.savefig(img_fname)\n",
    "    print('Segmentation saved as %s' % img_fname)"
   ]
  },
  {
   "cell_type": "code",
   "execution_count": null,
   "metadata": {
    "collapsed": true
   },
   "outputs": [],
   "source": [
    "def create_features(name, precontrast, arterial, liver_mask_file, tumor_mask_file, format_output, header_output, seg, slice_index):\n",
    "    diff = art_data - pre_data # Calculate the subtracted image.\n",
    "    diff[diff < 0] = 0.0  # The pre-contrast should never be more than the arterial. Clamp negative values to zero.\n",
    "\n",
    "    x, y, z = diff.shape\n",
    "\n",
    "    ##### Begin code for drawing specific mask slices. ######\n",
    "    cnorm = matplotlib.colors.Normalize(vmin=0, vmax=np.amax(diff))\n",
    "\n",
    "    draw_fig(diff, 'whole')\n",
    "\n",
    "    # Calculate the liver volume.\n",
    "    liver_volume = np.sum(liver) * pre_dimx * pre_dimy * pre_dimz\n",
    "    is_in_mm = pre_units == 2 or liver_volume > 10000\n",
    "    if is_in_mm: # 2 is the code for millimeter, we convert to cubic centimeters.\n",
    "        liver_volume /= 1000\n",
    "\n",
    "    tumor_volume = np.sum(tumor) * pre_dimx * pre_dimy * pre_dimz\n",
    "    if is_in_mm: # 2 is the code for millimeter, we convert to cubic centimeters.\n",
    "        tumor_volume /= 1000\n",
    "\n",
    "    mean_intensity = np.mean(diff[img > 0])\n",
    "    std_intensity = np.std(diff[img > 0])\n",
    "\n",
    "    # Calculate the volume of tumor that whose voxel intensities are greater than the mean liver intensity.\n",
    "    # Note this is NOT the same threshold as qEASL (which would need a parenchymal ROI in order to define the intensity threshold).\n",
    "    enhancing_tumor_volume = np.sum(tumor[just_tumor > mean_liver_intensity]) * pre_dimx * pre_dimy * pre_dimz\n",
    "    if is_in_mm: # 2 is the code for millimeter, we convert to cubic centimeters.\n",
    "        enhancing_tumor_volume /= 1000\n",
    "\n",
    "    headers = ['Name', 'Liver volume', 'Mean liver intensity', 'STD liver intensity', 'Tumor volume', 'Mean tumor intensity', 'STD tumor intensity', 'Enhancing tumor volume']\n",
    "    features = [name, liver_volume, mean_liver_intensity, std_liver_intensity, tumor_volume, mean_tumor_intensity, std_tumor_intensity, enhancing_tumor_volume]\n",
    "    if format_output == 'tabulate':\n",
    "        if header_output:\n",
    "            results = tabulate.tabulate([features], headers=headers)\n",
    "        else:\n",
    "            results = tabulate.tabulate([features])\n",
    "    else:\n",
    "        features_row = '\\t'.join(str(feature) for feature in features)\n",
    "        if header_output:\n",
    "            results = '\\t'.join(headers) + '\\n' + features_row\n",
    "        else:\n",
    "            results = features_row\n",
    "\n",
    "    print(results)"
   ]
  },
  {
   "cell_type": "code",
   "execution_count": null,
   "metadata": {
    "collapsed": true
   },
   "outputs": [],
   "source": [
    "def get_dcms(host='vnatest1vt', port='8082', user='user', pw='pass'):\n",
    "    query_str = '&'.join(['requestType=WADO','contenttype=image/jpeg'])\n",
    "    #'AcuoREST/search='\n",
    "    #'0x00080060=ct' modality\n",
    "    #'0x00100010=a*' names beginning with a\n",
    "    #'&studyUID='\n",
    "    #'&seriesUID='\n",
    "    #'&objectUID='\n",
    "    url = ''.join(['http://', host, ':', port, '/AcuoWadoHandler/wadoget?', query_str])\n",
    "    \n",
    "    r = requests.get(url, auth=(user, pw))\n",
    "    \n",
    "    return r.json()"
   ]
  },
  {
   "cell_type": "code",
   "execution_count": null,
   "metadata": {
    "collapsed": true
   },
   "outputs": [],
   "source": [
    "def get_report(user='user', pw='pass', mrns=None):\n",
    "    query_str = '&'.join(['format=json', 'exam_type=mri'])\n",
    "    \n",
    "    if mrns is not None:\n",
    "        query_str += '&patient_mrn__in='+','.join(mrns)\n",
    "        \n",
    "    url = 'https://demo.montagehealthcare.com/api/v1/report/?' + query_str\n",
    "    \n",
    "    r = requests.get(url, auth=(user, pw))\n",
    "    \n",
    "    return r.json()"
   ]
  },
  {
   "cell_type": "code",
   "execution_count": null,
   "metadata": {
    "collapsed": true
   },
   "outputs": [],
   "source": []
  },
  {
   "cell_type": "code",
   "execution_count": null,
   "metadata": {
    "collapsed": true
   },
   "outputs": [],
   "source": [
    "def ni_load(ni_fn):\n",
    "    \"\"\"\n",
    "    Load a nifti image along with its dimensions.\n",
    "    \n",
    "    img is the normalized (0-255) image\n",
    "    dims is the spacing between pixels\n",
    "    dim_units is the unit of spacing (e.g. millimeters or centimeters)\n",
    "    \"\"\"\n",
    "    \n",
    "    img = nibabel.load(ni_fn)\n",
    "    img = nibabel.as_closest_canonical(img) # make sure it is in the correct orientation\n",
    "    \n",
    "    dims = img.header['pixdim'][1:4]\n",
    "    dim_units = img.header['xyzt_units']\n",
    "    \n",
    "    img = np.asarray(img.dataobj).astype(dtype='float64')\n",
    "    img = img[::-1,:,:] # Orient the image along the same axis as the binary masks.\n",
    "    img =  (255 * (img / np.amax(img))).astype(dtype='uint8')\n",
    "    \n",
    "    return img, dims, dim_units\n",
    "\n",
    "def apply_mask(img, mask_file):\n",
    "    \"\"\"Apply the mask in mask_file to img and return the masked image.\"\"\"\n",
    "    with open(mask_file, 'rb') as f:\n",
    "        mask = f.read()\n",
    "        mask = np.fromstring(mask, dtype='uint8')\n",
    "        mask = np.reshape(mask, img.shape, order='F')\n",
    "        mask = mask[:,::-1,:]\n",
    "    \n",
    "    img[mask <= 0] = 0\n",
    "    \n",
    "    return img"
   ]
  },
  {
   "cell_type": "code",
   "execution_count": null,
   "metadata": {
    "collapsed": true
   },
   "outputs": [],
   "source": [
    "def training_pipeline(pre_dcm_fns, post_dcm_fns, labels):\n",
    "    \"\"\"\n",
    "    pre_dcm_fn is the precontrast image, and post_dcm_fn is the postcontrast image\n",
    "    1. Import pre/20s DICOMs\n",
    "    2. Register pre to 20s\n",
    "    3. Segment whole liver\n",
    "    4. Obtain labels for HCC/non-HCC, as well as (HCC severity or survival?)\n",
    "    5. For HCC labels, calculate and store embeddings (feature values)\n",
    "    6. Train CNN on all\n",
    "    7. Train feature engineered network on HCC labels\n",
    "    \"\"\"\n",
    "    train_frac = 0.7\n",
    "    data_size = len(pre_dcm_fns)\n",
    "    \n",
    "    # TODO: do a proper k-fold x-validation split\n",
    "    X_cnn_train = X_cnn[:data_size*train_frac]\n",
    "    X_cnn_val = X_cnn[data_size*train_frac:]\n",
    "    \n",
    "    for x in range(data_size):\n",
    "        pre_dcm_fn = pre_dcm_fns[x]\n",
    "        post_dcm_fn = post_dcm_fn[x]\n",
    "        label = labels[x]\n",
    "        \n",
    "        pre_img = dcm_load(pre_dcm_fn)\n",
    "        post_img = dcm_load(post_dcm_fn)\n",
    "\n",
    "        pre_img = seg_liver(pre_img)\n",
    "        post_img = seg_liver(post_img)\n",
    "        \n",
    "        y_cnn = label['is-hcc']\n",
    "        label.pop('is-hcc')\n",
    "        X_cnn = [pre_img, post_img, label]\n",
    "        \n",
    "        \"\"\"if y_cnn:\n",
    "            features = get_features(pre_img, post_img, label)\n",
    "            \n",
    "            # rfm is random forest model\n",
    "            y_rfm = label\n",
    "            X_rfm = [pre_img, post_img, label]\"\"\""
   ]
  },
  {
   "cell_type": "code",
   "execution_count": null,
   "metadata": {
    "collapsed": true
   },
   "outputs": [],
   "source": [
    "def dcm_2_ni(fn):\n",
    "    pass"
   ]
  },
  {
   "cell_type": "code",
   "execution_count": null,
   "metadata": {
    "collapsed": true
   },
   "outputs": [],
   "source": [
    "def reg_dcms(moving, target):\n",
    "    pass\n",
    "\n",
    "def seg_liver(img):\n",
    "    pass"
   ]
  }
 ],
 "metadata": {
  "anaconda-cloud": {},
  "kernelspec": {
   "display_name": "Python [conda env:medical-img]",
   "language": "python",
   "name": "conda-env-medical-img-py"
  },
  "language_info": {
   "codemirror_mode": {
    "name": "ipython",
    "version": 3
   },
   "file_extension": ".py",
   "mimetype": "text/x-python",
   "name": "python",
   "nbconvert_exporter": "python",
   "pygments_lexer": "ipython3",
   "version": "3.6.1"
  }
 },
 "nbformat": 4,
 "nbformat_minor": 1
}
