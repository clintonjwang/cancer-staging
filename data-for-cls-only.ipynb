{
 "cells": [
  {
   "cell_type": "markdown",
   "metadata": {},
   "source": [
    "Retrieves images from \"full_imgs\" and stores each VOI separately in \"train_imgs\". Retrieves spreadsheet listing VOIs and stores them in text file. Requires data-retrieval to be run first."
   ]
  },
  {
   "cell_type": "code",
   "execution_count": 1,
   "metadata": {
    "collapsed": true
   },
   "outputs": [],
   "source": [
    "import helper_fxns as hf\n",
    "import transforms as tr\n",
    "import importlib\n",
    "import numpy as np\n",
    "import os\n",
    "import requests\n",
    "import sys\n",
    "import copy\n",
    "import math\n",
    "import pandas as pd\n",
    "import random"
   ]
  },
  {
   "cell_type": "code",
   "execution_count": 2,
   "metadata": {
    "collapsed": true
   },
   "outputs": [],
   "source": [
    "with open(\"train_list.txt\", \"r\") as f:\n",
    "    vois = [x.split(',') for x in f.read().split(\"\\n\")]"
   ]
  },
  {
   "cell_type": "code",
   "execution_count": 3,
   "metadata": {
    "scrolled": true
   },
   "outputs": [],
   "source": [
    "voi_df = pd.DataFrame(vois, columns = [\"Filename\", \"x1\", \"x2\", \"y1\", \"y2\", \"z1\", \"z2\", \"cls\"]).dropna()\n",
    "voi_df = voi_df.astype({\"x1\": int, \"x2\": int, \"y1\": int, \"y2\": int, \"z1\": int, \"z2\": int})"
   ]
  },
  {
   "cell_type": "code",
   "execution_count": 4,
   "metadata": {
    "scrolled": true
   },
   "outputs": [],
   "source": [
    "voi_df['dx'] = voi_df.apply(lambda row: row['x2'] - row['x1'], axis=1)\n",
    "voi_df['dy'] = voi_df.apply(lambda row: row['y2'] - row['y1'], axis=1)\n",
    "voi_df['dz'] = voi_df.apply(lambda row: row['z2'] - row['z1'], axis=1)"
   ]
  },
  {
   "cell_type": "code",
   "execution_count": 12,
   "metadata": {},
   "outputs": [
    {
     "data": {
      "text/plain": [
       "49"
      ]
     },
     "execution_count": 12,
     "metadata": {},
     "output_type": "execute_result"
    }
   ],
   "source": [
    "max(voi_df['dy'])"
   ]
  },
  {
   "cell_type": "code",
   "execution_count": 5,
   "metadata": {
    "collapsed": true
   },
   "outputs": [],
   "source": [
    "def extract_voi(img, vois, final_size = [32,49,10], aug=False):\n",
    "    voi_imgs = []\n",
    "    classes = []\n",
    "    \n",
    "    if aug:\n",
    "        crop_size = [math.ceil(x*math.sqrt(2)) for x in final_size]\n",
    "    else:\n",
    "        crop_size = final_size\n",
    "    \n",
    "    for _, voi in vois.iterrows():\n",
    "        xpad = crop_size[0] - (voi['x2']-voi['x1'])\n",
    "        ypad = crop_size[1] - (voi['y2']-voi['y1'])\n",
    "        zpad = crop_size[2] - (voi['z2']-voi['z1'])\n",
    "        \n",
    "        side_padding = math.ceil(max(xpad, ypad, zpad) / 2)\n",
    "        #print(side_padding)\n",
    "        \n",
    "        pad_img = []\n",
    "        \n",
    "        for ch in range(img.shape[-1]):\n",
    "            pad_img.append(np.pad(img[:,:,:,ch], side_padding, 'constant'))\n",
    "            \n",
    "        pad_img = np.stack(pad_img, axis=3)\n",
    "        \n",
    "        voi['x1'] += side_padding - math.ceil(xpad/2)\n",
    "        voi['x2'] += side_padding + math.floor(xpad/2)\n",
    "        voi['y1'] += side_padding - math.ceil(ypad/2)\n",
    "        voi['y2'] += side_padding + math.floor(ypad/2)\n",
    "        voi['z1'] += side_padding - math.ceil(zpad/2)\n",
    "        voi['z2'] += side_padding + math.floor(zpad/2)\n",
    "            \n",
    "        if aug:\n",
    "            base_img = pad_img[voi['x1']:voi['x2'], voi['y1']:voi['y2'], voi['z1']:voi['z2'], :]\n",
    "            aug_imgs = augment(base_img, final_size)\n",
    "            voi_imgs = voi_imgs + aug_imgs\n",
    "            classes = classes + [voi['cls']] * len(aug_imgs)\n",
    "            \n",
    "        else:\n",
    "            voi_imgs.append(pad_img[voi['x1']:voi['x2'], voi['y1']:voi['y2'], voi['z1']:voi['z2'], :])\n",
    "            classes.append(voi['cls'])\n",
    "    \n",
    "    return voi_imgs, classes"
   ]
  },
  {
   "cell_type": "code",
   "execution_count": 7,
   "metadata": {
    "collapsed": true
   },
   "outputs": [],
   "source": [
    "def augment(img, final_size, num_samples = 40, translate=False):\n",
    "    aug_imgs = []\n",
    "    \n",
    "    for _ in range(num_samples):\n",
    "        angle = random.randint(0, 359)\n",
    "        temp_img = tr.rotate(img, angle)\n",
    "        \n",
    "        scale = [random.uniform(0.9, 1.1), random.uniform(0.9, 1.1), random.uniform(0.9, 1.1)]\n",
    "        temp_img = tr.scale3d(temp_img, scale)\n",
    "        \n",
    "        if translate:\n",
    "            trans = [random.randint(-5, 5), random.uniform(-5, 5), random.uniform(-5, 5)]\n",
    "        else:\n",
    "            trans = [0,0,0]\n",
    "        \n",
    "        flip = [random.choice([-1, 1]), random.choice([-1, 1]), random.choice([-1, 1])]\n",
    "        \n",
    "        crops = [temp_img.shape[i] - final_size[i] for i in range(3)]\n",
    "        aug_imgs.append(temp_img[math.floor(crops[0]/2)*flip[0] + trans[0] : -math.ceil(crops[0]/2)*flip[0] + trans[0] : flip[0],\n",
    "                                 math.floor(crops[1]/2)*flip[1] + trans[1] : -math.ceil(crops[1]/2)*flip[1] + trans[1] : flip[1],\n",
    "                                 math.floor(crops[2]/2)*flip[2] + trans[2] : -math.ceil(crops[2]/2)*flip[2] + trans[2] : flip[2], :])\n",
    "    \n",
    "    return aug_imgs"
   ]
  },
  {
   "cell_type": "code",
   "execution_count": 74,
   "metadata": {
    "collapsed": true
   },
   "outputs": [],
   "source": [
    "x=[3,2,36,2212,6]"
   ]
  },
  {
   "cell_type": "code",
   "execution_count": 77,
   "metadata": {},
   "outputs": [
    {
     "data": {
      "text/plain": [
       "[6, 2212, 36]"
      ]
     },
     "execution_count": 77,
     "metadata": {},
     "output_type": "execute_result"
    }
   ],
   "source": [
    "x[-1:1:-1]"
   ]
  },
  {
   "cell_type": "code",
   "execution_count": 96,
   "metadata": {
    "collapsed": true
   },
   "outputs": [],
   "source": [
    "img = np.load(\"full_imgs\\\\\"+img_fn)"
   ]
  },
  {
   "cell_type": "code",
   "execution_count": 95,
   "metadata": {},
   "outputs": [
    {
     "data": {
      "text/plain": [
       "'E105152534.npy'"
      ]
     },
     "execution_count": 95,
     "metadata": {},
     "output_type": "execute_result"
    }
   ],
   "source": [
    "img_fn"
   ]
  },
  {
   "cell_type": "code",
   "execution_count": 27,
   "metadata": {},
   "outputs": [
    {
     "data": {
      "text/plain": [
       "<matplotlib.image.AxesImage at 0x1a08c584390>"
      ]
     },
     "execution_count": 27,
     "metadata": {},
     "output_type": "execute_result"
    },
    {
     "data": {
      "image/png": "[encoded data removed]",
      "text/plain": [
       "<matplotlib.figure.Figure at 0x1a08c518a20>"
      ]
     },
     "metadata": {},
     "output_type": "display_data"
    }
   ],
   "source": [
    "import matplotlib.pyplot as plt\n",
    "%matplotlib inline\n",
    "plt.imshow(cropped_imgs[6][:,:,5,0], cmap='gray')"
   ]
  },
  {
   "cell_type": "code",
   "execution_count": 8,
   "metadata": {
    "scrolled": true
   },
   "outputs": [],
   "source": [
    "for img_fn in os.listdir(\"full_imgs\\\\\"):\n",
    "    img = np.load(\"full_imgs\\\\\"+img_fn)\n",
    "    cropped_imgs, classes = extract_voi(img, voi_df[voi_df[\"Filename\"] == img_fn], aug=False)\n",
    "    \n",
    "    for cl in set(classes):\n",
    "        subdir = \"train_imgs\\\\\"+cl\n",
    "        if not os.path.exists(subdir):\n",
    "            os.makedirs(subdir)\n",
    "            \n",
    "    for i in range(len(classes)):\n",
    "        np.save(\"train_imgs\\\\\"+classes[i]+\"\\\\\"+img_fn[:-4]+\"_\"+str(i), cropped_imgs[i])"
   ]
  },
  {
   "cell_type": "code",
   "execution_count": null,
   "metadata": {
    "collapsed": true
   },
   "outputs": [],
   "source": []
  },
  {
   "cell_type": "code",
   "execution_count": null,
   "metadata": {
    "collapsed": true
   },
   "outputs": [],
   "source": []
  },
  {
   "cell_type": "code",
   "execution_count": null,
   "metadata": {
    "collapsed": true
   },
   "outputs": [],
   "source": []
  },
  {
   "cell_type": "code",
   "execution_count": 84,
   "metadata": {},
   "outputs": [],
   "source": [
    "def aug_rotation(img, final_size, num_samples = 5):\n",
    "    aug_imgs = []\n",
    "    crops = [img.shape[i] - final_size[i] for i in range(3)]\n",
    "    \n",
    "    for _ in range(num_samples):\n",
    "        angle = int(random.uniform(0, 360))\n",
    "        aug_imgs.append(tr.rotate(img, angle)[math.floor(crops[0]/2):-math.ceil(crops[0]/2),\n",
    "                                              math.floor(crops[1]/2):-math.ceil(crops[1]/2),\n",
    "                                              math.floor(crops[2]/2):-math.ceil(crops[2]/2), :])\n",
    "    \n",
    "    return aug_imgs"
   ]
  },
  {
   "cell_type": "code",
   "execution_count": 52,
   "metadata": {
    "collapsed": true
   },
   "outputs": [],
   "source": [
    "def sliding_window(image, stepSize, windowSize):\n",
    "    # slide a window across the image\n",
    "    for y in xrange(0, image.shape[0], stepSize):\n",
    "        for x in xrange(0, image.shape[1], stepSize):\n",
    "            # yield the current window\n",
    "            yield (x, y, image[y:y + windowSize[1], x:x + windowSize[0]])"
   ]
  }
 ],
 "metadata": {
  "kernelspec": {
   "display_name": "Python 3",
   "language": "python",
   "name": "python3"
  },
  "language_info": {
   "codemirror_mode": {
    "name": "ipython",
    "version": 3
   },
   "file_extension": ".py",
   "mimetype": "text/x-python",
   "name": "python",
   "nbconvert_exporter": "python",
   "pygments_lexer": "ipython3",
   "version": "3.5.0"
  }
 },
 "nbformat": 4,
 "nbformat_minor": 2
}
