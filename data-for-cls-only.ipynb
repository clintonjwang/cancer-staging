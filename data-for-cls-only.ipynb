{
 "cells": [
  {
   "cell_type": "code",
   "execution_count": 10,
   "metadata": {
    "collapsed": true
   },
   "outputs": [],
   "source": [
    "import helper_fxns as hf\n",
    "import transforms as tr\n",
    "import importlib\n",
    "import matplotlib\n",
    "import matplotlib.pyplot as plt\n",
    "import numpy as np\n",
    "import os\n",
    "from pylab import get_cmap\n",
    "import requests\n",
    "import sys\n",
    "from skimage.draw import polygon\n",
    "import cv2\n",
    "import copy\n",
    "import math\n",
    "import pandas as pd"
   ]
  },
  {
   "cell_type": "code",
   "execution_count": 2,
   "metadata": {
    "collapsed": true
   },
   "outputs": [],
   "source": [
    "import random"
   ]
  },
  {
   "cell_type": "code",
   "execution_count": 13,
   "metadata": {
    "collapsed": true
   },
   "outputs": [],
   "source": [
    "with open(\"train_list.txt\", \"r\") as f:\n",
    "    vois = [x.split(',') for x in f.read().split(\"\\n\")]"
   ]
  },
  {
   "cell_type": "code",
   "execution_count": 23,
   "metadata": {
    "scrolled": true
   },
   "outputs": [],
   "source": [
    "voi_df = pd.DataFrame(vois, columns = [\"Filename\", \"x1\", \"x2\", \"y1\", \"y2\", \"z1\", \"z2\", \"cls\"]).dropna()\n",
    "voi_df = voi_df.astype({\"x1\": int, \"x2\": int, \"y1\": int, \"y2\": int, \"z1\": int, \"z2\": int})"
   ]
  },
  {
   "cell_type": "code",
   "execution_count": 55,
   "metadata": {
    "collapsed": true
   },
   "outputs": [],
   "source": [
    "def extract_voi(img, vois, final_size = [64,64,16], aug=False):\n",
    "    voi_imgs = []\n",
    "    classes = []\n",
    "    \n",
    "    if aug:\n",
    "        crop_size = [math.ceil(x) for x in final_size*math.sqrt(2)]\n",
    "    else:\n",
    "        crop_size = final_size\n",
    "    \n",
    "    for _, voi in vois.iterrows():\n",
    "        xpad = crop_size[0] - (voi['x2']-voi['x1'])\n",
    "        ypad = crop_size[1] - (voi['y2']-voi['y1'])\n",
    "        zpad = crop_size[2] - (voi['z2']-voi['z1'])\n",
    "        pad = (-math.ceil(xpad/2), math.floor(xpad/2),\n",
    "               -math.ceil(ypad/2), math.floor(ypad/2),\n",
    "               -math.ceil(zpad/2), math.floor(zpad/2))\n",
    "\n",
    "        for i in range(6):\n",
    "            voi[i+1] += pad[i]\n",
    "            \n",
    "        if aug:\n",
    "            return None\n",
    "            base_img = img[voi['x1']:voi['x2'], voi['y1']:voi['y2'], voi['z1']:voi['z2']]\n",
    "            aug_imgs = aug_rotation(base_img, final_size)\n",
    "            voi_imgs = voi_imgs + aug_imgs\n",
    "            classes.append(voi['cls'] * len(aug_imgs))\n",
    "            \n",
    "        else:\n",
    "            voi_imgs.append(img[voi['x1']:voi['x2'], voi['y1']:voi['y2'], voi['z1']:voi['z2']])\n",
    "            classes.append(voi['cls'])\n",
    "    \n",
    "    return voi_imgs, classes"
   ]
  },
  {
   "cell_type": "code",
   "execution_count": 64,
   "metadata": {
    "scrolled": false
   },
   "outputs": [],
   "source": [
    "for img_fn in os.listdir(\"imgs\\\\\"):\n",
    "    img = np.load(\"imgs\\\\\"+img_fn)\n",
    "    cropped_imgs, classes = extract_voi(img, voi_df[voi_df[\"Filename\"] == img_fn])\n",
    "    \n",
    "    for cl in set(classes):\n",
    "        subdir = \"train_imgs\\\\\"+cl\n",
    "        if not os.path.exists(subdir):\n",
    "            os.makedirs(subdir)\n",
    "            \n",
    "    for i in range(len(classes)):\n",
    "        np.save(\"train_imgs\\\\\"+classes[i]+\"\\\\\"+img_fn[:-4]+\"_\"+str(i), cropped_imgs[i])"
   ]
  },
  {
   "cell_type": "code",
   "execution_count": 52,
   "metadata": {
    "collapsed": true
   },
   "outputs": [],
   "source": [
    "def sliding_window(image, stepSize, windowSize):\n",
    "    # slide a window across the image\n",
    "    for y in xrange(0, image.shape[0], stepSize):\n",
    "        for x in xrange(0, image.shape[1], stepSize):\n",
    "            # yield the current window\n",
    "            yield (x, y, image[y:y + windowSize[1], x:x + windowSize[0]])"
   ]
  },
  {
   "cell_type": "code",
   "execution_count": 40,
   "metadata": {},
   "outputs": [],
   "source": [
    "def aug_rotation(img, num_samples = 5):\n",
    "    aug_imgs = [img]\n",
    "    \n",
    "    for _ in range(num_samples):\n",
    "        angle = int(random.uniform(0, 365))\n",
    "        aug_imgs.append(tr.rotate(img, angle))\n",
    "        for roi in mrn_rois:\n",
    "            aug_rois.append([mrn+\"_r\"+str(angle)+\".npy\"] + roi[1:])\n",
    "    \n",
    "    return aug_imgs"
   ]
  },
  {
   "cell_type": "code",
   "execution_count": null,
   "metadata": {
    "collapsed": true
   },
   "outputs": [],
   "source": []
  },
  {
   "cell_type": "code",
   "execution_count": null,
   "metadata": {
    "collapsed": true
   },
   "outputs": [],
   "source": [
    "with open('aug_train_list.txt', 'w') as f:\n",
    "    for line in aug_lines:\n",
    "        f.write(\",\".join(roi) + \"\\n\")"
   ]
  }
 ],
 "metadata": {
  "kernelspec": {
   "display_name": "Python 3",
   "language": "python",
   "name": "python3"
  },
  "language_info": {
   "codemirror_mode": {
    "name": "ipython",
    "version": 3
   },
   "file_extension": ".py",
   "mimetype": "text/x-python",
   "name": "python",
   "nbconvert_exporter": "python",
   "pygments_lexer": "ipython3",
   "version": "3.5.0"
  }
 },
 "nbformat": 4,
 "nbformat_minor": 2
}
