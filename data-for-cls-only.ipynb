{
 "cells": [
  {
   "cell_type": "markdown",
   "metadata": {},
   "source": [
    "Retrieves images from \"full_imgs\" and stores each VOI separately in \"train_imgs\". Retrieves spreadsheet listing VOIs and stores them in text file. Requires data-retrieval to be run first."
   ]
  },
  {
   "cell_type": "code",
   "execution_count": 31,
   "metadata": {
    "collapsed": true
   },
   "outputs": [],
   "source": [
    "import helper_fxns as hf\n",
    "import transforms as tr\n",
    "import importlib\n",
    "import numpy as np\n",
    "import os\n",
    "import requests\n",
    "import sys\n",
    "import copy\n",
    "import math\n",
    "import pandas as pd\n",
    "import random\n",
    "import matplotlib.pyplot as plt\n",
    "%matplotlib inline"
   ]
  },
  {
   "cell_type": "code",
   "execution_count": 32,
   "metadata": {
    "collapsed": true
   },
   "outputs": [],
   "source": [
    "with open(\"train_list.txt\", \"r\") as f:\n",
    "    vois = [x.split(',') for x in f.read().split(\"\\n\")]\n",
    "\n",
    "voi_df = pd.DataFrame(vois, columns = [\"Filename\", \"x1\", \"x2\", \"y1\", \"y2\", \"z1\", \"z2\", \"cls\"]).dropna()\n",
    "voi_df = voi_df.astype({\"x1\": int, \"x2\": int, \"y1\": int, \"y2\": int, \"z1\": int, \"z2\": int})\n",
    "\n",
    "voi_df['dx'] = voi_df.apply(lambda row: row['x2'] - row['x1'], axis=1)\n",
    "voi_df['dy'] = voi_df.apply(lambda row: row['y2'] - row['y1'], axis=1)\n",
    "voi_df['dz'] = voi_df.apply(lambda row: row['z2'] - row['z1'], axis=1)"
   ]
  },
  {
   "cell_type": "code",
   "execution_count": 91,
   "metadata": {},
   "outputs": [
    {
     "data": {
      "text/plain": [
       "14"
      ]
     },
     "execution_count": 91,
     "metadata": {},
     "output_type": "execute_result"
    }
   ],
   "source": [
    "max(voi_df['dx'])"
   ]
  },
  {
   "cell_type": "code",
   "execution_count": 134,
   "metadata": {
    "collapsed": true
   },
   "outputs": [],
   "source": [
    "voi_df = pd.read_csv('vois.csv')"
   ]
  },
  {
   "cell_type": "code",
   "execution_count": 135,
   "metadata": {
    "collapsed": true
   },
   "outputs": [],
   "source": [
    "def extract_voi(img, vois, final_size = [20,20,10], aug=False):\n",
    "    voi_imgs = []\n",
    "    classes = []\n",
    "    \n",
    "    if aug:\n",
    "        crop_size = [math.ceil(x*math.sqrt(2)) for x in final_size]\n",
    "    else:\n",
    "        crop_size = final_size\n",
    "    \n",
    "    for _, voi in vois.iterrows():\n",
    "        xpad = max(crop_size[0] - (voi['x2']-voi['x1']),0)\n",
    "        ypad = max(crop_size[1] - (voi['y2']-voi['y1']),0)\n",
    "        zpad = max(crop_size[2] - (voi['z2']-voi['z1']),0)\n",
    "        \n",
    "        \"\"\"plt.subplot(121)\n",
    "        plt.imshow(np.transpose(img[voi['x1']:voi['x2'],\n",
    "                                    voi['y2']:voi['y1']:-1,\n",
    "                                    (voi['z1']+voi['z2'])//2, 0], (1,0)), cmap='gray')\"\"\"\n",
    "        \n",
    "        side_padding = math.ceil(max(xpad, ypad, zpad) / 2)\n",
    "        \n",
    "        pad_img = []\n",
    "        \n",
    "        for ch in range(img.shape[-1]):\n",
    "            pad_img.append(np.pad(img[:,:,:,ch], side_padding, 'constant'))\n",
    "            \n",
    "        pad_img = np.stack(pad_img, axis=3)\n",
    "        \n",
    "        voi['x1'] += side_padding - math.ceil(xpad/2)\n",
    "        voi['x2'] += side_padding + math.floor(xpad/2)\n",
    "        voi['y1'] += side_padding - math.ceil(ypad/2)\n",
    "        voi['y2'] += side_padding + math.floor(ypad/2)\n",
    "        voi['z1'] += side_padding - math.ceil(zpad/2)\n",
    "        voi['z2'] += side_padding + math.floor(zpad/2)\n",
    "            \n",
    "        if aug:\n",
    "            base_img = pad_img[voi['x1']:voi['x2'], voi['y1']:voi['y2'], voi['z1']:voi['z2'], :]\n",
    "            aug_imgs = augment(base_img, final_size, translate=[-1,1])\n",
    "            voi_imgs = voi_imgs + aug_imgs\n",
    "            classes = classes + [voi['cls']] * len(aug_imgs)\n",
    "            \n",
    "        else:\n",
    "            voi_imgs.append(pad_img[voi['x1']:voi['x2'], voi['y1']:voi['y2'], voi['z1']:voi['z2'], :])\n",
    "            classes.append(voi['cls'])\n",
    "            \n",
    "        \"\"\"img = pad_img\n",
    "        plt.subplot(122)\n",
    "        plt.imshow(np.transpose(img[voi['x1']:voi['x2'],\n",
    "                                    voi['y2']:voi['y1']:-1,\n",
    "                                    (voi['z1']+voi['z2'])//2, 1], (1,0)), cmap='gray')\"\"\"\n",
    "        break\n",
    "        \n",
    "    return voi_imgs, classes"
   ]
  },
  {
   "cell_type": "code",
   "execution_count": 136,
   "metadata": {
    "collapsed": true
   },
   "outputs": [],
   "source": [
    "def augment(img, final_size, num_samples = 30, translate=None):\n",
    "    aug_imgs = []\n",
    "    \n",
    "    for _ in range(num_samples):\n",
    "        temp_img = img\n",
    "        angle = random.randint(0, 359)\n",
    "        temp_img = tr.rotate(temp_img, angle)\n",
    "        \n",
    "        #scales = [0.95, 1.05]\n",
    "        #scale = [random.uniform(scales[0],scales[1]), random.uniform(scales[0],scales[1]), random.uniform(scales[0],scales[1])]\n",
    "        #temp_img = tr.scale3d(temp_img, scale)\n",
    "        \n",
    "        if translate is not None:\n",
    "            trans = [random.randint(translate[0], translate[1]),\n",
    "                     random.randint(translate[0], translate[1]),\n",
    "                     0]\n",
    "        else:\n",
    "            trans = [0,0,0]\n",
    "        \n",
    "        flip = [random.choice([-1, 1]), random.choice([-1, 1]), random.choice([-1, 1])]\n",
    "        \n",
    "        crops = [temp_img.shape[i] - final_size[i] for i in range(3)]\n",
    "        aug_imgs.append(temp_img[math.floor(crops[0]/2)*flip[0] + trans[0] : -math.ceil(crops[0]/2)*flip[0] + trans[0] : flip[0],\n",
    "                                 math.floor(crops[1]/2)*flip[1] + trans[1] : -math.ceil(crops[1]/2)*flip[1] + trans[1] : flip[1],\n",
    "                                 math.floor(crops[2]/2)*flip[2] + trans[2] : -math.ceil(crops[2]/2)*flip[2] + trans[2] : flip[2], :])\n",
    "    \n",
    "    return aug_imgs"
   ]
  },
  {
   "cell_type": "code",
   "execution_count": 141,
   "metadata": {
    "scrolled": true
   },
   "outputs": [],
   "source": [
    "for img_fn in os.listdir(\"full_imgs\\\\\"):\n",
    "    img = np.load(\"full_imgs\\\\\"+img_fn)\n",
    "    cropped_imgs, classes = extract_voi(img, voi_df[voi_df[\"Filename\"] == img_fn], aug=True)\n",
    "    \n",
    "    for cl in set(classes):\n",
    "        subdir = \"train_imgs\\\\\"+cl\n",
    "        if not os.path.exists(subdir):\n",
    "            os.makedirs(subdir)\n",
    "            \n",
    "    for i in range(len(classes)):\n",
    "        np.save(\"train_imgs\\\\\"+classes[i]+\"\\\\\"+img_fn[:-4]+\"_\"+str(i), cropped_imgs[i])"
   ]
  },
  {
   "cell_type": "code",
   "execution_count": null,
   "metadata": {
    "collapsed": true
   },
   "outputs": [],
   "source": []
  },
  {
   "cell_type": "code",
   "execution_count": 131,
   "metadata": {},
   "outputs": [
    {
     "data": {
      "text/plain": [
       "['12042703.npy',\n",
       " '12082222.npy',\n",
       " '12229245.npy',\n",
       " '12239513.npy',\n",
       " '12296182.npy',\n",
       " '12302576.npy',\n",
       " '12314736.npy',\n",
       " '12905568.npy',\n",
       " '12972894.npy',\n",
       " '13010227.npy',\n",
       " '13028374.npy',\n",
       " '13064153.npy',\n",
       " 'E100314676.npy',\n",
       " 'E100529980.npy',\n",
       " 'E100610622.npy',\n",
       " 'E101047106.npy',\n",
       " 'E103599300.npy',\n",
       " 'E104657225.npy',\n",
       " 'E105152534.npy']"
      ]
     },
     "execution_count": 131,
     "metadata": {},
     "output_type": "execute_result"
    }
   ],
   "source": [
    "os.listdir(\"full_imgs\\\\\")"
   ]
  },
  {
   "cell_type": "code",
   "execution_count": 138,
   "metadata": {},
   "outputs": [
    {
     "data": {
      "text/plain": [
       "'13010227_11.npy'"
      ]
     },
     "execution_count": 138,
     "metadata": {},
     "output_type": "execute_result"
    }
   ],
   "source": [
    "os.listdir(\"train_imgs\\\\hcc\")[3]"
   ]
  },
  {
   "cell_type": "code",
   "execution_count": 140,
   "metadata": {
    "scrolled": false
   },
   "outputs": [
    {
     "data": {
      "text/plain": [
       "<matplotlib.image.AxesImage at 0x1af034c4588>"
      ]
     },
     "execution_count": 140,
     "metadata": {},
     "output_type": "execute_result"
    },
    {
     "data": {
      "image/png": "[encoded data removed]",
      "text/plain": [
       "<matplotlib.figure.Figure at 0x1af0255e940>"
      ]
     },
     "metadata": {},
     "output_type": "display_data"
    }
   ],
   "source": [
    "img = np.load(\"train_imgs\\\\hcc\\\\13010227_7.npy\")\n",
    "#img = np.load(\"train_imgs\\\\cyst\\\\12302576_70.npy\")\n",
    "plt.imshow(img[:,:,5,0], cmap='gray')"
   ]
  },
  {
   "cell_type": "code",
   "execution_count": 57,
   "metadata": {
    "collapsed": true,
    "scrolled": true
   },
   "outputs": [],
   "source": [
    "def plot_section(img, df, pad=30):\n",
    "    plt.subplot(121)\n",
    "    plt.imshow(np.transpose(img[df['x1']-pad:df['x2']+pad,\n",
    "                                df['y2']+pad:df['y1']-pad:-1,\n",
    "                                (df['z1']+df['z2'])//2, 0], (1,0)), cmap='gray')\n",
    "    plt.subplot(122)\n",
    "    plt.imshow(np.transpose(img[df['x1']-pad:df['x2']+pad,\n",
    "                                df['y2']+pad:df['y1']-pad:-1,\n",
    "                                (df['z1']+df['z2'])//2, 1], (1,0)), cmap='gray')"
   ]
  },
  {
   "cell_type": "code",
   "execution_count": 132,
   "metadata": {
    "scrolled": true
   },
   "outputs": [
    {
     "data": {
      "image/png": "[encoded data removed]",
      "text/plain": [
       "<matplotlib.figure.Figure at 0x1af0339ef28>"
      ]
     },
     "metadata": {},
     "output_type": "display_data"
    }
   ],
   "source": [
    "img_fn = \"12296182.npy\"\n",
    "img = np.load(\"full_imgs\\\\\"+img_fn)\n",
    "plot_section(img, voi_df[voi_df[\"Filename\"] == img_fn].iloc[0], pad=10)"
   ]
  },
  {
   "cell_type": "code",
   "execution_count": 32,
   "metadata": {},
   "outputs": [
    {
     "data": {
      "text/plain": [
       "<matplotlib.image.AxesImage at 0x1a08c670710>"
      ]
     },
     "execution_count": 32,
     "metadata": {},
     "output_type": "execute_result"
    },
    {
     "data": {
      "image/png": "[encoded data removed]",
      "text/plain": [
       "<matplotlib.figure.Figure at 0x1a08c5db780>"
      ]
     },
     "metadata": {},
     "output_type": "display_data"
    }
   ],
   "source": [
    "plt.imshow(cropped_imgs[0][:,:,5,0], cmap='gray')"
   ]
  },
  {
   "cell_type": "code",
   "execution_count": 106,
   "metadata": {},
   "outputs": [
    {
     "data": {
      "text/plain": [
       "(280, 214, 79)"
      ]
     },
     "execution_count": 106,
     "metadata": {},
     "output_type": "execute_result"
    }
   ],
   "source": [
    "img[:,:,:,1].shape"
   ]
  },
  {
   "cell_type": "code",
   "execution_count": 61,
   "metadata": {
    "scrolled": true
   },
   "outputs": [
    {
     "data": {
      "text/plain": [
       "<matplotlib.image.AxesImage at 0x1a08cc57860>"
      ]
     },
     "execution_count": 61,
     "metadata": {},
     "output_type": "execute_result"
    },
    {
     "data": {
      "image/png": "[encoded data removed]",
      "text/plain": [
       "<matplotlib.figure.Figure at 0x1a08cbc76d8>"
      ]
     },
     "metadata": {},
     "output_type": "display_data"
    }
   ],
   "source": []
  },
  {
   "cell_type": "code",
   "execution_count": null,
   "metadata": {
    "collapsed": true
   },
   "outputs": [],
   "source": []
  },
  {
   "cell_type": "code",
   "execution_count": null,
   "metadata": {
    "collapsed": true
   },
   "outputs": [],
   "source": []
  },
  {
   "cell_type": "code",
   "execution_count": null,
   "metadata": {
    "collapsed": true
   },
   "outputs": [],
   "source": [
    "img = np.lload"
   ]
  }
 ],
 "metadata": {
  "kernelspec": {
   "display_name": "Python 3",
   "language": "python",
   "name": "python3"
  },
  "language_info": {
   "codemirror_mode": {
    "name": "ipython",
    "version": 3
   },
   "file_extension": ".py",
   "mimetype": "text/x-python",
   "name": "python",
   "nbconvert_exporter": "python",
   "pygments_lexer": "ipython3",
   "version": "3.5.0"
  }
 },
 "nbformat": 4,
 "nbformat_minor": 2
}
