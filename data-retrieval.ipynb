{
 "cells": [
  {
   "cell_type": "code",
   "execution_count": 1,
   "metadata": {
    "collapsed": true
   },
   "outputs": [],
   "source": [
    "import helper_fxns as hf\n",
    "import importlib\n",
    "import pandas as pd\n",
    "import numpy as np\n",
    "import os\n",
    "import requests\n",
    "import sys\n",
    "%matplotlib inline"
   ]
  },
  {
   "cell_type": "code",
   "execution_count": null,
   "metadata": {
    "collapsed": true
   },
   "outputs": [],
   "source": [
    "#img, scalings = make_isometric(img, max_dim_len=)\n",
    "\n",
    "#(x,y,z) = scale_xyz(x,y,z, scalings)"
   ]
  },
  {
   "cell_type": "code",
   "execution_count": 3,
   "metadata": {
    "collapsed": true
   },
   "outputs": [],
   "source": [
    "def flip_z(z, img):\n",
    "    return (img.shape[2]-z[1], img.shape[2]-z[0])\n",
    "\n",
    "def flip_y(y, img):\n",
    "    return (img.shape[1]-y[1], img.shape[1]-y[0])\n",
    "\n",
    "#def make_isometric(img, dims):\n",
    "#def scale_xyz(x,y,z, scalings):  "
   ]
  },
  {
   "cell_type": "code",
   "execution_count": 5,
   "metadata": {
    "collapsed": true
   },
   "outputs": [],
   "source": [
    "rois = []\n",
    "def add_roi(mrn, x, y, z, cls):\n",
    "    rois.append([str(mrn) + \".npy\", x[0], y[0], z[0], x[1], y[1], z[1], cls])"
   ]
  },
  {
   "cell_type": "code",
   "execution_count": 4,
   "metadata": {},
   "outputs": [],
   "source": [
    "def add_data(mrn,x,y,z,cls):\n",
    "    img = np.transpose(np.stack((pre[mrn][0], art[mrn][0])), (1,2,3,0))\n",
    "    img_dir = \"imgs\"\n",
    "    if not os.path.exists(img_dir):\n",
    "        os.makedirs(img_dir)\n",
    "    np.save(img_dir + \"\\\\\" + mrn, img)\n",
    "\n",
    "    y = flip_y(y,img)\n",
    "    z = flip_z(z,img)\n",
    "    add_roi(mrn, x,y,z, cls)"
   ]
  },
  {
   "cell_type": "code",
   "execution_count": 76,
   "metadata": {},
   "outputs": [],
   "source": [
    "def validate_dims(imgs, mrns):\n",
    "    \"\"\"Validate that all series of the same MRN have the same dimensions.\n",
    "    Images formatted as list of dicts. Each dict is a different image channel, indexed by MRN.\"\"\"\n",
    "    for mrn in mrns:\n",
    "        for x in range(1,len(imgs)):\n",
    "            assert imgs[0][mrn][0].shape == imgs[x][mrn][0].shape \\\n",
    "                   and np.all(imgs[0][mrn][1] == imgs[x][mrn][1]), \"img %s has wrong shape\" % mrn"
   ]
  },
  {
   "cell_type": "code",
   "execution_count": 83,
   "metadata": {},
   "outputs": [
    {
     "data": {
      "text/plain": [
       "<module 'helper_fxns' from 'C:\\\\Users\\\\Clinton Wang\\\\Documents\\\\liver-mr-processor\\\\helper_fxns.py'>"
      ]
     },
     "execution_count": 83,
     "metadata": {},
     "output_type": "execute_result"
    }
   ],
   "source": [
    "importlib.reload(hf)"
   ]
  },
  {
   "cell_type": "code",
   "execution_count": 37,
   "metadata": {
    "collapsed": true
   },
   "outputs": [],
   "source": [
    "def preprocess_df(df):\n",
    "    df.drop(set(df.columns).difference(['Patient E Number', \n",
    "          'x1', 'x2', 'y1', 'y2', 'z1', 'z2', 'Image type']), axis=1, inplace=True)\n",
    "    return df[df['Run'] == 1].dropna(subset=[\"x1\"])"
   ]
  },
  {
   "cell_type": "code",
   "execution_count": 54,
   "metadata": {
    "collapsed": true
   },
   "outputs": [],
   "source": [
    "subdir = base_dir+\"\\\\12229245\""
   ]
  },
  {
   "cell_type": "code",
   "execution_count": 102,
   "metadata": {},
   "outputs": [
    {
     "ename": "SyntaxError",
     "evalue": "positional argument follows keyword argument (<ipython-input-102-04b05dfb9d96>, line 20)",
     "output_type": "error",
     "traceback": [
      "\u001b[1;36m  File \u001b[1;32m\"<ipython-input-102-04b05dfb9d96>\"\u001b[1;36m, line \u001b[1;32m20\u001b[0m\n\u001b[1;33m    y=(row['y1'], row['y2']), z=(row['z1'], row['z2']), cls)\u001b[0m\n\u001b[1;37m                                                       ^\u001b[0m\n\u001b[1;31mSyntaxError\u001b[0m\u001b[1;31m:\u001b[0m positional argument follows keyword argument\n"
     ]
    }
   ],
   "source": [
    "def load_imgs(df, base_dir, cls):\n",
    "    df = preprocess_df(df)\n",
    "    mrns = list(df['Patient E Number'].astype(str))\n",
    "    for mrn in mrns:\n",
    "        subdir = base_dir+\"\\\\\"+mrn\n",
    "        try:\n",
    "            pre[mrn] = hf.dcm_load(subdir+r\"\\T1_BL\")\n",
    "            art[mrn] = hf.dcm_load(subdir+r\"\\T1_AP\")\n",
    "            #ven[mrn] = hf.dcm_load(subdir+r\"\\T1_VP\")\n",
    "            #equ[mrn] = hf.dcm_load(subdir+r\"\\T1_EQ\")\n",
    "            #t2[mrn] = hf.dcm_load(subdir+r\"\\T2\")\n",
    "        except Exception as e:\n",
    "            print(\"accession number %s encountered error\" % mrn, str(e))\n",
    "            continue\n",
    "            \n",
    "    validate_dims([pre, art], mrns)\n",
    "    \n",
    "    for _, row in df.iterrows():\n",
    "        add_data(str(row['Patient E Number']), x=(row['x1'], row['x2']),\n",
    "                 y=(row['y1'], row['y2']), z=(row['z1'], row['z2']), cls)"
   ]
  },
  {
   "cell_type": "code",
   "execution_count": 84,
   "metadata": {
    "scrolled": true
   },
   "outputs": [],
   "source": [
    "pre = {}\n",
    "art = {}\n",
    "#ven = {}\n",
    "#equ = {}\n",
    "#t2 = {}\n",
    "\n",
    "base_dir = r'raw_imgs\\simple_cysts'\n",
    "df = pd.read_excel(r'raw_imgs\\Prototype1.xlsx', sheetname=\"Hepatic Cyst\")\n",
    "load_imgs(df, base_dir=r'raw_imgs\\simple_cysts', cls='cyst')"
   ]
  },
  {
   "cell_type": "code",
   "execution_count": 90,
   "metadata": {
    "scrolled": true
   },
   "outputs": [],
   "source": [
    "base_dir = r'raw_imgs\\OPTN5A'\n",
    "df = pd.read_excel(r'raw_imgs\\Prototype1.xlsx', sheetname=\"OPTN 5A\")\n",
    "load_imgs(df, base_dir = r'raw_imgs\\OPTN5A', cls='hcc')"
   ]
  },
  {
   "cell_type": "code",
   "execution_count": 109,
   "metadata": {},
   "outputs": [],
   "source": [
    "with open('train_list.txt', 'w') as f:\n",
    "    for roi in rois:\n",
    "        f.write(\",\".join([str(x) for x in roi]) + \"\\n\")"
   ]
  },
  {
   "cell_type": "code",
   "execution_count": null,
   "metadata": {
    "collapsed": true
   },
   "outputs": [],
   "source": []
  },
  {
   "cell_type": "code",
   "execution_count": null,
   "metadata": {
    "collapsed": true
   },
   "outputs": [],
   "source": []
  },
  {
   "cell_type": "code",
   "execution_count": null,
   "metadata": {
    "collapsed": true
   },
   "outputs": [],
   "source": []
  },
  {
   "cell_type": "code",
   "execution_count": null,
   "metadata": {
    "collapsed": true
   },
   "outputs": [],
   "source": []
  },
  {
   "cell_type": "code",
   "execution_count": null,
   "metadata": {
    "collapsed": true
   },
   "outputs": [],
   "source": [
    "def draw_fig(image_array, name):\n",
    "    \"\"\"Draw an image of type np array and save it to.\"\"\"\n",
    "\n",
    "    image_array = image_array[:,:,slice_index]\n",
    "    aspect = float(image_array.shape[1]) / image_array.shape[0]\n",
    "    w = 20\n",
    "    h = int(aspect * w)\n",
    "\n",
    "    image_array = np.rot90(image_array)\n",
    "\n",
    "    fig = plt.figure(frameon=False)\n",
    "    fig.set_size_inches(w,h)\n",
    "    ax = plt.Axes(fig, [0., 0., 1., 1.])\n",
    "    ax.set_axis_off()\n",
    "    fig.add_axes(ax)\n",
    "    ax.imshow(image_array, interpolation='bilinear', norm=cnorm, cmap=plt.cm.gray, aspect='auto')\n",
    "\n",
    "    img_fname = name + '.png'\n",
    "    plt.savefig(img_fname)\n",
    "    print('Segmentation saved as %s' % img_fname)"
   ]
  },
  {
   "cell_type": "code",
   "execution_count": null,
   "metadata": {
    "collapsed": true
   },
   "outputs": [],
   "source": [
    "def create_features(name, precontrast, arterial, liver_mask_file, tumor_mask_file, format_output, header_output, seg, slice_index):\n",
    "    diff = art_data - pre_data # Calculate the subtracted image.\n",
    "    diff[diff < 0] = 0.0  # The pre-contrast should never be more than the arterial. Clamp negative values to zero.\n",
    "\n",
    "    x, y, z = diff.shape\n",
    "\n",
    "    ##### Begin code for drawing specific mask slices. ######\n",
    "    cnorm = matplotlib.colors.Normalize(vmin=0, vmax=np.amax(diff))\n",
    "\n",
    "    draw_fig(diff, 'whole')\n",
    "\n",
    "    # Calculate the liver volume.\n",
    "    liver_volume = np.sum(liver) * pre_dimx * pre_dimy * pre_dimz\n",
    "    is_in_mm = pre_units == 2 or liver_volume > 10000\n",
    "    if is_in_mm: # 2 is the code for millimeter, we convert to cubic centimeters.\n",
    "        liver_volume /= 1000\n",
    "\n",
    "    tumor_volume = np.sum(tumor) * pre_dimx * pre_dimy * pre_dimz\n",
    "    if is_in_mm: # 2 is the code for millimeter, we convert to cubic centimeters.\n",
    "        tumor_volume /= 1000\n",
    "\n",
    "    mean_intensity = np.mean(diff[img > 0])\n",
    "    std_intensity = np.std(diff[img > 0])\n",
    "\n",
    "    # Calculate the volume of tumor that whose voxel intensities are greater than the mean liver intensity.\n",
    "    # Note this is NOT the same threshold as qEASL (which would need a parenchymal ROI in order to define the intensity threshold).\n",
    "    enhancing_tumor_volume = np.sum(tumor[just_tumor > mean_liver_intensity]) * pre_dimx * pre_dimy * pre_dimz\n",
    "    if is_in_mm: # 2 is the code for millimeter, we convert to cubic centimeters.\n",
    "        enhancing_tumor_volume /= 1000\n",
    "\n",
    "    headers = ['Name', 'Liver volume', 'Mean liver intensity', 'STD liver intensity', 'Tumor volume', 'Mean tumor intensity', 'STD tumor intensity', 'Enhancing tumor volume']\n",
    "    features = [name, liver_volume, mean_liver_intensity, std_liver_intensity, tumor_volume, mean_tumor_intensity, std_tumor_intensity, enhancing_tumor_volume]\n",
    "    if format_output == 'tabulate':\n",
    "        if header_output:\n",
    "            results = tabulate.tabulate([features], headers=headers)\n",
    "        else:\n",
    "            results = tabulate.tabulate([features])\n",
    "    else:\n",
    "        features_row = '\\t'.join(str(feature) for feature in features)\n",
    "        if header_output:\n",
    "            results = '\\t'.join(headers) + '\\n' + features_row\n",
    "        else:\n",
    "            results = features_row\n",
    "\n",
    "    print(results)"
   ]
  },
  {
   "cell_type": "code",
   "execution_count": null,
   "metadata": {
    "collapsed": true
   },
   "outputs": [],
   "source": []
  },
  {
   "cell_type": "code",
   "execution_count": null,
   "metadata": {
    "collapsed": true
   },
   "outputs": [],
   "source": [
    "def training_pipeline(pre_dcm_fns, post_dcm_fns, labels):\n",
    "    \"\"\"\n",
    "    pre_dcm_fn is the precontrast image, and post_dcm_fn is the postcontrast image\n",
    "    1. Import pre/20s DICOMs\n",
    "    2. Register pre to 20s\n",
    "    3. Segment whole liver\n",
    "    4. Obtain labels for HCC/non-HCC, as well as (HCC severity or survival?)\n",
    "    5. For HCC labels, calculate and store embeddings (feature values)\n",
    "    6. Train CNN on all\n",
    "    7. Train feature engineered network on HCC labels\n",
    "    \"\"\"\n",
    "    train_frac = 0.7\n",
    "    data_size = len(pre_dcm_fns)\n",
    "    \n",
    "    # TODO: do a proper k-fold x-validation split\n",
    "    X_cnn_train = X_cnn[:data_size*train_frac]\n",
    "    X_cnn_val = X_cnn[data_size*train_frac:]\n",
    "    \n",
    "    for x in range(data_size):\n",
    "        pre_dcm_fn = pre_dcm_fns[x]\n",
    "        post_dcm_fn = post_dcm_fn[x]\n",
    "        label = labels[x]\n",
    "        \n",
    "        pre_img = dcm_load(pre_dcm_fn)\n",
    "        post_img = dcm_load(post_dcm_fn)\n",
    "\n",
    "        pre_img = seg_liver(pre_img)\n",
    "        post_img = seg_liver(post_img)\n",
    "        \n",
    "        y_cnn = label['is-hcc']\n",
    "        label.pop('is-hcc')\n",
    "        X_cnn = [pre_img, post_img, label]\n",
    "        \n",
    "        \"\"\"if y_cnn:\n",
    "            features = get_features(pre_img, post_img, label)\n",
    "            \n",
    "            # rfm is random forest model\n",
    "            y_rfm = label\n",
    "            X_rfm = [pre_img, post_img, label]\"\"\""
   ]
  },
  {
   "cell_type": "markdown",
   "metadata": {},
   "source": [
    "# Overall approach\n",
    "This is a tool for classifying precontrast and 20s postcontrast MRIs (into LI-RADS stages / predicting survival?).\n",
    "\n",
    "#### Training\n",
    "-In mini-batches:\n",
    "1. Import pre/20s DICOMs\n",
    "2. Register pre to 20s\n",
    "3. Segment whole liver\n",
    "4. Obtain labels for HCC/non-HCC, as well as (HCC severity or survival?)\n",
    "5. For HCC labels, calculate and store embeddings (feature values)\n",
    "6. Train CNN on all\n",
    "\n",
    "-After CNN is trained, then:\n",
    "7. Train feature engineered network on HCC labels\n",
    "\n",
    "#### Test pipeline:\n",
    "1. Import pre/20s DICOMs\n",
    "2. Register pre to 20s\n",
    "3. Segment whole liver\n",
    "4. Use CNN to classify as HCC/non-HCC\n",
    "5. If HCC, calculate features values\n",
    "6. If HCC, use feature engineered network to predict label\n",
    "\n",
    "#### CNN models\n",
    "First, try VGGNet, then ResNet. Then try VAE-GAN, training on benign only; deviation score = malignancy."
   ]
  }
 ],
 "metadata": {
  "anaconda-cloud": {},
  "kernelspec": {
   "display_name": "Python 3",
   "language": "python",
   "name": "python3"
  },
  "language_info": {
   "codemirror_mode": {
    "name": "ipython",
    "version": 3
   },
   "file_extension": ".py",
   "mimetype": "text/x-python",
   "name": "python",
   "nbconvert_exporter": "python",
   "pygments_lexer": "ipython3",
   "version": "3.5.0"
  }
 },
 "nbformat": 4,
 "nbformat_minor": 1
}
