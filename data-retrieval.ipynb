{
 "cells": [
  {
   "cell_type": "markdown",
   "metadata": {},
   "source": [
    "Retrieves images from \"raw_imgs\" folder and stores them in \"full_imgs\". Retrieves spreadsheet listing VOIs and stores them in text file."
   ]
  },
  {
   "cell_type": "code",
   "execution_count": 23,
   "metadata": {
    "collapsed": true
   },
   "outputs": [],
   "source": [
    "import helper_fxns as hf\n",
    "import transforms as tr\n",
    "import importlib\n",
    "import matplotlib.pyplot as plt\n",
    "import numpy as np\n",
    "import os\n",
    "import pandas as pd\n",
    "import pyelastix\n",
    "import requests\n",
    "import sys\n",
    "import time\n",
    "%matplotlib inline"
   ]
  },
  {
   "cell_type": "code",
   "execution_count": 32,
   "metadata": {
    "scrolled": true
   },
   "outputs": [
    {
     "data": {
      "text/plain": [
       "<module 'transforms' from 'C:\\\\Users\\\\Clinton\\\\Documents\\\\liver-mr-processor\\\\transforms.py'>"
      ]
     },
     "execution_count": 32,
     "metadata": {},
     "output_type": "execute_result"
    }
   ],
   "source": [
    "importlib.reload(hf)\n",
    "importlib.reload(tr)"
   ]
  },
  {
   "cell_type": "code",
   "execution_count": 26,
   "metadata": {
    "collapsed": true
   },
   "outputs": [],
   "source": [
    "def reg_imgs(moving, fixed, params):\n",
    "    fshape = fixed.shape\n",
    "    mshape = moving.shape\n",
    "    scale = [fshape[0]/mshape[0], fshape[1]/mshape[1], fshape[2]/mshape[2]]\n",
    "    moving = tr.scale3d(moving, scale)\n",
    "    moving = np.ascontiguousarray(moving).astype('float32')\n",
    "    fixed = np.ascontiguousarray(fixed).astype('float32')\n",
    "\n",
    "    moving, _ = pyelastix.register(moving, fixed, params, verbose=0)\n",
    "    _, field = pyelastix.register(fixed, moving, params, verbose=0)\n",
    "    return moving, scale, field"
   ]
  },
  {
   "cell_type": "code",
   "execution_count": 37,
   "metadata": {
    "collapsed": true
   },
   "outputs": [],
   "source": [
    "def scale_rois(x, y, z, pre_reg_scale, field=None, post_reg_scale=None):\n",
    "    scale = pre_reg_scale\n",
    "    x = (round(x[0]/scale[0]), round(x[1]/scale[0]))\n",
    "    y = (round(y[0]/scale[1]), round(y[1]/scale[1]))\n",
    "    z = (round(z[0]/scale[2]), round(z[1]/scale[2]))\n",
    "    \n",
    "    if field is not None:\n",
    "        xroi_distortions = field[0][x[0]:x[1]+1, y[0]:y[1]+1, z[0]:z[1]+1]\n",
    "        yroi_distortions = field[1][x[0]:x[1]+1, y[0]:y[1]+1, z[0]:z[1]+1]\n",
    "        zroi_distortions = field[2][x[0]:x[1]+1, y[0]:y[1]+1, z[0]:z[1]+1]\n",
    "\n",
    "        x = (x[0] + int(np.amin(xroi_distortions[0,:,:])), x[1] + int(np.amax(xroi_distortions[-1,:,:])))\n",
    "        y = (y[0] + int(np.amin(yroi_distortions[:,0,:])), y[1] + int(np.amax(yroi_distortions[:,-1,:])))\n",
    "        z = (z[0] + int(np.amin(zroi_distortions[:,:,0])), z[1] + int(np.amax(zroi_distortions[:,:,-1])))\n",
    "    \n",
    "        scale = post_reg_scale\n",
    "        x = (round(x[0]/scale[0]), round(x[1]/scale[0]))\n",
    "        y = (round(y[0]/scale[1]), round(y[1]/scale[1]))\n",
    "        z = (round(z[0]/scale[2]), round(z[1]/scale[2]))\n",
    "    \n",
    "    return x, y, z"
   ]
  },
  {
   "cell_type": "code",
   "execution_count": 148,
   "metadata": {
    "collapsed": true
   },
   "outputs": [],
   "source": [
    "t2[mrn] = hf.dcm_load(subdir+r\"\\T2\")"
   ]
  },
  {
   "cell_type": "code",
   "execution_count": 164,
   "metadata": {},
   "outputs": [
    {
     "data": {
      "text/plain": [
       "(288, 224, 72)"
      ]
     },
     "execution_count": 164,
     "metadata": {},
     "output_type": "execute_result"
    }
   ],
   "source": [
    "art[mrn].shape"
   ]
  },
  {
   "cell_type": "code",
   "execution_count": 23,
   "metadata": {
    "collapsed": true
   },
   "outputs": [],
   "source": [
    "mrn = '13028374'\n",
    "roi = (35, 43, 84, 92, 14, 15)\n",
    "x=(roi[0], roi[1])\n",
    "y=(roi[2], roi[3])\n",
    "z=(roi[4], roi[5])"
   ]
  },
  {
   "cell_type": "code",
   "execution_count": 18,
   "metadata": {},
   "outputs": [
    {
     "data": {
      "text/plain": [
       "[['13028374.npy', 65, 83, 140, 157, 18, 21, 'cyst'],\n",
       " ['13028374.npy', 35, 43, 84, 92, 14, 15, 'cyst'],\n",
       " ['13028374.npy', 31, 37, 107, 118, 7, 8, 'cyst'],\n",
       " ['12302576.npy', 156, 170, 248, 261, 10, 11, 'cyst'],\n",
       " ['12302576.npy', 118, 130, 248, 263, 15, 16, 'cyst'],\n",
       " ['12302576.npy', 79, 95, 181, 201, 6, 7, 'cyst'],\n",
       " ['12229245.npy', 96, 107, 146, 164, 31, 33, 'cyst'],\n",
       " ['E100314676.npy', 41, 53, 105, 118, 2, 4, 'cyst']]"
      ]
     },
     "execution_count": 18,
     "metadata": {},
     "output_type": "execute_result"
    }
   ],
   "source": [
    "rois"
   ]
  },
  {
   "cell_type": "code",
   "execution_count": 21,
   "metadata": {},
   "outputs": [
    {
     "data": {
      "text/plain": [
       "((65, 83), (140, 157), (18, 21))"
      ]
     },
     "execution_count": 21,
     "metadata": {},
     "output_type": "execute_result"
    }
   ],
   "source": [
    "x,y,z"
   ]
  },
  {
   "cell_type": "code",
   "execution_count": 22,
   "metadata": {},
   "outputs": [
    {
     "data": {
      "image/png": "[encoded data removed]",
      "text/plain": [
       "<matplotlib.figure.Figure at 0x16431e4a828>"
      ]
     },
     "metadata": {},
     "output_type": "display_data"
    }
   ],
   "source": [
    "plot_section(mrn, x,y,z)"
   ]
  },
  {
   "cell_type": "code",
   "execution_count": 30,
   "metadata": {
    "collapsed": true
   },
   "outputs": [],
   "source": [
    "mrn = '12296182'"
   ]
  },
  {
   "cell_type": "code",
   "execution_count": 38,
   "metadata": {
    "collapsed": true
   },
   "outputs": [],
   "source": [
    "t2[mrn] = t2[mrn] * 255/np.amax(t2[mrn])"
   ]
  },
  {
   "cell_type": "code",
   "execution_count": 39,
   "metadata": {},
   "outputs": [
    {
     "data": {
      "text/plain": [
       "Image(255.0, dtype=float32)"
      ]
     },
     "execution_count": 39,
     "metadata": {},
     "output_type": "execute_result"
    }
   ],
   "source": [
    "np.amax(t2[mrn])"
   ]
  },
  {
   "cell_type": "code",
   "execution_count": 45,
   "metadata": {},
   "outputs": [
    {
     "data": {
      "text/plain": [
       "<matplotlib.image.AxesImage at 0x1a9801b49b0>"
      ]
     },
     "execution_count": 45,
     "metadata": {},
     "output_type": "execute_result"
    },
    {
     "data": {
      "image/png": "[encoded data removed]",
      "text/plain": [
       "<matplotlib.figure.Figure at 0x1a989678cc0>"
      ]
     },
     "metadata": {},
     "output_type": "display_data"
    }
   ],
   "source": [
    "sl = 20\n",
    "plt.subplot(211)\n",
    "plt.imshow(np.transpose(art[mrn][:,::-1,sl], (1,0)), cmap='gray')\n",
    "plt.subplot(212)\n",
    "plt.imshow(np.transpose(t2[mrn][:,::-1,sl], (1,0)), cmap='gray')"
   ]
  },
  {
   "cell_type": "code",
   "execution_count": 4,
   "metadata": {
    "collapsed": true
   },
   "outputs": [],
   "source": [
    "def plot_section(mrn,x,y,z):\n",
    "    plt.subplot(211)\n",
    "    plt.imshow(np.transpose(art[mrn][x[0]-30:x[1]+30, y[1]+30:y[0]-30:-1, (z[0]+z[1])//2], (1,0)), cmap='gray')\n",
    "    plt.subplot(212)\n",
    "    plt.imshow(np.transpose(t2[mrn][x[0]-30:x[1]+30, y[1]+30:y[0]-30:-1, (z[0]+z[1])//2], (1,0)), cmap='gray')"
   ]
  },
  {
   "cell_type": "code",
   "execution_count": 20,
   "metadata": {
    "collapsed": true
   },
   "outputs": [],
   "source": [
    "def add_roi(mrn, x, y, z, cls):\n",
    "    rois.append([str(mrn) + \".npy\", x[0], x[1], y[0], y[1], z[0], z[1], cls])\n",
    "\n",
    "def apply_mask(img, mask_file):\n",
    "    with open(mask_file, 'rb') as f:\n",
    "        mask = f.read()\n",
    "        mask = np.fromstring(mask, dtype='uint8')\n",
    "        mask = np.array(mask).reshape((img.shape[2], img.shape[1], img.shape[0]))\n",
    "        mask = np.transpose(mask, (2,1,0))\n",
    "        \n",
    "    img[:,:,:,0][mask == 0] = 0\n",
    "\n",
    "    return img"
   ]
  },
  {
   "cell_type": "code",
   "execution_count": 6,
   "metadata": {
    "collapsed": true
   },
   "outputs": [],
   "source": [
    "def preprocess_df(df):\n",
    "    \"\"\"Select only rows for this run. Collect MRNs and ROI coordinates.\"\"\"\n",
    "    df = df[(df['Run'] == 1) & (df['Image type'] == 'AP-T1')].dropna(subset=[\"x1\"])\n",
    "    return df.drop(set(df.columns).difference(['Patient E Number', \n",
    "          'x1', 'x2', 'y1', 'y2', 'z1', 'z2', 'Image type']), axis=1)"
   ]
  },
  {
   "cell_type": "code",
   "execution_count": 7,
   "metadata": {
    "collapsed": true
   },
   "outputs": [],
   "source": [
    "def load_imgs(df, base_dir, cls):\n",
    "    \"\"\"Create ROI file, apply whole liver mask, validate/scale dimensions\"\"\"\n",
    "\n",
    "    def validate_dims(imgs, mrns):\n",
    "        \"\"\"Validate that all series of the same MRN have the same dimensions.\n",
    "        Images formatted as list of dicts. Each dict is a different image channel, indexed by MRN.\"\"\"\n",
    "        for mrn in mrns:\n",
    "            for x in range(1,len(imgs)):\n",
    "                assert imgs[0][mrn].shape == imgs[x][mrn].shape, \"img %s has wrong shape\" % mrn\n",
    "                \n",
    "    pass"
   ]
  },
  {
   "cell_type": "markdown",
   "metadata": {},
   "source": [
    "base_dir = r'raw_imgs\\simple_cysts'\n",
    "mrn = \"12229245\"\n",
    "subdir = base_dir+\"\\\\\"+mrn\n",
    "art[mrn] = hf.dcm_load(subdir+r\"\\T1_AP\")\n",
    "#pre[mrn] = hf.dcm_load(subdir+r\"\\T1_BL\")\n",
    "#ven[mrn] = hf.dcm_load(subdir+r\"\\T1_VP\")\n",
    "#equ[mrn] = hf.dcm_load(subdir+r\"\\T1_EQ\")\n",
    "t2[mrn] = hf.dcm_load(subdir+r\"\\T2\")\n",
    "t2[mrn], reg_scale = reg_imgs(moving=t2[mrn], fixed=art[mrn])\n",
    "img = np.transpose(np.stack((art[mrn], t2[mrn])), (1,2,3,0))\n",
    "\n",
    "mask_file = base_dir + \"\\\\\" + mrn + r'\\00_segs\\liver.ids'\n",
    "mask = get_mask(img.shape, mask_file)\n",
    "img[:,:,:,0][mask == 0] = 0\n",
    "\n",
    "nonzeros = np.nonzero(mask)\n",
    "try:\n",
    "    minx, maxx = min(nonzeros[0]), max(nonzeros[0])\n",
    "except:\n",
    "    print(mask_file)\n",
    "miny, maxy = min(nonzeros[1]), max(nonzeros[1])\n",
    "minz, maxz = min(nonzeros[2]), max(nonzeros[2])\n",
    "print(img.shape)\n",
    "print(\"Crop:\", minx, maxx, miny, maxy, minz, maxz)\n",
    "img = img[minx:maxx, miny:maxy, minz:maxz, :]\n",
    "\n",
    "#np.amax(art[\"12229245\"][0])\n",
    "#mask = get_mask(img.shape, \"raw_imgs\\simple_cysts\\12229245\\00_segs\\liver.ids\")"
   ]
  },
  {
   "cell_type": "code",
   "execution_count": 36,
   "metadata": {},
   "outputs": [
    {
     "data": {
      "text/plain": [
       "9081440"
      ]
     },
     "execution_count": 36,
     "metadata": {},
     "output_type": "execute_result"
    }
   ],
   "source": [
    "img.size"
   ]
  },
  {
   "cell_type": "code",
   "execution_count": 34,
   "metadata": {},
   "outputs": [
    {
     "data": {
      "text/plain": [
       "['In',\n",
       " 'Out',\n",
       " '_',\n",
       " '_12',\n",
       " '_13',\n",
       " '_14',\n",
       " '_22',\n",
       " '_24',\n",
       " '_28',\n",
       " '_30',\n",
       " '_32',\n",
       " '__',\n",
       " '___',\n",
       " '__builtin__',\n",
       " '__builtins__',\n",
       " '__doc__',\n",
       " '__loader__',\n",
       " '__name__',\n",
       " '__package__',\n",
       " '__spec__',\n",
       " '_dh',\n",
       " '_i',\n",
       " '_i1',\n",
       " '_i10',\n",
       " '_i11',\n",
       " '_i12',\n",
       " '_i13',\n",
       " '_i14',\n",
       " '_i15',\n",
       " '_i16',\n",
       " '_i17',\n",
       " '_i18',\n",
       " '_i19',\n",
       " '_i2',\n",
       " '_i20',\n",
       " '_i21',\n",
       " '_i22',\n",
       " '_i23',\n",
       " '_i24',\n",
       " '_i25',\n",
       " '_i26',\n",
       " '_i27',\n",
       " '_i28',\n",
       " '_i29',\n",
       " '_i3',\n",
       " '_i30',\n",
       " '_i31',\n",
       " '_i32',\n",
       " '_i33',\n",
       " '_i34',\n",
       " '_i4',\n",
       " '_i5',\n",
       " '_i6',\n",
       " '_i7',\n",
       " '_i8',\n",
       " '_i9',\n",
       " '_ih',\n",
       " '_ii',\n",
       " '_iii',\n",
       " '_oh',\n",
       " 'add_roi',\n",
       " 'apply_mask',\n",
       " 'art',\n",
       " 'base_dir',\n",
       " 'cls',\n",
       " 'cnt',\n",
       " 'cur_dims',\n",
       " 'df',\n",
       " 'df_subset',\n",
       " 'exit',\n",
       " 'field',\n",
       " 'get_ipython',\n",
       " 'hf',\n",
       " 'img',\n",
       " 'img_dir',\n",
       " 'importlib',\n",
       " 'load_imgs',\n",
       " 'mask_file',\n",
       " 'mrn',\n",
       " 'mrns',\n",
       " 'np',\n",
       " 'orig_shape',\n",
       " 'os',\n",
       " 'params',\n",
       " 'pd',\n",
       " 'plot_section',\n",
       " 'plt',\n",
       " 'preprocess_df',\n",
       " 'pyelastix',\n",
       " 'quit',\n",
       " 'reg_imgs',\n",
       " 'reg_scale',\n",
       " 'requests',\n",
       " 'rescale',\n",
       " 'rescale_time',\n",
       " 'rois',\n",
       " 's',\n",
       " 'scale_rois',\n",
       " 'subdir',\n",
       " 'sys',\n",
       " 't',\n",
       " 't2',\n",
       " 'target_dims',\n",
       " 'time',\n",
       " 'tr',\n",
       " 'vox_scale']"
      ]
     },
     "execution_count": 34,
     "metadata": {},
     "output_type": "execute_result"
    }
   ],
   "source": [
    "dir()"
   ]
  },
  {
   "cell_type": "code",
   "execution_count": 8,
   "metadata": {
    "collapsed": true
   },
   "outputs": [],
   "source": [
    "#pre = {}\n",
    "art = {}\n",
    "#ven = {}\n",
    "#equ = {}\n",
    "t2 = {}\n",
    "field = {}\n",
    "rois = []\n",
    "\n",
    "base_dir = r'raw_imgs\\simple_cysts'\n",
    "cls='cyst'\n",
    "df = pd.read_excel(r'raw_imgs\\Prototype1CL.xlsx', sheetname=\"Hepatic Cyst\")\n",
    "df = preprocess_df(df)\n",
    "#load_imgs(df, base_dir=r'raw_imgs\\simple_cysts', cls='cyst')\n",
    "\n",
    "params = pyelastix.get_default_params()\n",
    "params.Transform = 'AffineTransform'\n",
    "\n",
    "img_dir = \"full_imgs\"\n",
    "if not os.path.exists(img_dir):\n",
    "    os.makedirs(img_dir)"
   ]
  },
  {
   "cell_type": "code",
   "execution_count": null,
   "metadata": {
    "collapsed": true
   },
   "outputs": [],
   "source": [
    "[ 0.69444442,  0.69444442,  3.        ] : (576, 432, 96)\n",
    "[ 1.3125,  1.3125,  3.    ]: (320, 230, 80)\n",
    "[ 1.1875,  1.1875,  3.    ]: (320, 250, 80)"
   ]
  },
  {
   "cell_type": "code",
   "execution_count": 25,
   "metadata": {
    "collapsed": true
   },
   "outputs": [],
   "source": [
    "def rescale(img, target_dims, cur_dims):\n",
    "    vox_scale = [float(target_dims[i]/cur_dims[i]) for i in range(3)]\n",
    "    img = tr.scale3d(img, vox_scale)\n",
    "    \n",
    "    return img, vox_scale"
   ]
  },
  {
   "cell_type": "code",
   "execution_count": 33,
   "metadata": {
    "scrolled": true
   },
   "outputs": [
    {
     "name": "stdout",
     "output_type": "stream",
     "text": [
      "Loading DCMs...\n"
     ]
    },
    {
     "ename": "MemoryError",
     "evalue": "",
     "output_type": "error",
     "traceback": [
      "\u001b[1;31m-----------------------------------------------------------\u001b[0m",
      "\u001b[1;31mMemoryError\u001b[0m               Traceback (most recent call last)",
      "\u001b[1;32m<ipython-input-33-1256865f1f85>\u001b[0m in \u001b[0;36m<module>\u001b[1;34m()\u001b[0m\n\u001b[0;32m     26\u001b[0m \u001b[1;33m\u001b[0m\u001b[0m\n\u001b[0;32m     27\u001b[0m     \u001b[0mmask_file\u001b[0m \u001b[1;33m=\u001b[0m \u001b[0mbase_dir\u001b[0m \u001b[1;33m+\u001b[0m \u001b[1;34m\"\\\\\"\u001b[0m \u001b[1;33m+\u001b[0m \u001b[0mmrn\u001b[0m \u001b[1;33m+\u001b[0m \u001b[1;34mr'\\00_segs\\liver.ids'\u001b[0m\u001b[1;33m\u001b[0m\u001b[0m\n\u001b[1;32m---> 28\u001b[1;33m     \u001b[0mimg\u001b[0m \u001b[1;33m=\u001b[0m \u001b[0mapply_mask\u001b[0m\u001b[1;33m(\u001b[0m\u001b[0mimg\u001b[0m\u001b[1;33m,\u001b[0m \u001b[0mmask_file\u001b[0m\u001b[1;33m,\u001b[0m \u001b[0morig_shape\u001b[0m\u001b[1;33m,\u001b[0m \u001b[0mvox_scale\u001b[0m\u001b[1;33m)\u001b[0m\u001b[1;33m\u001b[0m\u001b[0m\n\u001b[0m\u001b[0;32m     29\u001b[0m \u001b[1;33m\u001b[0m\u001b[0m\n\u001b[0;32m     30\u001b[0m     \u001b[0mnonzeros\u001b[0m \u001b[1;33m=\u001b[0m \u001b[0mnp\u001b[0m\u001b[1;33m.\u001b[0m\u001b[0mnonzero\u001b[0m\u001b[1;33m(\u001b[0m\u001b[0mimg\u001b[0m\u001b[1;33m)\u001b[0m\u001b[1;33m\u001b[0m\u001b[0m\n",
      "\u001b[1;32m<ipython-input-20-14c8b6a56f6c>\u001b[0m in \u001b[0;36mapply_mask\u001b[1;34m(img, mask_file, orig_shape, vox_scale)\u001b[0m\n\u001b[0;32m      9\u001b[0m         \u001b[0mmask\u001b[0m \u001b[1;33m=\u001b[0m \u001b[0mnp\u001b[0m\u001b[1;33m.\u001b[0m\u001b[0mtranspose\u001b[0m\u001b[1;33m(\u001b[0m\u001b[0mmask\u001b[0m\u001b[1;33m,\u001b[0m \u001b[1;33m(\u001b[0m\u001b[1;36m2\u001b[0m\u001b[1;33m,\u001b[0m\u001b[1;36m1\u001b[0m\u001b[1;33m,\u001b[0m\u001b[1;36m0\u001b[0m\u001b[1;33m)\u001b[0m\u001b[1;33m)\u001b[0m\u001b[1;33m\u001b[0m\u001b[0m\n\u001b[0;32m     10\u001b[0m \u001b[1;33m\u001b[0m\u001b[0m\n\u001b[1;32m---> 11\u001b[1;33m     \u001b[0mmask\u001b[0m \u001b[1;33m=\u001b[0m \u001b[0mrescale\u001b[0m\u001b[1;33m(\u001b[0m\u001b[0mmask\u001b[0m\u001b[1;33m,\u001b[0m \u001b[0mmask\u001b[0m\u001b[1;33m.\u001b[0m\u001b[0mshape\u001b[0m\u001b[1;33m,\u001b[0m \u001b[0mvox_scale\u001b[0m\u001b[1;33m)\u001b[0m\u001b[1;33m\u001b[0m\u001b[0m\n\u001b[0m\u001b[0;32m     12\u001b[0m \u001b[1;33m\u001b[0m\u001b[0m\n\u001b[0;32m     13\u001b[0m     \u001b[0mimg\u001b[0m\u001b[1;33m[\u001b[0m\u001b[1;33m:\u001b[0m\u001b[1;33m,\u001b[0m\u001b[1;33m:\u001b[0m\u001b[1;33m,\u001b[0m\u001b[1;33m:\u001b[0m\u001b[1;33m,\u001b[0m\u001b[1;36m0\u001b[0m\u001b[1;33m]\u001b[0m\u001b[1;33m[\u001b[0m\u001b[0mmask\u001b[0m \u001b[1;33m==\u001b[0m \u001b[1;36m0\u001b[0m\u001b[1;33m]\u001b[0m \u001b[1;33m=\u001b[0m \u001b[1;36m0\u001b[0m\u001b[1;33m\u001b[0m\u001b[0m\n",
      "\u001b[1;32m<ipython-input-25-81464b563fdf>\u001b[0m in \u001b[0;36mrescale\u001b[1;34m(img, target_dims, cur_dims)\u001b[0m\n\u001b[0;32m      1\u001b[0m \u001b[1;32mdef\u001b[0m \u001b[0mrescale\u001b[0m\u001b[1;33m(\u001b[0m\u001b[0mimg\u001b[0m\u001b[1;33m,\u001b[0m \u001b[0mtarget_dims\u001b[0m\u001b[1;33m,\u001b[0m \u001b[0mcur_dims\u001b[0m\u001b[1;33m)\u001b[0m\u001b[1;33m:\u001b[0m\u001b[1;33m\u001b[0m\u001b[0m\n\u001b[0;32m      2\u001b[0m     \u001b[0mvox_scale\u001b[0m \u001b[1;33m=\u001b[0m \u001b[1;33m[\u001b[0m\u001b[0mfloat\u001b[0m\u001b[1;33m(\u001b[0m\u001b[0mtarget_dims\u001b[0m\u001b[1;33m[\u001b[0m\u001b[0mi\u001b[0m\u001b[1;33m]\u001b[0m\u001b[1;33m/\u001b[0m\u001b[0mcur_dims\u001b[0m\u001b[1;33m[\u001b[0m\u001b[0mi\u001b[0m\u001b[1;33m]\u001b[0m\u001b[1;33m)\u001b[0m \u001b[1;32mfor\u001b[0m \u001b[0mi\u001b[0m \u001b[1;32min\u001b[0m \u001b[0mrange\u001b[0m\u001b[1;33m(\u001b[0m\u001b[1;36m3\u001b[0m\u001b[1;33m)\u001b[0m\u001b[1;33m]\u001b[0m\u001b[1;33m\u001b[0m\u001b[0m\n\u001b[1;32m----> 3\u001b[1;33m     \u001b[0mimg\u001b[0m \u001b[1;33m=\u001b[0m \u001b[0mtr\u001b[0m\u001b[1;33m.\u001b[0m\u001b[0mscale3d\u001b[0m\u001b[1;33m(\u001b[0m\u001b[0mimg\u001b[0m\u001b[1;33m,\u001b[0m \u001b[0mvox_scale\u001b[0m\u001b[1;33m)\u001b[0m\u001b[1;33m\u001b[0m\u001b[0m\n\u001b[0m\u001b[0;32m      4\u001b[0m \u001b[1;33m\u001b[0m\u001b[0m\n\u001b[0;32m      5\u001b[0m     \u001b[1;32mreturn\u001b[0m \u001b[0mimg\u001b[0m\u001b[1;33m,\u001b[0m \u001b[0mvox_scale\u001b[0m\u001b[1;33m\u001b[0m\u001b[0m\n",
      "\u001b[1;32m~\\Documents\\liver-mr-processor\\transforms.py\u001b[0m in \u001b[0;36mscale3d\u001b[1;34m(img, scale)\u001b[0m\n\u001b[0;32m      5\u001b[0m \u001b[1;32mdef\u001b[0m \u001b[0mscale3d\u001b[0m\u001b[1;33m(\u001b[0m\u001b[0mimg\u001b[0m\u001b[1;33m,\u001b[0m \u001b[0mscale\u001b[0m\u001b[1;33m)\u001b[0m\u001b[1;33m:\u001b[0m\u001b[1;33m\u001b[0m\u001b[0m\n\u001b[0;32m      6\u001b[0m         \u001b[1;33m[\u001b[0m\u001b[0mscalex\u001b[0m\u001b[1;33m,\u001b[0m \u001b[0mscaley\u001b[0m\u001b[1;33m,\u001b[0m \u001b[0mscalez\u001b[0m\u001b[1;33m]\u001b[0m \u001b[1;33m=\u001b[0m \u001b[0mscale\u001b[0m\u001b[1;33m\u001b[0m\u001b[0m\n\u001b[1;32m----> 7\u001b[1;33m         \u001b[0minter\u001b[0m \u001b[1;33m=\u001b[0m \u001b[0mnp\u001b[0m\u001b[1;33m.\u001b[0m\u001b[0mzeros\u001b[0m\u001b[1;33m(\u001b[0m\u001b[1;33m[\u001b[0m\u001b[0mround\u001b[0m\u001b[1;33m(\u001b[0m\u001b[0mimg\u001b[0m\u001b[1;33m.\u001b[0m\u001b[0mshape\u001b[0m\u001b[1;33m[\u001b[0m\u001b[1;36m0\u001b[0m\u001b[1;33m]\u001b[0m \u001b[1;33m*\u001b[0m \u001b[0mscalex\u001b[0m\u001b[1;33m)\u001b[0m\u001b[1;33m,\u001b[0m \u001b[0mround\u001b[0m\u001b[1;33m(\u001b[0m\u001b[0mimg\u001b[0m\u001b[1;33m.\u001b[0m\u001b[0mshape\u001b[0m\u001b[1;33m[\u001b[0m\u001b[1;36m1\u001b[0m\u001b[1;33m]\u001b[0m \u001b[1;33m*\u001b[0m \u001b[0mscaley\u001b[0m\u001b[1;33m)\u001b[0m\u001b[1;33m,\u001b[0m \u001b[0mimg\u001b[0m\u001b[1;33m.\u001b[0m\u001b[0mshape\u001b[0m\u001b[1;33m[\u001b[0m\u001b[1;36m2\u001b[0m\u001b[1;33m]\u001b[0m\u001b[1;33m]\u001b[0m\u001b[1;33m)\u001b[0m\u001b[1;33m\u001b[0m\u001b[0m\n\u001b[0m\u001b[0;32m      8\u001b[0m         \u001b[0mscaled\u001b[0m \u001b[1;33m=\u001b[0m \u001b[0mnp\u001b[0m\u001b[1;33m.\u001b[0m\u001b[0mzeros\u001b[0m\u001b[1;33m(\u001b[0m\u001b[1;33m[\u001b[0m\u001b[0mround\u001b[0m\u001b[1;33m(\u001b[0m\u001b[0mimg\u001b[0m\u001b[1;33m.\u001b[0m\u001b[0mshape\u001b[0m\u001b[1;33m[\u001b[0m\u001b[1;36m0\u001b[0m\u001b[1;33m]\u001b[0m \u001b[1;33m*\u001b[0m \u001b[0mscalex\u001b[0m\u001b[1;33m)\u001b[0m\u001b[1;33m,\u001b[0m \u001b[0mround\u001b[0m\u001b[1;33m(\u001b[0m\u001b[0mimg\u001b[0m\u001b[1;33m.\u001b[0m\u001b[0mshape\u001b[0m\u001b[1;33m[\u001b[0m\u001b[1;36m1\u001b[0m\u001b[1;33m]\u001b[0m \u001b[1;33m*\u001b[0m \u001b[0mscaley\u001b[0m\u001b[1;33m)\u001b[0m\u001b[1;33m,\u001b[0m \u001b[0mround\u001b[0m\u001b[1;33m(\u001b[0m\u001b[0mimg\u001b[0m\u001b[1;33m.\u001b[0m\u001b[0mshape\u001b[0m\u001b[1;33m[\u001b[0m\u001b[1;36m2\u001b[0m\u001b[1;33m]\u001b[0m \u001b[1;33m*\u001b[0m \u001b[0mscalez\u001b[0m\u001b[1;33m)\u001b[0m\u001b[1;33m]\u001b[0m\u001b[1;33m)\u001b[0m\u001b[1;33m\u001b[0m\u001b[0m\n\u001b[0;32m      9\u001b[0m \u001b[1;33m\u001b[0m\u001b[0m\n",
      "\u001b[1;31mMemoryError\u001b[0m: "
     ]
    }
   ],
   "source": [
    "print(\"Loading DCMs...\")\n",
    "mrns = list(set(df['Patient E Number'].dropna().astype(str).tolist()))\n",
    "s = time.time()\n",
    "target_dims = [1.5,1.5,4]\n",
    "rescale_time = 0\n",
    "\n",
    "for cnt, mrn in enumerate(mrns):\n",
    "    subdir = base_dir+\"\\\\\"+mrn\n",
    "    art[mrn], cur_dims = hf.dcm_load(subdir+r\"\\T1_AP\")\n",
    "    #pre[mrn] = hf.dcm_load(subdir+r\"\\T1_BL\")\n",
    "    #ven[mrn] = hf.dcm_load(subdir+r\"\\T1_VP\")\n",
    "    #equ[mrn] = hf.dcm_load(subdir+r\"\\T1_EQ\")\n",
    "    t2[mrn], _ = hf.dcm_load(subdir+r\"\\T2\")\n",
    "    \n",
    "    t = time.time()\n",
    "    orig_shape = art[mrn].shape\n",
    "    art[mrn], vox_scale = rescale(art[mrn], target_dims, cur_dims)\n",
    "    rescale_time += time.time() - t\n",
    "                       \n",
    "    df_subset = df.loc[df['Patient E Number'].astype(str) == mrn]\n",
    "\n",
    "    t2[mrn], reg_scale, field[mrn] = reg_imgs(moving=t2[mrn], fixed=art[mrn], params=params)\n",
    "    t2[mrn] = t2[mrn] * 255/np.amax(t2[mrn])\n",
    "\n",
    "    img = np.transpose(np.stack((art[mrn], t2[mrn])), (1,2,3,0))\n",
    "\n",
    "    mask_file = base_dir + \"\\\\\" + mrn + r'\\00_segs\\liver.ids'\n",
    "    img = apply_mask(img, mask_file, orig_shape, vox_scale)\n",
    "\n",
    "    nonzeros = np.nonzero(img)\n",
    "    minx, maxx = min(nonzeros[0]), max(nonzeros[0])\n",
    "    miny, maxy = min(nonzeros[1]), max(nonzeros[1])\n",
    "    minz, maxz = min(nonzeros[2]), max(nonzeros[2])\n",
    "    img = img[minx:maxx, miny:maxy, minz:maxz, :]\n",
    "\n",
    "    np.save(img_dir + \"\\\\\" + mrn, img)\n",
    "    \n",
    "    scale = [vox_scale[i]*reg_scale[i] for i in range(3)]\n",
    "\n",
    "    for _, row in df_subset.iterrows():\n",
    "        x = (int(row['x1']), int(row['x2']))\n",
    "        y = (int(row['y1']), int(row['y2']))\n",
    "        z = (int(row['z1']), int(row['z2']))\n",
    "\n",
    "        y = (art[mrn].shape[1]-y[1], art[mrn].shape[1]-y[0]) # flip y\n",
    "        z = (art[mrn].shape[2]-z[1], art[mrn].shape[2]-z[0]) # flip z\n",
    "        \n",
    "        if cls == \"cyst\":\n",
    "            x,y,z = scale_rois(x, y, z, scale, field[mrn])\n",
    "        else:\n",
    "            x,y,z = scale_rois(x, y, z, scale)\n",
    "\n",
    "        x = (x[0] - minx, x[1] - minx)\n",
    "        y = (y[0] - miny, y[1] - miny)\n",
    "        z = (z[0] - minz, z[1] - minz)\n",
    "\n",
    "        add_roi(mrn, x,y,z, cls)\n",
    "\n",
    "    print(mrn, \"%d out of %d MRNs loaded\" % (cnt+1, len(mrns)))\n",
    "#validate_dims([t2, art], mrns)\n",
    "print(\"Time to load dcms: %s\" % str(time.time() - s))\n",
    "print(\"Time rescaling: %s\" % str(rescale_time))\n",
    "\n",
    "#s = time.time()\n",
    "#print(\"Time to mask, crop, load rois, and save .npy files: %s\" % str(time.time() - s))"
   ]
  },
  {
   "cell_type": "code",
   "execution_count": null,
   "metadata": {
    "scrolled": false
   },
   "outputs": [],
   "source": [
    "base_dir = r'raw_imgs\\OPTN5A'\n",
    "cls='hcc'\n",
    "df = pd.read_excel(r'raw_imgs\\Prototype1CL.xlsx', sheetname=\"OPTN 5A\")\n",
    "df = preprocess_df(df)\n",
    "#load_imgs(df, base_dir = r'raw_imgs\\OPTN5A', cls='hcc')"
   ]
  },
  {
   "cell_type": "code",
   "execution_count": null,
   "metadata": {
    "collapsed": true
   },
   "outputs": [],
   "source": []
  },
  {
   "cell_type": "code",
   "execution_count": null,
   "metadata": {
    "collapsed": true
   },
   "outputs": [],
   "source": [
    "with open('train_list.txt', 'w') as f:\n",
    "    for roi in rois:\n",
    "        f.write(\",\".join([str(x) for x in roi]) + \"\\n\")"
   ]
  },
  {
   "cell_type": "code",
   "execution_count": 121,
   "metadata": {
    "collapsed": true
   },
   "outputs": [],
   "source": []
  },
  {
   "cell_type": "code",
   "execution_count": null,
   "metadata": {
    "collapsed": true
   },
   "outputs": [],
   "source": []
  },
  {
   "cell_type": "code",
   "execution_count": null,
   "metadata": {
    "collapsed": true
   },
   "outputs": [],
   "source": []
  },
  {
   "cell_type": "code",
   "execution_count": null,
   "metadata": {
    "collapsed": true
   },
   "outputs": [],
   "source": []
  },
  {
   "cell_type": "code",
   "execution_count": null,
   "metadata": {
    "collapsed": true
   },
   "outputs": [],
   "source": []
  },
  {
   "cell_type": "code",
   "execution_count": null,
   "metadata": {
    "collapsed": true
   },
   "outputs": [],
   "source": [
    "def draw_fig(image_array, name):\n",
    "    \"\"\"Draw an image of type np array and save it to.\"\"\"\n",
    "\n",
    "    image_array = image_array[:,:,slice_index]\n",
    "    aspect = float(image_array.shape[1]) / image_array.shape[0]\n",
    "    w = 20\n",
    "    h = int(aspect * w)\n",
    "\n",
    "    image_array = np.rot90(image_array)\n",
    "\n",
    "    fig = plt.figure(frameon=False)\n",
    "    fig.set_size_inches(w,h)\n",
    "    ax = plt.Axes(fig, [0., 0., 1., 1.])\n",
    "    ax.set_axis_off()\n",
    "    fig.add_axes(ax)\n",
    "    ax.imshow(image_array, interpolation='bilinear', norm=cnorm, cmap=plt.cm.gray, aspect='auto')\n",
    "\n",
    "    img_fname = name + '.png'\n",
    "    plt.savefig(img_fname)\n",
    "    print('Segmentation saved as %s' % img_fname)"
   ]
  },
  {
   "cell_type": "code",
   "execution_count": null,
   "metadata": {
    "collapsed": true
   },
   "outputs": [],
   "source": [
    "def create_features(name, precontrast, arterial, liver_mask_file, tumor_mask_file, format_output, header_output, seg, slice_index):\n",
    "    diff = art_data - pre_data # Calculate the subtracted image.\n",
    "    diff[diff < 0] = 0.0  # The pre-contrast should never be more than the arterial. Clamp negative values to zero.\n",
    "\n",
    "    x, y, z = diff.shape\n",
    "\n",
    "    ##### Begin code for drawing specific mask slices. ######\n",
    "    cnorm = matplotlib.colors.Normalize(vmin=0, vmax=np.amax(diff))\n",
    "\n",
    "    draw_fig(diff, 'whole')\n",
    "\n",
    "    # Calculate the liver volume.\n",
    "    liver_volume = np.sum(liver) * pre_dimx * pre_dimy * pre_dimz\n",
    "    is_in_mm = pre_units == 2 or liver_volume > 10000\n",
    "    if is_in_mm: # 2 is the code for millimeter, we convert to cubic centimeters.\n",
    "        liver_volume /= 1000\n",
    "\n",
    "    tumor_volume = np.sum(tumor) * pre_dimx * pre_dimy * pre_dimz\n",
    "    if is_in_mm: # 2 is the code for millimeter, we convert to cubic centimeters.\n",
    "        tumor_volume /= 1000\n",
    "\n",
    "    mean_intensity = np.mean(diff[img > 0])\n",
    "    std_intensity = np.std(diff[img > 0])\n",
    "\n",
    "    # Calculate the volume of tumor that whose voxel intensities are greater than the mean liver intensity.\n",
    "    # Note this is NOT the same threshold as qEASL (which would need a parenchymal ROI in order to define the intensity threshold).\n",
    "    enhancing_tumor_volume = np.sum(tumor[just_tumor > mean_liver_intensity]) * pre_dimx * pre_dimy * pre_dimz\n",
    "    if is_in_mm: # 2 is the code for millimeter, we convert to cubic centimeters.\n",
    "        enhancing_tumor_volume /= 1000\n",
    "\n",
    "    headers = ['Name', 'Liver volume', 'Mean liver intensity', 'STD liver intensity', 'Tumor volume', 'Mean tumor intensity', 'STD tumor intensity', 'Enhancing tumor volume']\n",
    "    features = [name, liver_volume, mean_liver_intensity, std_liver_intensity, tumor_volume, mean_tumor_intensity, std_tumor_intensity, enhancing_tumor_volume]\n",
    "    if format_output == 'tabulate':\n",
    "        if header_output:\n",
    "            results = tabulate.tabulate([features], headers=headers)\n",
    "        else:\n",
    "            results = tabulate.tabulate([features])\n",
    "    else:\n",
    "        features_row = '\\t'.join(str(feature) for feature in features)\n",
    "        if header_output:\n",
    "            results = '\\t'.join(headers) + '\\n' + features_row\n",
    "        else:\n",
    "            results = features_row\n",
    "\n",
    "    print(results)"
   ]
  },
  {
   "cell_type": "code",
   "execution_count": null,
   "metadata": {
    "collapsed": true
   },
   "outputs": [],
   "source": []
  },
  {
   "cell_type": "code",
   "execution_count": null,
   "metadata": {
    "collapsed": true
   },
   "outputs": [],
   "source": [
    "def training_pipeline(pre_dcm_fns, post_dcm_fns, labels):\n",
    "    \"\"\"\n",
    "    pre_dcm_fn is the precontrast image, and post_dcm_fn is the postcontrast image\n",
    "    1. Import pre/20s DICOMs\n",
    "    2. Register pre to 20s\n",
    "    3. Segment whole liver\n",
    "    4. Obtain labels for HCC/non-HCC, as well as (HCC severity or survival?)\n",
    "    5. For HCC labels, calculate and store embeddings (feature values)\n",
    "    6. Train CNN on all\n",
    "    7. Train feature engineered network on HCC labels\n",
    "    \"\"\"\n",
    "    train_frac = 0.7\n",
    "    data_size = len(pre_dcm_fns)\n",
    "    \n",
    "    # TODO: do a proper k-fold x-validation split\n",
    "    X_cnn_train = X_cnn[:data_size*train_frac]\n",
    "    X_cnn_val = X_cnn[data_size*train_frac:]\n",
    "    \n",
    "    for x in range(data_size):\n",
    "        pre_dcm_fn = pre_dcm_fns[x]\n",
    "        post_dcm_fn = post_dcm_fn[x]\n",
    "        label = labels[x]\n",
    "        \n",
    "        pre_img = dcm_load(pre_dcm_fn)\n",
    "        post_img = dcm_load(post_dcm_fn)\n",
    "\n",
    "        pre_img = seg_liver(pre_img)\n",
    "        post_img = seg_liver(post_img)\n",
    "        \n",
    "        y_cnn = label['is-hcc']\n",
    "        label.pop('is-hcc')\n",
    "        X_cnn = [pre_img, post_img, label]\n",
    "        \n",
    "        \"\"\"if y_cnn:\n",
    "            features = get_features(pre_img, post_img, label)\n",
    "            \n",
    "            # rfm is random forest model\n",
    "            y_rfm = label\n",
    "            X_rfm = [pre_img, post_img, label]\"\"\""
   ]
  },
  {
   "cell_type": "markdown",
   "metadata": {},
   "source": [
    "# Overall approach\n",
    "This is a tool for classifying precontrast and 20s postcontrast MRIs (into LI-RADS stages / predicting survival?).\n",
    "\n",
    "#### Training\n",
    "-In mini-batches:\n",
    "1. Import pre/20s DICOMs\n",
    "2. Register pre to 20s\n",
    "3. Segment whole liver\n",
    "4. Obtain labels for HCC/non-HCC, as well as (HCC severity or survival?)\n",
    "5. For HCC labels, calculate and store embeddings (feature values)\n",
    "6. Train CNN on all\n",
    "\n",
    "-After CNN is trained, then:\n",
    "7. Train feature engineered network on HCC labels\n",
    "\n",
    "#### Test pipeline:\n",
    "1. Import pre/20s DICOMs\n",
    "2. Register pre to 20s\n",
    "3. Segment whole liver\n",
    "4. Use CNN to classify as HCC/non-HCC\n",
    "5. If HCC, calculate features values\n",
    "6. If HCC, use feature engineered network to predict label\n",
    "\n",
    "#### CNN models\n",
    "First, try VGGNet, then ResNet. Then try VAE-GAN, training on benign only; deviation score = malignancy."
   ]
  }
 ],
 "metadata": {
  "anaconda-cloud": {},
  "kernelspec": {
   "display_name": "Python 3",
   "language": "python",
   "name": "python3"
  },
  "language_info": {
   "codemirror_mode": {
    "name": "ipython",
    "version": 3
   },
   "file_extension": ".py",
   "mimetype": "text/x-python",
   "name": "python",
   "nbconvert_exporter": "python",
   "pygments_lexer": "ipython3",
   "version": "3.5.0"
  }
 },
 "nbformat": 4,
 "nbformat_minor": 1
}
