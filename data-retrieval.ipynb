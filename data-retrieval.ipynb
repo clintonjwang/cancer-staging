{
 "cells": [
  {
   "cell_type": "code",
   "execution_count": 1,
   "metadata": {
    "collapsed": true
   },
   "outputs": [],
   "source": [
    "import helper_fxns as hf\n",
    "import transforms as tr\n",
    "import importlib\n",
    "import matplotlib.pyplot as plt\n",
    "import numpy as np\n",
    "import os\n",
    "import pandas as pd\n",
    "import pyelastix\n",
    "import requests\n",
    "import sys\n",
    "import time\n",
    "%matplotlib inline"
   ]
  },
  {
   "cell_type": "markdown",
   "metadata": {},
   "source": [
    "base_dir = r'raw_imgs\\simple_cysts'\n",
    "mrn = \"12042703\"\n",
    "subdir = base_dir+\"\\\\\"+mrn\n",
    "art={}\n",
    "t2={}\n",
    "art[mrn] = hf.dcm_load(subdir+r\"\\T1_AP\")\n",
    "t2[mrn] = hf.dcm_load(subdir+r\"\\T2\")\n",
    "\n",
    "t2[mrn] = reg_imgs(moving=t2[mrn], reference=art[mrn])"
   ]
  },
  {
   "cell_type": "code",
   "execution_count": 3,
   "metadata": {},
   "outputs": [
    {
     "data": {
      "text/plain": [
       "<module 'helper_fxns' from 'C:\\\\Users\\\\Clinton\\\\Documents\\\\liver-mr-processor\\\\helper_fxns.py'>"
      ]
     },
     "execution_count": 3,
     "metadata": {},
     "output_type": "execute_result"
    }
   ],
   "source": [
    "importlib.reload(hf)"
   ]
  },
  {
   "cell_type": "code",
   "execution_count": 106,
   "metadata": {
    "collapsed": true
   },
   "outputs": [],
   "source": [
    "params = pyelastix.get_default_params()\n",
    "#params.MaximumNumberOfIterations = 500\n",
    "#params.FinalGridSpacingInVoxels = 5\n",
    "#params.NumberOfResolutions = 20\n",
    "params.Transform = 'AffineTransform'"
   ]
  },
  {
   "cell_type": "code",
   "execution_count": 2,
   "metadata": {
    "collapsed": true
   },
   "outputs": [],
   "source": [
    "def reg_imgs(moving, fixed, params):\n",
    "    fshape = fixed.shape\n",
    "    mshape = moving.shape\n",
    "    scale = [fshape[0]/mshape[0], fshape[1]/mshape[1], fshape[2]/mshape[2]]\n",
    "    moving = tr.scalez(tr.scaley(tr.scalex(moving, scale[0]), scale[1]), scale[2])\n",
    "    moving = np.ascontiguousarray(moving).astype('float32')\n",
    "    fixed = np.ascontiguousarray(fixed).astype('float32')\n",
    "\n",
    "    moving, _ = pyelastix.register(moving, fixed, params, verbose=0)\n",
    "    _, field = pyelastix.register(fixed, moving, params, verbose=0)\n",
    "    return moving, scale, field"
   ]
  },
  {
   "cell_type": "code",
   "execution_count": 3,
   "metadata": {},
   "outputs": [],
   "source": [
    "def reg_rois(x, y, z, scale, field):\n",
    "    x = (round(x[0]/scale[0]), round(x[1]/scale[0]))\n",
    "    y = (round(y[0]/scale[1]), round(y[1]/scale[1]))\n",
    "    z = (round(z[0]/scale[2]), round(z[1]/scale[2]))\n",
    "    \n",
    "    xroi_distortions = field[0][x[0]:x[1], y[0]:y[1], z[0]:z[1]]\n",
    "    yroi_distortions = field[1][x[0]:x[1], y[0]:y[1], z[0]:z[1]]\n",
    "    zroi_distortions = field[2][x[0]:x[1], y[0]:y[1], z[0]:z[1]]\n",
    "    x = (x[0] + int(np.amin(xroi_distortions[0,:,:])), x[1] + int(np.amax(xroi_distortions[-1,:,:])))\n",
    "    y = (y[0] + int(np.amin(yroi_distortions[:,0,:])), y[1] + int(np.amax(yroi_distortions[:,-1,:])))\n",
    "    z = (z[0] + int(np.amin(zroi_distortions[:,:,0])), z[1] + int(np.amax(zroi_distortions[:,:,-1])))\n",
    "    \n",
    "    return x, y, z"
   ]
  },
  {
   "cell_type": "code",
   "execution_count": 148,
   "metadata": {},
   "outputs": [
    {
     "data": {
      "text/plain": [
       "[['12229245.npy', 83, 92, 62, 78, 54, 55, 'cyst'],\n",
       " ['12296182.npy', 55, 68, 45, 57, 61, 63, 'cyst']]"
      ]
     },
     "execution_count": 148,
     "metadata": {},
     "output_type": "execute_result"
    }
   ],
   "source": [
    "rois"
   ]
  },
  {
   "cell_type": "code",
   "execution_count": 219,
   "metadata": {},
   "outputs": [
    {
     "data": {
      "text/plain": [
       "'12229245'"
      ]
     },
     "execution_count": 219,
     "metadata": {},
     "output_type": "execute_result"
    }
   ],
   "source": [
    "mrn"
   ]
  },
  {
   "cell_type": "code",
   "execution_count": 98,
   "metadata": {
    "collapsed": true
   },
   "outputs": [],
   "source": [
    "t2[mrn] = hf.dcm_load(subdir+r\"\\T2\")"
   ]
  },
  {
   "cell_type": "code",
   "execution_count": null,
   "metadata": {
    "collapsed": true
   },
   "outputs": [],
   "source": [
    "reg_t2, scale, field = reg_imgs(moving=t2[mrn], fixed=art[mrn], params=params)"
   ]
  },
  {
   "cell_type": "code",
   "execution_count": 218,
   "metadata": {},
   "outputs": [
    {
     "data": {
      "text/plain": [
       "(288, 224, 72)"
      ]
     },
     "execution_count": 218,
     "metadata": {},
     "output_type": "execute_result"
    }
   ],
   "source": [
    "t2[mrn].shape"
   ]
  },
  {
   "cell_type": "code",
   "execution_count": 217,
   "metadata": {},
   "outputs": [
    {
     "data": {
      "text/plain": [
       "(288, 224, 72)"
      ]
     },
     "execution_count": 217,
     "metadata": {},
     "output_type": "execute_result"
    }
   ],
   "source": [
    "field[0].shape"
   ]
  },
  {
   "cell_type": "code",
   "execution_count": 209,
   "metadata": {
    "scrolled": true
   },
   "outputs": [
    {
     "data": {
      "text/plain": [
       "[['12229245.npy', 84, 94, 69, 87, 55, 56, 'cyst'],\n",
       " ['12296182.npy', 67, 81, 37, 51, 57, 59, 'cyst']]"
      ]
     },
     "execution_count": 209,
     "metadata": {},
     "output_type": "execute_result"
    }
   ],
   "source": [
    "rois"
   ]
  },
  {
   "cell_type": "code",
   "execution_count": 221,
   "metadata": {},
   "outputs": [
    {
     "data": {
      "image/png": "[encoded data removed]",
      "text/plain": [
       "<matplotlib.figure.Figure at 0x22e8191cef0>"
      ]
     },
     "metadata": {},
     "output_type": "display_data"
    }
   ],
   "source": [
    "plot_section('12296182', (50, 100), (37, 100), (57, 59))"
   ]
  },
  {
   "cell_type": "code",
   "execution_count": 4,
   "metadata": {},
   "outputs": [],
   "source": [
    "def plot_section(mrn,x,y,z):\n",
    "    plt.subplot(211)\n",
    "    plt.imshow(np.transpose(art[mrn][x[0]-30:x[1]+30, y[1]+30:y[0]-30:-1, (z[0]+z[1])//2], (1,0)), cmap='gray')\n",
    "    plt.subplot(212)\n",
    "    plt.imshow(np.transpose(t2[mrn][x[0]-30:x[1]+30, y[1]+30:y[0]-30:-1, (z[0]+z[1])//2], (1,0)), cmap='gray')"
   ]
  },
  {
   "cell_type": "code",
   "execution_count": 5,
   "metadata": {
    "collapsed": true
   },
   "outputs": [],
   "source": [
    "def flip_z(z, img):\n",
    "    return (img.shape[2]-z[1], img.shape[2]-z[0])\n",
    "\n",
    "def flip_y(y, img):\n",
    "    return (img.shape[1]-y[1], img.shape[1]-y[0])\n",
    "\n",
    "#def make_isometric(img, dims):\n",
    "#def scale_xyz(x,y,z, scalings):  "
   ]
  },
  {
   "cell_type": "code",
   "execution_count": 6,
   "metadata": {
    "collapsed": true
   },
   "outputs": [],
   "source": [
    "def add_roi(mrn, x, y, z, cls):\n",
    "    rois.append([str(mrn) + \".npy\", x[0], x[1], y[0], y[1], z[0], z[1], cls])\n",
    "\n",
    "def apply_mask(img, mask_file, x, y, z):\n",
    "    img_shape = img.shape\n",
    "    \n",
    "    with open(mask_file, 'rb') as f:\n",
    "        mask = f.read()\n",
    "        mask = np.fromstring(mask, dtype='uint8')\n",
    "        mask = np.array(mask).reshape((img_shape[2], img_shape[1], img_shape[0]))\n",
    "        mask = np.transpose(mask, (2,1,0))\n",
    "        \n",
    "    img[:,:,:,0][mask == 0] = 0\n",
    "\n",
    "    return img"
   ]
  },
  {
   "cell_type": "code",
   "execution_count": 7,
   "metadata": {
    "collapsed": true
   },
   "outputs": [],
   "source": [
    "def add_data(mrn, x, y, z, cls, base_dir):  \n",
    "    img_dir = \"imgs\"\n",
    "    if not os.path.exists(img_dir):\n",
    "        os.makedirs(img_dir)\n",
    "    np.save(img_dir + \"\\\\\" + mrn, img)\n",
    "\n",
    "    add_roi(mrn, x,y,z, cls)"
   ]
  },
  {
   "cell_type": "code",
   "execution_count": 8,
   "metadata": {
    "collapsed": true
   },
   "outputs": [],
   "source": [
    "def preprocess_df(df):\n",
    "    \"\"\"Select only rows for this run. Collect MRNs and ROI coordinates.\"\"\"\n",
    "    df = df[df['Run'] == 1].dropna(subset=[\"x1\"])\n",
    "    return df.drop(set(df.columns).difference(['Patient E Number', \n",
    "          'x1', 'x2', 'y1', 'y2', 'z1', 'z2', 'Image type']), axis=1)"
   ]
  },
  {
   "cell_type": "code",
   "execution_count": 9,
   "metadata": {},
   "outputs": [],
   "source": [
    "def load_imgs(df, base_dir, cls):\n",
    "    \"\"\"Create ROI file, apply whole liver mask, validate/scale dimensions\"\"\"\n",
    "\n",
    "    def validate_dims(imgs, mrns):\n",
    "        \"\"\"Validate that all series of the same MRN have the same dimensions.\n",
    "        Images formatted as list of dicts. Each dict is a different image channel, indexed by MRN.\"\"\"\n",
    "        for mrn in mrns:\n",
    "            for x in range(1,len(imgs)):\n",
    "                assert imgs[0][mrn].shape == imgs[x][mrn].shape, \"img %s has wrong shape\" % mrn\n",
    "                    \n",
    "    #registration params\n",
    "    params = pyelastix.get_default_params()\n",
    "    #params.MaximumNumberOfIterations = 1000\n",
    "    #params.FinalGridSpacingInVoxels = 5\n",
    "    #params.NumberOfResolutions = 30\n",
    "    params.Transform = 'AffineTransform'\n",
    "    \n",
    "    s = time.time()\n",
    "    mrns = df['Patient E Number'].dropna().astype(str).tolist()\n",
    "    print(\"Loading DCMs...\")\n",
    "    for cnt, mrn in enumerate(mrns):\n",
    "        subdir = base_dir+\"\\\\\"+mrn\n",
    "        art[mrn] = hf.dcm_load(subdir+r\"\\T1_AP\")\n",
    "        #pre[mrn] = hf.dcm_load(subdir+r\"\\T1_BL\")\n",
    "        #ven[mrn] = hf.dcm_load(subdir+r\"\\T1_VP\")\n",
    "        #equ[mrn] = hf.dcm_load(subdir+r\"\\T1_EQ\")\n",
    "        t2[mrn] = hf.dcm_load(subdir+r\"\\T2\")\n",
    "        \n",
    "        df_subset = df.loc[df['Patient E Number'].astype(str) == mrn]\n",
    "        \n",
    "        t2[mrn], scale, field = reg_imgs(moving=t2[mrn], fixed=art[mrn], params=params)\n",
    "        \n",
    "        img = np.transpose(np.stack((art[mrn], t2[mrn])), (1,2,3,0))\n",
    "\n",
    "        mask_file = base_dir + \"\\\\\" + mrn + r'\\00_segs\\liver.ids'\n",
    "        img, translations = apply_mask(img, mask_file)\n",
    "\n",
    "        nonzeros = np.nonzero(img)\n",
    "        if nonzeros.size == 0:\n",
    "            print(mrn)\n",
    "        minx, maxx = min(nonzeros[0]), max(nonzeros[0])\n",
    "        miny, maxy = min(nonzeros[1]), max(nonzeros[1])\n",
    "        minz, maxz = min(nonzeros[2]), max(nonzeros[2])\n",
    "        img = img[minx:maxx, miny:maxy, minz:maxz, :]\n",
    "\n",
    "        for _, row in df_subset.iterrows():\n",
    "            x = (int(row['x1']), int(row['x2']))\n",
    "            y = (int(row['y1']), int(row['y2']))\n",
    "            z = (int(row['z1']), int(row['z2']))\n",
    "            \n",
    "            if cls == \"cyst\":\n",
    "                x,y,z = reg_rois(x, y, z, scale, field)\n",
    "            \n",
    "            x = (x[0] - minx, x[1] - minx)\n",
    "            y = (y[0] - miny, y[1] - miny)\n",
    "            z = (z[0] - minz, z[1] - minz)\n",
    "            \n",
    "            y = flip_y(y,img)\n",
    "            z = flip_z(z,img)\n",
    "                \n",
    "            add_data(mrn, x, y, z, cls, base_dir)\n",
    "        \n",
    "            \n",
    "        print(\"%d out of %d MRNs loaded\" % (cnt+1, len(mrns)))\n",
    "    #validate_dims([t2, art], mrns)\n",
    "    print(\"Time to load dcms: %s\" % str(time.time() - s))\n",
    "    \n",
    "    #s = time.time()\n",
    "    #print(\"Time to mask, crop, load rois, and save .npy files: %s\" % str(time.time() - s))"
   ]
  },
  {
   "cell_type": "markdown",
   "metadata": {},
   "source": [
    "base_dir = r'raw_imgs\\simple_cysts'\n",
    "mrn = \"12229245\"\n",
    "subdir = base_dir+\"\\\\\"+mrn\n",
    "art[mrn] = hf.dcm_load(subdir+r\"\\T1_AP\")\n",
    "#pre[mrn] = hf.dcm_load(subdir+r\"\\T1_BL\")\n",
    "#ven[mrn] = hf.dcm_load(subdir+r\"\\T1_VP\")\n",
    "#equ[mrn] = hf.dcm_load(subdir+r\"\\T1_EQ\")\n",
    "t2[mrn] = hf.dcm_load(subdir+r\"\\T2\")\n",
    "t2[mrn], reg_scale = reg_imgs(moving=t2[mrn], fixed=art[mrn])\n",
    "img = np.transpose(np.stack((art[mrn], t2[mrn])), (1,2,3,0))\n",
    "\n",
    "mask_file = base_dir + \"\\\\\" + mrn + r'\\00_segs\\liver.ids'\n",
    "mask = get_mask(img.shape, mask_file)\n",
    "img[:,:,:,0][mask == 0] = 0\n",
    "\n",
    "nonzeros = np.nonzero(mask)\n",
    "try:\n",
    "    minx, maxx = min(nonzeros[0]), max(nonzeros[0])\n",
    "except:\n",
    "    print(mask_file)\n",
    "miny, maxy = min(nonzeros[1]), max(nonzeros[1])\n",
    "minz, maxz = min(nonzeros[2]), max(nonzeros[2])\n",
    "print(img.shape)\n",
    "print(\"Crop:\", minx, maxx, miny, maxy, minz, maxz)\n",
    "img = img[minx:maxx, miny:maxy, minz:maxz, :]\n",
    "\n",
    "#np.amax(art[\"12229245\"][0])\n",
    "#mask = get_mask(img.shape, \"raw_imgs\\simple_cysts\\12229245\\00_segs\\liver.ids\")"
   ]
  },
  {
   "cell_type": "code",
   "execution_count": null,
   "metadata": {
    "collapsed": true
   },
   "outputs": [],
   "source": []
  },
  {
   "cell_type": "code",
   "execution_count": null,
   "metadata": {
    "scrolled": true
   },
   "outputs": [
    {
     "name": "stdout",
     "output_type": "stream",
     "text": [
      "Loading DCMs...\n",
      "Found elastix version: 4.800 in 'c:\\\\program files\\\\elastix_v4.8\\\\elastix.exe'\n"
     ]
    }
   ],
   "source": [
    "#pre = {}\n",
    "art = {}\n",
    "#ven = {}\n",
    "#equ = {}\n",
    "t2 = {}\n",
    "rois = []\n",
    "\n",
    "base_dir = r'raw_imgs\\simple_cysts'\n",
    "df = pd.read_excel(r'raw_imgs\\Prototype1.xlsx', sheetname=\"Hepatic Cyst\")\n",
    "df = preprocess_df(df)\n",
    "load_imgs(df, base_dir=r'raw_imgs\\simple_cysts', cls='cyst')"
   ]
  },
  {
   "cell_type": "code",
   "execution_count": 168,
   "metadata": {},
   "outputs": [
    {
     "data": {
      "text/plain": [
       "(288, 224, 72)"
      ]
     },
     "execution_count": 168,
     "metadata": {},
     "output_type": "execute_result"
    }
   ],
   "source": [
    "field[0].shape"
   ]
  },
  {
   "cell_type": "code",
   "execution_count": 147,
   "metadata": {
    "scrolled": true
   },
   "outputs": [
    {
     "data": {
      "text/plain": [
       "[['12229245.npy', 83, 92, 62, 78, 54, 55, 'cyst'],\n",
       " ['12296182.npy', 55, 68, 45, 57, 61, 63, 'cyst']]"
      ]
     },
     "execution_count": 147,
     "metadata": {},
     "output_type": "execute_result"
    }
   ],
   "source": [
    "rois"
   ]
  },
  {
   "cell_type": "code",
   "execution_count": 107,
   "metadata": {},
   "outputs": [
    {
     "name": "stdout",
     "output_type": "stream",
     "text": [
      "Time to load dcms: 89.38664197921753\n",
      "Time to mask, crop, load rois, and save .npy files: 20.272308826446533\n"
     ]
    }
   ],
   "source": [
    "base_dir = r'raw_imgs\\OPTN5A'\n",
    "df = pd.read_excel(r'raw_imgs\\Prototype1.xlsx', sheetname=\"OPTN 5A\")\n",
    "df = preprocess_df(df)\n",
    "load_imgs(df, base_dir = r'raw_imgs\\OPTN5A', cls='hcc')"
   ]
  },
  {
   "cell_type": "code",
   "execution_count": 108,
   "metadata": {
    "collapsed": true
   },
   "outputs": [],
   "source": [
    "with open('train_list.txt', 'w') as f:\n",
    "    for roi in rois:\n",
    "        f.write(\",\".join([str(x) for x in roi]) + \"\\n\")"
   ]
  },
  {
   "cell_type": "code",
   "execution_count": 121,
   "metadata": {},
   "outputs": [],
   "source": []
  },
  {
   "cell_type": "code",
   "execution_count": null,
   "metadata": {
    "collapsed": true
   },
   "outputs": [],
   "source": []
  },
  {
   "cell_type": "code",
   "execution_count": null,
   "metadata": {
    "collapsed": true
   },
   "outputs": [],
   "source": []
  },
  {
   "cell_type": "code",
   "execution_count": null,
   "metadata": {
    "collapsed": true
   },
   "outputs": [],
   "source": []
  },
  {
   "cell_type": "code",
   "execution_count": null,
   "metadata": {
    "collapsed": true
   },
   "outputs": [],
   "source": []
  },
  {
   "cell_type": "code",
   "execution_count": null,
   "metadata": {
    "collapsed": true
   },
   "outputs": [],
   "source": [
    "def draw_fig(image_array, name):\n",
    "    \"\"\"Draw an image of type np array and save it to.\"\"\"\n",
    "\n",
    "    image_array = image_array[:,:,slice_index]\n",
    "    aspect = float(image_array.shape[1]) / image_array.shape[0]\n",
    "    w = 20\n",
    "    h = int(aspect * w)\n",
    "\n",
    "    image_array = np.rot90(image_array)\n",
    "\n",
    "    fig = plt.figure(frameon=False)\n",
    "    fig.set_size_inches(w,h)\n",
    "    ax = plt.Axes(fig, [0., 0., 1., 1.])\n",
    "    ax.set_axis_off()\n",
    "    fig.add_axes(ax)\n",
    "    ax.imshow(image_array, interpolation='bilinear', norm=cnorm, cmap=plt.cm.gray, aspect='auto')\n",
    "\n",
    "    img_fname = name + '.png'\n",
    "    plt.savefig(img_fname)\n",
    "    print('Segmentation saved as %s' % img_fname)"
   ]
  },
  {
   "cell_type": "code",
   "execution_count": null,
   "metadata": {
    "collapsed": true
   },
   "outputs": [],
   "source": [
    "def create_features(name, precontrast, arterial, liver_mask_file, tumor_mask_file, format_output, header_output, seg, slice_index):\n",
    "    diff = art_data - pre_data # Calculate the subtracted image.\n",
    "    diff[diff < 0] = 0.0  # The pre-contrast should never be more than the arterial. Clamp negative values to zero.\n",
    "\n",
    "    x, y, z = diff.shape\n",
    "\n",
    "    ##### Begin code for drawing specific mask slices. ######\n",
    "    cnorm = matplotlib.colors.Normalize(vmin=0, vmax=np.amax(diff))\n",
    "\n",
    "    draw_fig(diff, 'whole')\n",
    "\n",
    "    # Calculate the liver volume.\n",
    "    liver_volume = np.sum(liver) * pre_dimx * pre_dimy * pre_dimz\n",
    "    is_in_mm = pre_units == 2 or liver_volume > 10000\n",
    "    if is_in_mm: # 2 is the code for millimeter, we convert to cubic centimeters.\n",
    "        liver_volume /= 1000\n",
    "\n",
    "    tumor_volume = np.sum(tumor) * pre_dimx * pre_dimy * pre_dimz\n",
    "    if is_in_mm: # 2 is the code for millimeter, we convert to cubic centimeters.\n",
    "        tumor_volume /= 1000\n",
    "\n",
    "    mean_intensity = np.mean(diff[img > 0])\n",
    "    std_intensity = np.std(diff[img > 0])\n",
    "\n",
    "    # Calculate the volume of tumor that whose voxel intensities are greater than the mean liver intensity.\n",
    "    # Note this is NOT the same threshold as qEASL (which would need a parenchymal ROI in order to define the intensity threshold).\n",
    "    enhancing_tumor_volume = np.sum(tumor[just_tumor > mean_liver_intensity]) * pre_dimx * pre_dimy * pre_dimz\n",
    "    if is_in_mm: # 2 is the code for millimeter, we convert to cubic centimeters.\n",
    "        enhancing_tumor_volume /= 1000\n",
    "\n",
    "    headers = ['Name', 'Liver volume', 'Mean liver intensity', 'STD liver intensity', 'Tumor volume', 'Mean tumor intensity', 'STD tumor intensity', 'Enhancing tumor volume']\n",
    "    features = [name, liver_volume, mean_liver_intensity, std_liver_intensity, tumor_volume, mean_tumor_intensity, std_tumor_intensity, enhancing_tumor_volume]\n",
    "    if format_output == 'tabulate':\n",
    "        if header_output:\n",
    "            results = tabulate.tabulate([features], headers=headers)\n",
    "        else:\n",
    "            results = tabulate.tabulate([features])\n",
    "    else:\n",
    "        features_row = '\\t'.join(str(feature) for feature in features)\n",
    "        if header_output:\n",
    "            results = '\\t'.join(headers) + '\\n' + features_row\n",
    "        else:\n",
    "            results = features_row\n",
    "\n",
    "    print(results)"
   ]
  },
  {
   "cell_type": "code",
   "execution_count": null,
   "metadata": {
    "collapsed": true
   },
   "outputs": [],
   "source": []
  },
  {
   "cell_type": "code",
   "execution_count": null,
   "metadata": {
    "collapsed": true
   },
   "outputs": [],
   "source": [
    "def training_pipeline(pre_dcm_fns, post_dcm_fns, labels):\n",
    "    \"\"\"\n",
    "    pre_dcm_fn is the precontrast image, and post_dcm_fn is the postcontrast image\n",
    "    1. Import pre/20s DICOMs\n",
    "    2. Register pre to 20s\n",
    "    3. Segment whole liver\n",
    "    4. Obtain labels for HCC/non-HCC, as well as (HCC severity or survival?)\n",
    "    5. For HCC labels, calculate and store embeddings (feature values)\n",
    "    6. Train CNN on all\n",
    "    7. Train feature engineered network on HCC labels\n",
    "    \"\"\"\n",
    "    train_frac = 0.7\n",
    "    data_size = len(pre_dcm_fns)\n",
    "    \n",
    "    # TODO: do a proper k-fold x-validation split\n",
    "    X_cnn_train = X_cnn[:data_size*train_frac]\n",
    "    X_cnn_val = X_cnn[data_size*train_frac:]\n",
    "    \n",
    "    for x in range(data_size):\n",
    "        pre_dcm_fn = pre_dcm_fns[x]\n",
    "        post_dcm_fn = post_dcm_fn[x]\n",
    "        label = labels[x]\n",
    "        \n",
    "        pre_img = dcm_load(pre_dcm_fn)\n",
    "        post_img = dcm_load(post_dcm_fn)\n",
    "\n",
    "        pre_img = seg_liver(pre_img)\n",
    "        post_img = seg_liver(post_img)\n",
    "        \n",
    "        y_cnn = label['is-hcc']\n",
    "        label.pop('is-hcc')\n",
    "        X_cnn = [pre_img, post_img, label]\n",
    "        \n",
    "        \"\"\"if y_cnn:\n",
    "            features = get_features(pre_img, post_img, label)\n",
    "            \n",
    "            # rfm is random forest model\n",
    "            y_rfm = label\n",
    "            X_rfm = [pre_img, post_img, label]\"\"\""
   ]
  },
  {
   "cell_type": "markdown",
   "metadata": {},
   "source": [
    "# Overall approach\n",
    "This is a tool for classifying precontrast and 20s postcontrast MRIs (into LI-RADS stages / predicting survival?).\n",
    "\n",
    "#### Training\n",
    "-In mini-batches:\n",
    "1. Import pre/20s DICOMs\n",
    "2. Register pre to 20s\n",
    "3. Segment whole liver\n",
    "4. Obtain labels for HCC/non-HCC, as well as (HCC severity or survival?)\n",
    "5. For HCC labels, calculate and store embeddings (feature values)\n",
    "6. Train CNN on all\n",
    "\n",
    "-After CNN is trained, then:\n",
    "7. Train feature engineered network on HCC labels\n",
    "\n",
    "#### Test pipeline:\n",
    "1. Import pre/20s DICOMs\n",
    "2. Register pre to 20s\n",
    "3. Segment whole liver\n",
    "4. Use CNN to classify as HCC/non-HCC\n",
    "5. If HCC, calculate features values\n",
    "6. If HCC, use feature engineered network to predict label\n",
    "\n",
    "#### CNN models\n",
    "First, try VGGNet, then ResNet. Then try VAE-GAN, training on benign only; deviation score = malignancy."
   ]
  }
 ],
 "metadata": {
  "anaconda-cloud": {},
  "kernelspec": {
   "display_name": "Python 3",
   "language": "python",
   "name": "python3"
  },
  "language_info": {
   "codemirror_mode": {
    "name": "ipython",
    "version": 3
   },
   "file_extension": ".py",
   "mimetype": "text/x-python",
   "name": "python",
   "nbconvert_exporter": "python",
   "pygments_lexer": "ipython3",
   "version": "3.5.0"
  }
 },
 "nbformat": 4,
 "nbformat_minor": 1
}
