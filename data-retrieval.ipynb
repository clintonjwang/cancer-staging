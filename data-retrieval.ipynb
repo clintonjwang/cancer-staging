{
 "cells": [
  {
   "cell_type": "markdown",
   "metadata": {},
   "source": [
    "Retrieves images from \"raw_imgs\" folder and stores them in \"full_imgs\". Retrieves spreadsheet listing VOIs and stores them in text file."
   ]
  },
  {
   "cell_type": "code",
   "execution_count": 1,
   "metadata": {
    "collapsed": true
   },
   "outputs": [],
   "source": [
    "import helper_fxns as hf\n",
    "import transforms as tr\n",
    "import importlib\n",
    "import matplotlib.pyplot as plt\n",
    "import numpy as np\n",
    "import os\n",
    "import pandas as pd\n",
    "import pyelastix\n",
    "import requests\n",
    "import sys\n",
    "import time\n",
    "%matplotlib inline"
   ]
  },
  {
   "cell_type": "code",
   "execution_count": 42,
   "metadata": {
    "scrolled": true
   },
   "outputs": [
    {
     "data": {
      "text/plain": [
       "<module 'transforms' from 'C:\\\\Users\\\\Clinton\\\\Documents\\\\liver-mr-processor\\\\transforms.py'>"
      ]
     },
     "execution_count": 42,
     "metadata": {},
     "output_type": "execute_result"
    }
   ],
   "source": [
    "importlib.reload(hf)\n",
    "importlib.reload(tr)"
   ]
  },
  {
   "cell_type": "code",
   "execution_count": 68,
   "metadata": {
    "collapsed": true
   },
   "outputs": [],
   "source": [
    "def reg_imgs(moving, fixed, params, rescale_only=False):    \n",
    "    fshape = fixed.shape\n",
    "    mshape = moving.shape\n",
    "    scale = [fshape[i]/mshape[i] for i in range(3)]\n",
    "    moving = tr.scale3d(moving, scale)\n",
    "    \n",
    "    assert moving.shape == fixed.shape, (\"Shapes not aligned in reg_imgs\", moving.shape, fixed.shape)\n",
    "    \n",
    "    if not rescale_only:\n",
    "        moving = np.ascontiguousarray(moving).astype('float32')\n",
    "        fixed = np.ascontiguousarray(fixed).astype('float32')\n",
    "\n",
    "        moving, _ = pyelastix.register(moving, fixed, params, verbose=0)\n",
    "        _, field = pyelastix.register(fixed, moving, params, verbose=0)\n",
    "    \n",
    "    else:\n",
    "        field = [np.zeros(fixed.shape)]*3\n",
    "        \n",
    "    return moving, scale, field"
   ]
  },
  {
   "cell_type": "code",
   "execution_count": 84,
   "metadata": {
    "collapsed": true
   },
   "outputs": [],
   "source": [
    "def scale_rois(x, y, z, pre_reg_scale, field=None, post_reg_scale=None):\n",
    "    scale = pre_reg_scale\n",
    "    x = (round(x[0]*scale[0]), round(x[1]*scale[0]))\n",
    "    y = (round(y[0]*scale[1]), round(y[1]*scale[1]))\n",
    "    z = (round(z[0]*scale[2]), round(z[1]*scale[2]))\n",
    "    \n",
    "    if field is not None:\n",
    "        xroi_distortions = field[0][x[0]:x[1]+1, y[0]:y[1]+1, z[0]:z[1]+1]\n",
    "        yroi_distortions = field[1][x[0]:x[1]+1, y[0]:y[1]+1, z[0]:z[1]+1]\n",
    "        zroi_distortions = field[2][x[0]:x[1]+1, y[0]:y[1]+1, z[0]:z[1]+1]\n",
    "\n",
    "        x = (x[0] + int(np.amin(xroi_distortions[0,:,:])), x[1] + int(np.amax(xroi_distortions[-1,:,:])))\n",
    "        y = (y[0] + int(np.amin(yroi_distortions[:,0,:])), y[1] + int(np.amax(yroi_distortions[:,-1,:])))\n",
    "        z = (z[0] + int(np.amin(zroi_distortions[:,:,0])), z[1] + int(np.amax(zroi_distortions[:,:,-1])))\n",
    "    \n",
    "        scale = post_reg_scale\n",
    "        x = (round(x[0]*scale[0]), round(x[1]*scale[0]))\n",
    "        y = (round(y[0]*scale[1]), round(y[1]*scale[1]))\n",
    "        z = (round(z[0]*scale[2]), round(z[1]*scale[2]))\n",
    "    \n",
    "    return x, y, z"
   ]
  },
  {
   "cell_type": "code",
   "execution_count": 4,
   "metadata": {
    "collapsed": true
   },
   "outputs": [],
   "source": [
    "#mrn = '13064153'\n",
    "#roi = (148,157,132,144,38,44)\n",
    "#x=(roi[0], roi[1])\n",
    "#y=(roi[2], roi[3])\n",
    "#z=(roi[4], roi[5])"
   ]
  },
  {
   "cell_type": "code",
   "execution_count": 70,
   "metadata": {
    "collapsed": true
   },
   "outputs": [],
   "source": [
    "def add_roi(mrn, x, y, z, cls):\n",
    "    rois.append([str(mrn) + \".npy\", x[0], x[1], y[0], y[1], z[0], z[1], cls])\n",
    "\n",
    "def apply_mask(img, mask_file):\n",
    "    with open(mask_file, 'rb') as f:\n",
    "        mask = f.read()\n",
    "        mask = np.fromstring(mask, dtype='uint8')\n",
    "        mask = np.array(mask).reshape((img.shape[2], img.shape[1], img.shape[0]))\n",
    "        mask = np.transpose(mask, (2,1,0))\n",
    "        \n",
    "    img[:,:,:,0][mask == 0] = 0\n",
    "\n",
    "    return img"
   ]
  },
  {
   "cell_type": "code",
   "execution_count": 71,
   "metadata": {
    "collapsed": true
   },
   "outputs": [],
   "source": [
    "def preprocess_df(df):\n",
    "    \"\"\"Select only rows for this run. Collect MRNs and ROI coordinates.\"\"\"\n",
    "    df = df[(df['Run'] == 1) & (df['Image type'] == 'AP-T1')].dropna(subset=[\"x1\"])\n",
    "    return df.drop(set(df.columns).difference(['Patient E Number', \n",
    "          'x1', 'x2', 'y1', 'y2', 'z1', 'z2', 'Image type']), axis=1)"
   ]
  },
  {
   "cell_type": "code",
   "execution_count": 72,
   "metadata": {
    "collapsed": true
   },
   "outputs": [],
   "source": [
    "def load_imgs(df, base_dir, cls):\n",
    "    \"\"\"Create ROI file, apply whole liver mask, validate/scale dimensions\"\"\"\n",
    "\n",
    "    def validate_dims(imgs, mrns):\n",
    "        \"\"\"Validate that all series of the same MRN have the same dimensions.\n",
    "        Images formatted as list of dicts. Each dict is a different image channel, indexed by MRN.\"\"\"\n",
    "        for mrn in mrns:\n",
    "            for x in range(1,len(imgs)):\n",
    "                assert imgs[0][mrn].shape == imgs[x][mrn].shape, \"img %s has wrong shape\" % mrn\n",
    "                \n",
    "    pass"
   ]
  },
  {
   "cell_type": "code",
   "execution_count": 73,
   "metadata": {
    "collapsed": true
   },
   "outputs": [],
   "source": [
    "def rescale(img, target_dims, cur_dims):\n",
    "    vox_scale = [float(cur_dims[i]/target_dims[i]) for i in range(3)]\n",
    "    img = tr.scale3d(img, vox_scale)\n",
    "    \n",
    "    return img, vox_scale"
   ]
  },
  {
   "cell_type": "code",
   "execution_count": 112,
   "metadata": {
    "collapsed": true
   },
   "outputs": [],
   "source": [
    "#pre = {}\n",
    "art = {}\n",
    "#ven = {}\n",
    "#equ = {}\n",
    "t2 = {}\n",
    "field = {}\n",
    "rois = []\n",
    "\n",
    "base_dir = r'raw_imgs\\simple_cysts'\n",
    "cls='cyst'\n",
    "df = pd.read_excel(r'raw_imgs\\Prototype1CL.xlsx', sheetname=\"Hepatic Cyst\")\n",
    "df = preprocess_df(df)\n",
    "#load_imgs(df, base_dir=r'raw_imgs\\simple_cysts', cls='cyst')\n",
    "\n",
    "params = pyelastix.get_default_params(type=\"RIGID\")\n",
    "\n",
    "img_dir = \"full_imgs\"\n",
    "if not os.path.exists(img_dir):\n",
    "    os.makedirs(img_dir)"
   ]
  },
  {
   "cell_type": "code",
   "execution_count": 119,
   "metadata": {
    "scrolled": false
   },
   "outputs": [
    {
     "name": "stdout",
     "output_type": "stream",
     "text": [
      "Loading DCMs...\n",
      "[ 1.25  1.25  3.  ] (320, 260, 88)\n",
      "[1.5, 1.5, 4] (267, 217, 66, 2)\n",
      "13010227 1 out of 8 MRNs loaded\n",
      "Overall time: 11.173704624176025\n",
      "Time to load dcms: 10.022962093353271\n",
      "Time rescaling: 0.35659050941467285\n",
      "Time registering: 0.11527729034423828\n"
     ]
    }
   ],
   "source": [
    "print(\"Loading DCMs...\")\n",
    "mrns = list(set(df['Patient E Number'].dropna().astype(str).tolist()))\n",
    "s = time.time()\n",
    "target_dims = [1.5,1.5,4]\n",
    "rescale_time = 0\n",
    "load_time = 0\n",
    "reg_time = 0\n",
    "\n",
    "for cnt, mrn in enumerate([\"13010227\"]):\n",
    "    subdir = base_dir+\"\\\\\"+mrn\n",
    "    \n",
    "    t_load = time.time()\n",
    "    art[mrn], cur_dims = hf.dcm_load(subdir+r\"\\T1_AP\")\n",
    "    #pre[mrn] = hf.dcm_load(subdir+r\"\\T1_BL\")\n",
    "    #ven[mrn] = hf.dcm_load(subdir+r\"\\T1_VP\")\n",
    "    #equ[mrn] = hf.dcm_load(subdir+r\"\\T1_EQ\")\n",
    "    t2[mrn], _ = hf.dcm_load(subdir+r\"\\T2\")\n",
    "    load_time += time.time() - t_load\n",
    "    \n",
    "    df_subset = df.loc[df['Patient E Number'].astype(str) == mrn]\n",
    "\n",
    "    t_reg = time.time()\n",
    "    t2[mrn], reg_scale, field[mrn] = reg_imgs(moving=t2[mrn], fixed=art[mrn], params=params, rescale_only=True)\n",
    "    t2[mrn] = t2[mrn] * 255/np.amax(t2[mrn])\n",
    "    reg_time += time.time() - t_reg\n",
    "\n",
    "    img = np.transpose(np.stack((art[mrn], t2[mrn])), (1,2,3,0))\n",
    "\n",
    "    #mask_file = base_dir + \"\\\\\" + mrn + r'\\00_segs\\liver.ids'\n",
    "    #img = apply_mask(img, mask_file)\n",
    "\n",
    "    #nonzeros = np.nonzero(img)\n",
    "    #minx, maxx = min(nonzeros[0]), max(nonzeros[0])\n",
    "    #miny, maxy = min(nonzeros[1]), max(nonzeros[1])\n",
    "    #minz, maxz = min(nonzeros[2]), max(nonzeros[2])\n",
    "    #img = img[minx:maxx, miny:maxy, minz:maxz, :]\n",
    "\n",
    "    np.save(img_dir + \"\\\\\" + mrn, img)\n",
    "    \n",
    "    t_scale = time.time()\n",
    "    img, vox_scale = rescale(img, target_dims, cur_dims)\n",
    "    rescale_time += time.time() - t_scale\n",
    "    \n",
    "    print(cur_dims, art[mrn].shape)\n",
    "    print(target_dims, img.shape)\n",
    "    \n",
    "    for _, row in df_subset.iterrows():\n",
    "        x = (int(row['x1']), int(row['x2']))\n",
    "        y = (int(row['y1']), int(row['y2']))\n",
    "        z = (int(row['z1']), int(row['z2']))\n",
    "        \n",
    "        t_scale = time.time()\n",
    "        #if cls == \"cyst\":\n",
    "        #    x,y,z = scale_rois(x, y, z, reg_scale, field[mrn], vox_scale)\n",
    "        #else:\n",
    "        x,y,z = scale_rois(x, y, z, vox_scale)\n",
    "        rescale_time += time.time() - t_scale\n",
    "\n",
    "        y = (img.shape[1]-y[1], img.shape[1]-y[0]) # flip y\n",
    "        z = (img.shape[2]-z[1], img.shape[2]-z[0]) # flip z\n",
    "\n",
    "        #x = (x[0] - minx, x[1] - minx)\n",
    "        #y = (y[0] - miny, y[1] - miny)\n",
    "        #z = (z[0] - minz, z[1] - minz)\n",
    "\n",
    "        add_roi(mrn, x,y,z, cls)\n",
    "\n",
    "    print(mrn, \"%d out of %d MRNs loaded\" % (cnt+1, len(mrns)))\n",
    "#validate_dims([t2, art], mrns)\n",
    "print(\"Overall time: %s\" % str(time.time() - s))\n",
    "print(\"Time to load dcms: %s\" % str(load_time))\n",
    "print(\"Time rescaling: %s\" % str(rescale_time))\n",
    "print(\"Time registering: %s\" % str(reg_time))\n",
    "\n",
    "#s = time.time()\n",
    "#print(\"Time to mask, crop, load rois, and save .npy files: %s\" % str(time.time() - s))"
   ]
  },
  {
   "cell_type": "code",
   "execution_count": 113,
   "metadata": {
    "collapsed": true,
    "scrolled": false
   },
   "outputs": [],
   "source": [
    "base_dir = r'raw_imgs\\OPTN5A'\n",
    "cls='hcc'\n",
    "df = pd.read_excel(r'raw_imgs\\Prototype1CL.xlsx', sheetname=\"OPTN 5A\")\n",
    "df = preprocess_df(df)\n",
    "#load_imgs(df, base_dir = r'raw_imgs\\OPTN5A', cls='hcc')"
   ]
  },
  {
   "cell_type": "code",
   "execution_count": 103,
   "metadata": {},
   "outputs": [
    {
     "name": "stdout",
     "output_type": "stream",
     "text": [
      "Loading DCMs...\n",
      "12905568 1 out of 8 MRNs loaded\n",
      "13010227 2 out of 8 MRNs loaded\n",
      "E101047106 3 out of 8 MRNs loaded\n",
      "12972894 4 out of 8 MRNs loaded\n",
      "E104657225 5 out of 8 MRNs loaded\n",
      "E103599300 6 out of 8 MRNs loaded\n",
      "E105152534 7 out of 8 MRNs loaded\n",
      "13064153 8 out of 8 MRNs loaded\n",
      "Overall time: 82.75778675079346\n",
      "Time to load dcms: 73.75834655761719\n",
      "Time rescaling: 2.7530956268310547\n",
      "Time registering: 0.7827937602996826\n"
     ]
    }
   ],
   "source": []
  },
  {
   "cell_type": "code",
   "execution_count": 45,
   "metadata": {
    "collapsed": true
   },
   "outputs": [],
   "source": [
    "# rois = np.unique(rois, axis=0)\n",
    "#with open('train_list.txt', 'w') as f:\n",
    "#    for roi in rois:\n",
    "#        f.write(\",\".join([str(x) for x in roi]) + \"\\n\")"
   ]
  },
  {
   "cell_type": "code",
   "execution_count": 120,
   "metadata": {
    "collapsed": true
   },
   "outputs": [],
   "source": [
    "voi_df = pd.DataFrame(rois, columns = [\"Filename\", \"x1\", \"x2\", \"y1\", \"y2\", \"z1\", \"z2\", \"cls\"]).dropna()\n",
    "voi_df = voi_df.astype({\"x1\": int, \"x2\": int, \"y1\": int, \"y2\": int, \"z1\": int, \"z2\": int})\n",
    "voi_df['dx'] = voi_df.apply(lambda row: row['x2'] - row['x1'], axis=1)\n",
    "voi_df['dy'] = voi_df.apply(lambda row: row['y2'] - row['y1'], axis=1)\n",
    "voi_df['dz'] = voi_df.apply(lambda row: row['z2'] - row['z1'], axis=1)"
   ]
  },
  {
   "cell_type": "code",
   "execution_count": 27,
   "metadata": {
    "collapsed": true
   },
   "outputs": [],
   "source": [
    "voi_df.to_csv('vois.csv', index=False)"
   ]
  },
  {
   "cell_type": "code",
   "execution_count": 89,
   "metadata": {
    "collapsed": true
   },
   "outputs": [],
   "source": [
    "def plot_section(img, df, pad=30):\n",
    "    plt.subplot(121)\n",
    "    plt.imshow(np.transpose(img[df['x1']-pad:df['x2']+pad,\n",
    "                                df['y2']+pad:df['y1']-pad:-1,\n",
    "                                (df['z1']+df['z2'])//2, 0], (1,0)), cmap='gray')\n",
    "    plt.subplot(122)\n",
    "    plt.imshow(np.transpose(img[df['x1']-pad:df['x2']+pad,\n",
    "                                df['y2']+pad:df['y1']-pad:-1,\n",
    "                                (df['z1']+df['z2'])//2, 1], (1,0)), cmap='gray')\n",
    "\n",
    "def plot_section_xyz(img, x,y,z, pad=30):\n",
    "    plt.subplot(121)\n",
    "    plt.imshow(np.transpose(img[x[0]-pad:x[1]+pad, y[1]+pad:y[0]-pad:-1, (z[0]+z[1])//2,0], (1,0)), cmap='gray')\n",
    "    plt.subplot(122)\n",
    "    plt.imshow(np.transpose(img[x[0]-pad:x[1]+pad, y[1]+pad:y[0]-pad:-1, (z[0]+z[1])//2,1], (1,0)), cmap='gray')\n",
    "    \n",
    "\n",
    "def plot_section_mrn(mrn,x,y,z, pad=30):\n",
    "    plt.subplot(211)\n",
    "    plt.imshow(np.transpose(art[mrn][x[0]-pad:x[1]+pad, y[1]+pad:y[0]-pad:-1, (z[0]+z[1])//2], (1,0)), cmap='gray')\n",
    "    plt.subplot(212)\n",
    "    plt.imshow(np.transpose(t2[mrn][x[0]-pad:x[1]+pad, y[1]+pad:y[0]-pad:-1, (z[0]+z[1])//2], (1,0)), cmap='gray')"
   ]
  },
  {
   "cell_type": "code",
   "execution_count": 121,
   "metadata": {
    "collapsed": true
   },
   "outputs": [],
   "source": [
    "img_fn = \"13010227.npy\"\n",
    "img = np.load(\"full_imgs\\\\\"+img_fn)"
   ]
  },
  {
   "cell_type": "code",
   "execution_count": 122,
   "metadata": {},
   "outputs": [
    {
     "data": {
      "image/png": "[encoded data removed]",
      "text/plain": [
       "<matplotlib.figure.Figure at 0x1aac1241710>"
      ]
     },
     "metadata": {},
     "output_type": "display_data"
    }
   ],
   "source": [
    "plot_section(img, voi_df[voi_df[\"Filename\"] == img_fn].iloc[0], pad=20)"
   ]
  },
  {
   "cell_type": "code",
   "execution_count": 94,
   "metadata": {},
   "outputs": [
    {
     "data": {
      "image/png": "[encoded data removed]",
      "text/plain": [
       "<matplotlib.figure.Figure at 0x1aac154e198>"
      ]
     },
     "metadata": {},
     "output_type": "display_data"
    }
   ],
   "source": [
    "plot_section_xyz(img, (89,109), (138,158), (41,50), pad=10)"
   ]
  },
  {
   "cell_type": "code",
   "execution_count": 93,
   "metadata": {},
   "outputs": [
    {
     "data": {
      "text/html": [
       "<div>\n",
       "<style>\n",
       "    .dataframe thead tr:only-child th {\n",
       "        text-align: right;\n",
       "    }\n",
       "\n",
       "    .dataframe thead th {\n",
       "        text-align: left;\n",
       "    }\n",
       "\n",
       "    .dataframe tbody tr th {\n",
       "        vertical-align: top;\n",
       "    }\n",
       "</style>\n",
       "<table border=\"1\" class=\"dataframe\">\n",
       "  <thead>\n",
       "    <tr style=\"text-align: right;\">\n",
       "      <th></th>\n",
       "      <th>Filename</th>\n",
       "      <th>x1</th>\n",
       "      <th>x2</th>\n",
       "      <th>y1</th>\n",
       "      <th>y2</th>\n",
       "      <th>z1</th>\n",
       "      <th>z2</th>\n",
       "      <th>cls</th>\n",
       "      <th>dx</th>\n",
       "      <th>dy</th>\n",
       "      <th>dz</th>\n",
       "    </tr>\n",
       "  </thead>\n",
       "  <tbody>\n",
       "    <tr>\n",
       "      <th>0</th>\n",
       "      <td>13010227.npy</td>\n",
       "      <td>62</td>\n",
       "      <td>76</td>\n",
       "      <td>96</td>\n",
       "      <td>110</td>\n",
       "      <td>28</td>\n",
       "      <td>34</td>\n",
       "      <td>hcc</td>\n",
       "      <td>14</td>\n",
       "      <td>14</td>\n",
       "      <td>6</td>\n",
       "    </tr>\n",
       "  </tbody>\n",
       "</table>\n",
       "</div>"
      ],
      "text/plain": [
       "       Filename  x1  x2  y1   y2  z1  z2  cls  dx  dy  dz\n",
       "0  13010227.npy  62  76  96  110  28  34  hcc  14  14   6"
      ]
     },
     "execution_count": 93,
     "metadata": {},
     "output_type": "execute_result"
    }
   ],
   "source": [
    "voi_df[voi_df[\"Filename\"] == img_fn]"
   ]
  },
  {
   "cell_type": "code",
   "execution_count": null,
   "metadata": {
    "collapsed": true
   },
   "outputs": [],
   "source": []
  }
 ],
 "metadata": {
  "anaconda-cloud": {},
  "kernelspec": {
   "display_name": "Python 3",
   "language": "python",
   "name": "python3"
  },
  "language_info": {
   "codemirror_mode": {
    "name": "ipython",
    "version": 3
   },
   "file_extension": ".py",
   "mimetype": "text/x-python",
   "name": "python",
   "nbconvert_exporter": "python",
   "pygments_lexer": "ipython3",
   "version": "3.5.0"
  }
 },
 "nbformat": 4,
 "nbformat_minor": 1
}
